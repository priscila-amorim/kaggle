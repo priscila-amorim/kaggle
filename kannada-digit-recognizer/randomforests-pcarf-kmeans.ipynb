{
 "cells": [
  {
   "cell_type": "markdown",
   "metadata": {},
   "source": [
    "# Kannada MNIST Kaggle Competition\n",
    "#### Bored of MNIST?\n",
    "The goal of this competition is to provide a simple extension to the classic MNIST competition we're all familiar with. Instead of using Arabic numerals, it uses a recently-released dataset of Kannada digits.    \n",
    "\n",
    "Kannada is a language spoken predominantly by people of Karnataka in southwestern India. The language has roughly 45 million native speakers and is written using the Kannada script.   \n",
    "![kannada](kannada.png)\n",
    "\n",
    "This competition uses the same format as the MNIST competition in terms of how the data is structured, but it's different in that it is a synchronous re-run Kernels competition. You write your code in a Kaggle Notebook, and when you submit the results, your code is scored on both the public test set, as well as a private (unseen) test set."
   ]
  },
  {
   "cell_type": "markdown",
   "metadata": {},
   "source": [
    "# Requirements\n",
    "1) Fit a random forest classifier using the full set of explanatory variables and the model training set (csv).  \n",
    "2) Record the time it takes to fit the model and then evaluate the model on the csv data by submitting it to Kaggle.com. Provide your Kaggle.com score and user ID.  \n",
    "3) Execute principal components analysis (PCA) on the combined training and test set data together, generating principal components that represent 95 percent of the variability in the explanatory variables. The number of principal components in the solution should be substantially fewer than the explanatory variables.  \n",
    "4) Record the time it takes to identify the principal components.  \n",
    "5) Using the identified principal components from step (3), use the csv to build another random forest classifier.   \n",
    "6) Record the time it takes to fit the model and to evaluate the model on the csv data by submitting to Kaggle.com. Provide your Kaggle.com score and user ID.  \n",
    "7) Use k-means clustering to group MNIST observations into 1 of 10 categories and then assign labels. (Follow the example here if needed: kmeans mnist.pdf).  \n",
    "8) Submit the RF Classifier, the PCA RF, and k-means estimations to Kaggle.com, and provide screen snapshots of your scores as well as your Kaggle.com user name.  \n",
    "9) The experiment we have proposed has a major design flaw. Identify the flaw. Fix it. Rerun the experiment in a way that is consistent with a training-and-test regimen, and submit this to Kaggle.com.     \n",
    "\n",
    "Report total elapsed time measures for the training set analysis. It is sufficient to run a single time-elapsed test for this assignment. In practice, we might consider the possibility of repeated executions of the relevant portions of the programs, much as the Benchmark Example programs do. Some code that might help you with reporting elapsed total time follows.  \n",
    "`start=datetime.now()\n",
    "rf2.fit(trainimages,labels)\n",
    "end=datetime.now()\n",
    "print(end-start)`"
   ]
  },
  {
   "cell_type": "markdown",
   "metadata": {},
   "source": [
    "## Data Loading and Preparation"
   ]
  },
  {
   "cell_type": "code",
   "execution_count": 1,
   "metadata": {},
   "outputs": [],
   "source": [
    "# import modules\n",
    "import pandas as pd\n",
    "import matplotlib.pyplot as plt\n",
    "import matplotlib.gridspec as gridspec\n",
    "import seaborn as sns\n",
    "import re\n",
    "import numpy as np\n",
    "from datetime import datetime\n",
    "from sklearn.preprocessing import StandardScaler\n",
    "from sklearn.decomposition import PCA\n",
    "from sklearn.model_selection import train_test_split\n",
    "from sklearn.model_selection import GridSearchCV\n",
    "from sklearn.metrics import classification_report, confusion_matrix, accuracy_score, homogeneity_score\n",
    "from sklearn.ensemble import RandomForestClassifier\n",
    "from sklearn.model_selection import RepeatedStratifiedKFold\n",
    "from sklearn.cluster import MiniBatchKMeans\n",
    "\n",
    "# Figures inline and set visualization style\n",
    "%matplotlib inline\n",
    "sns.set()\n",
    "\n",
    "# setting seed to control for randomness\n",
    "np.random.seed(42)"
   ]
  },
  {
   "cell_type": "code",
   "execution_count": 2,
   "metadata": {},
   "outputs": [
    {
     "data": {
      "text/html": [
       "<div>\n",
       "<style scoped>\n",
       "    .dataframe tbody tr th:only-of-type {\n",
       "        vertical-align: middle;\n",
       "    }\n",
       "\n",
       "    .dataframe tbody tr th {\n",
       "        vertical-align: top;\n",
       "    }\n",
       "\n",
       "    .dataframe thead th {\n",
       "        text-align: right;\n",
       "    }\n",
       "</style>\n",
       "<table border=\"1\" class=\"dataframe\">\n",
       "  <thead>\n",
       "    <tr style=\"text-align: right;\">\n",
       "      <th></th>\n",
       "      <th>label</th>\n",
       "      <th>pixel0</th>\n",
       "      <th>pixel1</th>\n",
       "      <th>pixel2</th>\n",
       "      <th>pixel3</th>\n",
       "      <th>pixel4</th>\n",
       "      <th>pixel5</th>\n",
       "      <th>pixel6</th>\n",
       "      <th>pixel7</th>\n",
       "      <th>pixel8</th>\n",
       "      <th>...</th>\n",
       "      <th>pixel774</th>\n",
       "      <th>pixel775</th>\n",
       "      <th>pixel776</th>\n",
       "      <th>pixel777</th>\n",
       "      <th>pixel778</th>\n",
       "      <th>pixel779</th>\n",
       "      <th>pixel780</th>\n",
       "      <th>pixel781</th>\n",
       "      <th>pixel782</th>\n",
       "      <th>pixel783</th>\n",
       "    </tr>\n",
       "  </thead>\n",
       "  <tbody>\n",
       "    <tr>\n",
       "      <th>0</th>\n",
       "      <td>0</td>\n",
       "      <td>0</td>\n",
       "      <td>0</td>\n",
       "      <td>0</td>\n",
       "      <td>0</td>\n",
       "      <td>0</td>\n",
       "      <td>0</td>\n",
       "      <td>0</td>\n",
       "      <td>0</td>\n",
       "      <td>0</td>\n",
       "      <td>...</td>\n",
       "      <td>0</td>\n",
       "      <td>0</td>\n",
       "      <td>0</td>\n",
       "      <td>0</td>\n",
       "      <td>0</td>\n",
       "      <td>0</td>\n",
       "      <td>0</td>\n",
       "      <td>0</td>\n",
       "      <td>0</td>\n",
       "      <td>0</td>\n",
       "    </tr>\n",
       "    <tr>\n",
       "      <th>1</th>\n",
       "      <td>1</td>\n",
       "      <td>0</td>\n",
       "      <td>0</td>\n",
       "      <td>0</td>\n",
       "      <td>0</td>\n",
       "      <td>0</td>\n",
       "      <td>0</td>\n",
       "      <td>0</td>\n",
       "      <td>0</td>\n",
       "      <td>0</td>\n",
       "      <td>...</td>\n",
       "      <td>0</td>\n",
       "      <td>0</td>\n",
       "      <td>0</td>\n",
       "      <td>0</td>\n",
       "      <td>0</td>\n",
       "      <td>0</td>\n",
       "      <td>0</td>\n",
       "      <td>0</td>\n",
       "      <td>0</td>\n",
       "      <td>0</td>\n",
       "    </tr>\n",
       "    <tr>\n",
       "      <th>2</th>\n",
       "      <td>2</td>\n",
       "      <td>0</td>\n",
       "      <td>0</td>\n",
       "      <td>0</td>\n",
       "      <td>0</td>\n",
       "      <td>0</td>\n",
       "      <td>0</td>\n",
       "      <td>0</td>\n",
       "      <td>0</td>\n",
       "      <td>0</td>\n",
       "      <td>...</td>\n",
       "      <td>0</td>\n",
       "      <td>0</td>\n",
       "      <td>0</td>\n",
       "      <td>0</td>\n",
       "      <td>0</td>\n",
       "      <td>0</td>\n",
       "      <td>0</td>\n",
       "      <td>0</td>\n",
       "      <td>0</td>\n",
       "      <td>0</td>\n",
       "    </tr>\n",
       "    <tr>\n",
       "      <th>3</th>\n",
       "      <td>3</td>\n",
       "      <td>0</td>\n",
       "      <td>0</td>\n",
       "      <td>0</td>\n",
       "      <td>0</td>\n",
       "      <td>0</td>\n",
       "      <td>0</td>\n",
       "      <td>0</td>\n",
       "      <td>0</td>\n",
       "      <td>0</td>\n",
       "      <td>...</td>\n",
       "      <td>0</td>\n",
       "      <td>0</td>\n",
       "      <td>0</td>\n",
       "      <td>0</td>\n",
       "      <td>0</td>\n",
       "      <td>0</td>\n",
       "      <td>0</td>\n",
       "      <td>0</td>\n",
       "      <td>0</td>\n",
       "      <td>0</td>\n",
       "    </tr>\n",
       "    <tr>\n",
       "      <th>4</th>\n",
       "      <td>4</td>\n",
       "      <td>0</td>\n",
       "      <td>0</td>\n",
       "      <td>0</td>\n",
       "      <td>0</td>\n",
       "      <td>0</td>\n",
       "      <td>0</td>\n",
       "      <td>0</td>\n",
       "      <td>0</td>\n",
       "      <td>0</td>\n",
       "      <td>...</td>\n",
       "      <td>0</td>\n",
       "      <td>0</td>\n",
       "      <td>0</td>\n",
       "      <td>0</td>\n",
       "      <td>0</td>\n",
       "      <td>0</td>\n",
       "      <td>0</td>\n",
       "      <td>0</td>\n",
       "      <td>0</td>\n",
       "      <td>0</td>\n",
       "    </tr>\n",
       "  </tbody>\n",
       "</table>\n",
       "<p>5 rows × 785 columns</p>\n",
       "</div>"
      ],
      "text/plain": [
       "   label  pixel0  pixel1  pixel2  pixel3  pixel4  pixel5  pixel6  pixel7  \\\n",
       "0      0       0       0       0       0       0       0       0       0   \n",
       "1      1       0       0       0       0       0       0       0       0   \n",
       "2      2       0       0       0       0       0       0       0       0   \n",
       "3      3       0       0       0       0       0       0       0       0   \n",
       "4      4       0       0       0       0       0       0       0       0   \n",
       "\n",
       "   pixel8  ...  pixel774  pixel775  pixel776  pixel777  pixel778  pixel779  \\\n",
       "0       0  ...         0         0         0         0         0         0   \n",
       "1       0  ...         0         0         0         0         0         0   \n",
       "2       0  ...         0         0         0         0         0         0   \n",
       "3       0  ...         0         0         0         0         0         0   \n",
       "4       0  ...         0         0         0         0         0         0   \n",
       "\n",
       "   pixel780  pixel781  pixel782  pixel783  \n",
       "0         0         0         0         0  \n",
       "1         0         0         0         0  \n",
       "2         0         0         0         0  \n",
       "3         0         0         0         0  \n",
       "4         0         0         0         0  \n",
       "\n",
       "[5 rows x 785 columns]"
      ]
     },
     "execution_count": 2,
     "metadata": {},
     "output_type": "execute_result"
    }
   ],
   "source": [
    "# import train data\n",
    "train = pd.read_csv(\"train.csv\")\n",
    "train.head()"
   ]
  },
  {
   "cell_type": "markdown",
   "metadata": {},
   "source": [
    "Since there's no way to submit to Kaggle (the competition is closed), I'll use the csv file called `Dig-MNIST.csv` to evaluate our model. We'll make this our new test set."
   ]
  },
  {
   "cell_type": "code",
   "execution_count": 3,
   "metadata": {},
   "outputs": [
    {
     "data": {
      "text/html": [
       "<div>\n",
       "<style scoped>\n",
       "    .dataframe tbody tr th:only-of-type {\n",
       "        vertical-align: middle;\n",
       "    }\n",
       "\n",
       "    .dataframe tbody tr th {\n",
       "        vertical-align: top;\n",
       "    }\n",
       "\n",
       "    .dataframe thead th {\n",
       "        text-align: right;\n",
       "    }\n",
       "</style>\n",
       "<table border=\"1\" class=\"dataframe\">\n",
       "  <thead>\n",
       "    <tr style=\"text-align: right;\">\n",
       "      <th></th>\n",
       "      <th>label</th>\n",
       "      <th>pixel0</th>\n",
       "      <th>pixel1</th>\n",
       "      <th>pixel2</th>\n",
       "      <th>pixel3</th>\n",
       "      <th>pixel4</th>\n",
       "      <th>pixel5</th>\n",
       "      <th>pixel6</th>\n",
       "      <th>pixel7</th>\n",
       "      <th>pixel8</th>\n",
       "      <th>...</th>\n",
       "      <th>pixel774</th>\n",
       "      <th>pixel775</th>\n",
       "      <th>pixel776</th>\n",
       "      <th>pixel777</th>\n",
       "      <th>pixel778</th>\n",
       "      <th>pixel779</th>\n",
       "      <th>pixel780</th>\n",
       "      <th>pixel781</th>\n",
       "      <th>pixel782</th>\n",
       "      <th>pixel783</th>\n",
       "    </tr>\n",
       "  </thead>\n",
       "  <tbody>\n",
       "    <tr>\n",
       "      <th>0</th>\n",
       "      <td>0</td>\n",
       "      <td>0</td>\n",
       "      <td>0</td>\n",
       "      <td>0</td>\n",
       "      <td>0</td>\n",
       "      <td>0</td>\n",
       "      <td>0</td>\n",
       "      <td>0</td>\n",
       "      <td>0</td>\n",
       "      <td>0</td>\n",
       "      <td>...</td>\n",
       "      <td>0</td>\n",
       "      <td>0</td>\n",
       "      <td>0</td>\n",
       "      <td>0</td>\n",
       "      <td>0</td>\n",
       "      <td>0</td>\n",
       "      <td>0</td>\n",
       "      <td>0</td>\n",
       "      <td>0</td>\n",
       "      <td>0</td>\n",
       "    </tr>\n",
       "    <tr>\n",
       "      <th>1</th>\n",
       "      <td>1</td>\n",
       "      <td>0</td>\n",
       "      <td>0</td>\n",
       "      <td>0</td>\n",
       "      <td>0</td>\n",
       "      <td>0</td>\n",
       "      <td>0</td>\n",
       "      <td>0</td>\n",
       "      <td>0</td>\n",
       "      <td>0</td>\n",
       "      <td>...</td>\n",
       "      <td>0</td>\n",
       "      <td>0</td>\n",
       "      <td>0</td>\n",
       "      <td>0</td>\n",
       "      <td>0</td>\n",
       "      <td>0</td>\n",
       "      <td>0</td>\n",
       "      <td>0</td>\n",
       "      <td>0</td>\n",
       "      <td>0</td>\n",
       "    </tr>\n",
       "    <tr>\n",
       "      <th>2</th>\n",
       "      <td>2</td>\n",
       "      <td>0</td>\n",
       "      <td>0</td>\n",
       "      <td>0</td>\n",
       "      <td>0</td>\n",
       "      <td>0</td>\n",
       "      <td>0</td>\n",
       "      <td>0</td>\n",
       "      <td>0</td>\n",
       "      <td>0</td>\n",
       "      <td>...</td>\n",
       "      <td>0</td>\n",
       "      <td>0</td>\n",
       "      <td>0</td>\n",
       "      <td>0</td>\n",
       "      <td>0</td>\n",
       "      <td>0</td>\n",
       "      <td>0</td>\n",
       "      <td>0</td>\n",
       "      <td>0</td>\n",
       "      <td>0</td>\n",
       "    </tr>\n",
       "    <tr>\n",
       "      <th>3</th>\n",
       "      <td>3</td>\n",
       "      <td>0</td>\n",
       "      <td>0</td>\n",
       "      <td>0</td>\n",
       "      <td>0</td>\n",
       "      <td>0</td>\n",
       "      <td>0</td>\n",
       "      <td>0</td>\n",
       "      <td>0</td>\n",
       "      <td>0</td>\n",
       "      <td>...</td>\n",
       "      <td>0</td>\n",
       "      <td>0</td>\n",
       "      <td>0</td>\n",
       "      <td>0</td>\n",
       "      <td>0</td>\n",
       "      <td>0</td>\n",
       "      <td>0</td>\n",
       "      <td>0</td>\n",
       "      <td>0</td>\n",
       "      <td>0</td>\n",
       "    </tr>\n",
       "    <tr>\n",
       "      <th>4</th>\n",
       "      <td>4</td>\n",
       "      <td>0</td>\n",
       "      <td>0</td>\n",
       "      <td>0</td>\n",
       "      <td>0</td>\n",
       "      <td>0</td>\n",
       "      <td>0</td>\n",
       "      <td>0</td>\n",
       "      <td>0</td>\n",
       "      <td>0</td>\n",
       "      <td>...</td>\n",
       "      <td>0</td>\n",
       "      <td>0</td>\n",
       "      <td>0</td>\n",
       "      <td>0</td>\n",
       "      <td>0</td>\n",
       "      <td>0</td>\n",
       "      <td>0</td>\n",
       "      <td>0</td>\n",
       "      <td>0</td>\n",
       "      <td>0</td>\n",
       "    </tr>\n",
       "  </tbody>\n",
       "</table>\n",
       "<p>5 rows × 785 columns</p>\n",
       "</div>"
      ],
      "text/plain": [
       "   label  pixel0  pixel1  pixel2  pixel3  pixel4  pixel5  pixel6  pixel7  \\\n",
       "0      0       0       0       0       0       0       0       0       0   \n",
       "1      1       0       0       0       0       0       0       0       0   \n",
       "2      2       0       0       0       0       0       0       0       0   \n",
       "3      3       0       0       0       0       0       0       0       0   \n",
       "4      4       0       0       0       0       0       0       0       0   \n",
       "\n",
       "   pixel8  ...  pixel774  pixel775  pixel776  pixel777  pixel778  pixel779  \\\n",
       "0       0  ...         0         0         0         0         0         0   \n",
       "1       0  ...         0         0         0         0         0         0   \n",
       "2       0  ...         0         0         0         0         0         0   \n",
       "3       0  ...         0         0         0         0         0         0   \n",
       "4       0  ...         0         0         0         0         0         0   \n",
       "\n",
       "   pixel780  pixel781  pixel782  pixel783  \n",
       "0         0         0         0         0  \n",
       "1         0         0         0         0  \n",
       "2         0         0         0         0  \n",
       "3         0         0         0         0  \n",
       "4         0         0         0         0  \n",
       "\n",
       "[5 rows x 785 columns]"
      ]
     },
     "execution_count": 3,
     "metadata": {},
     "output_type": "execute_result"
    }
   ],
   "source": [
    "# import test data\n",
    "test = pd.read_csv(\"Dig-MNIST.csv\")\n",
    "test.head()"
   ]
  },
  {
   "cell_type": "code",
   "execution_count": 4,
   "metadata": {},
   "outputs": [
    {
     "data": {
      "text/html": [
       "<div>\n",
       "<style scoped>\n",
       "    .dataframe tbody tr th:only-of-type {\n",
       "        vertical-align: middle;\n",
       "    }\n",
       "\n",
       "    .dataframe tbody tr th {\n",
       "        vertical-align: top;\n",
       "    }\n",
       "\n",
       "    .dataframe thead th {\n",
       "        text-align: right;\n",
       "    }\n",
       "</style>\n",
       "<table border=\"1\" class=\"dataframe\">\n",
       "  <thead>\n",
       "    <tr style=\"text-align: right;\">\n",
       "      <th></th>\n",
       "      <th>pixel0</th>\n",
       "      <th>pixel1</th>\n",
       "      <th>pixel2</th>\n",
       "      <th>pixel3</th>\n",
       "      <th>pixel4</th>\n",
       "      <th>pixel5</th>\n",
       "      <th>pixel6</th>\n",
       "      <th>pixel7</th>\n",
       "      <th>pixel8</th>\n",
       "      <th>pixel9</th>\n",
       "      <th>...</th>\n",
       "      <th>pixel774</th>\n",
       "      <th>pixel775</th>\n",
       "      <th>pixel776</th>\n",
       "      <th>pixel777</th>\n",
       "      <th>pixel778</th>\n",
       "      <th>pixel779</th>\n",
       "      <th>pixel780</th>\n",
       "      <th>pixel781</th>\n",
       "      <th>pixel782</th>\n",
       "      <th>pixel783</th>\n",
       "    </tr>\n",
       "  </thead>\n",
       "  <tbody>\n",
       "    <tr>\n",
       "      <th>0</th>\n",
       "      <td>0</td>\n",
       "      <td>0</td>\n",
       "      <td>0</td>\n",
       "      <td>0</td>\n",
       "      <td>0</td>\n",
       "      <td>0</td>\n",
       "      <td>0</td>\n",
       "      <td>0</td>\n",
       "      <td>0</td>\n",
       "      <td>0</td>\n",
       "      <td>...</td>\n",
       "      <td>0</td>\n",
       "      <td>0</td>\n",
       "      <td>0</td>\n",
       "      <td>0</td>\n",
       "      <td>0</td>\n",
       "      <td>0</td>\n",
       "      <td>0</td>\n",
       "      <td>0</td>\n",
       "      <td>0</td>\n",
       "      <td>0</td>\n",
       "    </tr>\n",
       "    <tr>\n",
       "      <th>1</th>\n",
       "      <td>0</td>\n",
       "      <td>0</td>\n",
       "      <td>0</td>\n",
       "      <td>0</td>\n",
       "      <td>0</td>\n",
       "      <td>0</td>\n",
       "      <td>0</td>\n",
       "      <td>0</td>\n",
       "      <td>0</td>\n",
       "      <td>0</td>\n",
       "      <td>...</td>\n",
       "      <td>0</td>\n",
       "      <td>0</td>\n",
       "      <td>0</td>\n",
       "      <td>0</td>\n",
       "      <td>0</td>\n",
       "      <td>0</td>\n",
       "      <td>0</td>\n",
       "      <td>0</td>\n",
       "      <td>0</td>\n",
       "      <td>0</td>\n",
       "    </tr>\n",
       "    <tr>\n",
       "      <th>2</th>\n",
       "      <td>0</td>\n",
       "      <td>0</td>\n",
       "      <td>0</td>\n",
       "      <td>0</td>\n",
       "      <td>0</td>\n",
       "      <td>0</td>\n",
       "      <td>0</td>\n",
       "      <td>0</td>\n",
       "      <td>0</td>\n",
       "      <td>0</td>\n",
       "      <td>...</td>\n",
       "      <td>0</td>\n",
       "      <td>0</td>\n",
       "      <td>0</td>\n",
       "      <td>0</td>\n",
       "      <td>0</td>\n",
       "      <td>0</td>\n",
       "      <td>0</td>\n",
       "      <td>0</td>\n",
       "      <td>0</td>\n",
       "      <td>0</td>\n",
       "    </tr>\n",
       "    <tr>\n",
       "      <th>3</th>\n",
       "      <td>0</td>\n",
       "      <td>0</td>\n",
       "      <td>0</td>\n",
       "      <td>0</td>\n",
       "      <td>0</td>\n",
       "      <td>0</td>\n",
       "      <td>0</td>\n",
       "      <td>0</td>\n",
       "      <td>0</td>\n",
       "      <td>0</td>\n",
       "      <td>...</td>\n",
       "      <td>0</td>\n",
       "      <td>0</td>\n",
       "      <td>0</td>\n",
       "      <td>0</td>\n",
       "      <td>0</td>\n",
       "      <td>0</td>\n",
       "      <td>0</td>\n",
       "      <td>0</td>\n",
       "      <td>0</td>\n",
       "      <td>0</td>\n",
       "    </tr>\n",
       "    <tr>\n",
       "      <th>4</th>\n",
       "      <td>0</td>\n",
       "      <td>0</td>\n",
       "      <td>0</td>\n",
       "      <td>0</td>\n",
       "      <td>0</td>\n",
       "      <td>0</td>\n",
       "      <td>0</td>\n",
       "      <td>0</td>\n",
       "      <td>0</td>\n",
       "      <td>0</td>\n",
       "      <td>...</td>\n",
       "      <td>0</td>\n",
       "      <td>0</td>\n",
       "      <td>0</td>\n",
       "      <td>0</td>\n",
       "      <td>0</td>\n",
       "      <td>0</td>\n",
       "      <td>0</td>\n",
       "      <td>0</td>\n",
       "      <td>0</td>\n",
       "      <td>0</td>\n",
       "    </tr>\n",
       "  </tbody>\n",
       "</table>\n",
       "<p>5 rows × 784 columns</p>\n",
       "</div>"
      ],
      "text/plain": [
       "   pixel0  pixel1  pixel2  pixel3  pixel4  pixel5  pixel6  pixel7  pixel8  \\\n",
       "0       0       0       0       0       0       0       0       0       0   \n",
       "1       0       0       0       0       0       0       0       0       0   \n",
       "2       0       0       0       0       0       0       0       0       0   \n",
       "3       0       0       0       0       0       0       0       0       0   \n",
       "4       0       0       0       0       0       0       0       0       0   \n",
       "\n",
       "   pixel9  ...  pixel774  pixel775  pixel776  pixel777  pixel778  pixel779  \\\n",
       "0       0  ...         0         0         0         0         0         0   \n",
       "1       0  ...         0         0         0         0         0         0   \n",
       "2       0  ...         0         0         0         0         0         0   \n",
       "3       0  ...         0         0         0         0         0         0   \n",
       "4       0  ...         0         0         0         0         0         0   \n",
       "\n",
       "   pixel780  pixel781  pixel782  pixel783  \n",
       "0         0         0         0         0  \n",
       "1         0         0         0         0  \n",
       "2         0         0         0         0  \n",
       "3         0         0         0         0  \n",
       "4         0         0         0         0  \n",
       "\n",
       "[5 rows x 784 columns]"
      ]
     },
     "execution_count": 4,
     "metadata": {},
     "output_type": "execute_result"
    }
   ],
   "source": [
    "# concatenate training and test sets for future modeling\n",
    "data = pd.concat([train.drop(['label'], axis=1), test.drop(['label'], axis=1)])\n",
    "data.head()"
   ]
  },
  {
   "cell_type": "markdown",
   "metadata": {},
   "source": [
    "I'll split the data for ease of interpretation: X_train and y_train. X_train is the dataframe containing the features, from pixel0 to pixel783. y_train is a NumPy array containing the labels from the training set. We'll do the same with the test set."
   ]
  },
  {
   "cell_type": "code",
   "execution_count": 5,
   "metadata": {},
   "outputs": [],
   "source": [
    "# splitting train into X_train, y_train\n",
    "X_train = train.drop(['label'], axis=1)\n",
    "y_train = np.array(train.label)\n",
    "\n",
    "# splitting test into X_test, y_test\n",
    "X_test = test.drop(['label'], axis=1)\n",
    "y_test = np.array(test.label)\n",
    "\n",
    "# getting y_data to be a concatenation of y_train and y_test\n",
    "y_data = np.append(y_train, y_test)\n",
    "assert len(y_data) == (len(y_train) + len(y_test)), \"wrong size for y_data\""
   ]
  },
  {
   "cell_type": "markdown",
   "metadata": {},
   "source": [
    "## Light EDA"
   ]
  },
  {
   "cell_type": "code",
   "execution_count": 6,
   "metadata": {},
   "outputs": [
    {
     "data": {
      "text/plain": [
       "(60000, 784)"
      ]
     },
     "execution_count": 6,
     "metadata": {},
     "output_type": "execute_result"
    }
   ],
   "source": [
    "X_train.shape"
   ]
  },
  {
   "cell_type": "code",
   "execution_count": 7,
   "metadata": {},
   "outputs": [
    {
     "name": "stdout",
     "output_type": "stream",
     "text": [
      "img_train.shape =  (60000, 28, 28, 1)\n",
      "img_label.shape =  (60000,)\n"
     ]
    },
    {
     "data": {
      "image/png": "[encoded data removed]",
      "text/plain": [
       "<Figure size 720x720 with 25 Axes>"
      ]
     },
     "metadata": {},
     "output_type": "display_data"
    }
   ],
   "source": [
    "img_train = X_train.values.reshape(-1, 28, 28, 1).astype('float32')\n",
    "img_label = y_train\n",
    "print(\"img_train.shape = \", img_train.shape)\n",
    "print(\"img_label.shape = \", img_label.shape)\n",
    "\n",
    "fig = plt.figure(figsize=(10, 10))\n",
    "show_img = 0\n",
    "\n",
    "for idx in range(img_train.shape[0]):\n",
    "    plt.subplot(5, 5, show_img + 1)\n",
    "    plt.xticks([])\n",
    "    plt.yticks([])\n",
    "    plt.grid(False)\n",
    "    plt.imshow(img_train[idx].reshape(28, 28), cmap=plt.cm.binary)\n",
    "    plt.title(\"label: %d\" % img_label[idx])\n",
    "    show_img += 1\n",
    "    if show_img % 25 == 0:\n",
    "        break"
   ]
  },
  {
   "cell_type": "markdown",
   "metadata": {},
   "source": [
    "## Requriements #1 and #2\n",
    "Fit a random forest classifier using the training set of explanatory variables and the model training set (csv). Record the time it takes to fit the model and then evaluate the model on the csv data by submitting it to Kaggle.com. Provide your Kaggle.com score and user ID.     "
   ]
  },
  {
   "cell_type": "code",
   "execution_count": 8,
   "metadata": {},
   "outputs": [
    {
     "name": "stdout",
     "output_type": "stream",
     "text": [
      "It took 0:00:42.454156 to fit the random forest classifier\n"
     ]
    }
   ],
   "source": [
    "# start timer\n",
    "start = datetime.now()\n",
    "\n",
    "# Instantiate a random forest classifier: model\n",
    "model = RandomForestClassifier(random_state=42)\n",
    "\n",
    "# Fit it to the data\n",
    "model.fit(data, y_data)\n",
    "\n",
    "# stopping timer\n",
    "end = datetime.now()\n",
    "\n",
    "# printing the time it took to fit the model\n",
    "print(f\"It took {end-start} to fit the random forest classifier\")\n",
    "\n",
    "# Predicting on y_train to test the model's accuracy\n",
    "y_data_pred = model.predict(data)"
   ]
  },
  {
   "cell_type": "markdown",
   "metadata": {},
   "source": [
    "#### Random Forest: Evaluation for Combined Data Set"
   ]
  },
  {
   "cell_type": "code",
   "execution_count": 9,
   "metadata": {},
   "outputs": [
    {
     "name": "stdout",
     "output_type": "stream",
     "text": [
      "              precision    recall  f1-score   support\n",
      "\n",
      "           0       1.00      1.00      1.00      7024\n",
      "           1       1.00      1.00      1.00      7024\n",
      "           2       1.00      1.00      1.00      7024\n",
      "           3       1.00      1.00      1.00      7024\n",
      "           4       1.00      1.00      1.00      7024\n",
      "           5       1.00      1.00      1.00      7024\n",
      "           6       1.00      1.00      1.00      7024\n",
      "           7       1.00      1.00      1.00      7024\n",
      "           8       1.00      1.00      1.00      7024\n",
      "           9       1.00      1.00      1.00      7024\n",
      "\n",
      "    accuracy                           1.00     70240\n",
      "   macro avg       1.00      1.00      1.00     70240\n",
      "weighted avg       1.00      1.00      1.00     70240\n",
      "\n",
      "Accuracy: 1.0\n"
     ]
    },
    {
     "data": {
      "image/png": "[encoded data removed]",
      "text/plain": [
       "<Figure size 432x288 with 2 Axes>"
      ]
     },
     "metadata": {},
     "output_type": "display_data"
    }
   ],
   "source": [
    "print(classification_report(y_data, y_data_pred))\n",
    "print(f\"Accuracy: {round(accuracy_score(y_data_pred, y_data), 2)}\")\n",
    "sns.heatmap(confusion_matrix(y_data, y_data_pred), annot=True);"
   ]
  },
  {
   "cell_type": "markdown",
   "metadata": {},
   "source": [
    "## Requirements #3-6\n",
    "- Execute principal components analysis (PCA) on the combined training and test set data together, generating principal components that represent 95 percent of the variability in the explanatory variables. The number of principal components in the solution should be substantially fewer than the explanatory variables.\n",
    "    - NOTE: In order to perform PCA, we need to standardize the data. This is because PCA is affected by scale so you need to scale the features in your data before applying PCA.\n",
    "- Record the time it takes to identify the principal components.\n",
    "- Using the identified principal components from step (3), use the csv to build another random forest classifier.\n",
    "- Record the time it takes to fit the model and to evaluate the model on the csv data by submitting to Kaggle.com. Provide your Kaggle.com score and user ID."
   ]
  },
  {
   "cell_type": "code",
   "execution_count": 10,
   "metadata": {},
   "outputs": [],
   "source": [
    "# Fit on all data\n",
    "scaler = StandardScaler()\n",
    "scaler.fit(data)\n",
    "\n",
    "# Apply transform to combined data set\n",
    "data = scaler.transform(data)"
   ]
  },
  {
   "cell_type": "code",
   "execution_count": 11,
   "metadata": {},
   "outputs": [
    {
     "name": "stdout",
     "output_type": "stream",
     "text": [
      "It took 0:00:05.760155 to identify the principal components\n",
      "\n",
      "Number of components for 95% of variablity explained: 454\n"
     ]
    }
   ],
   "source": [
    "# start timer\n",
    "start = datetime.now()\n",
    "\n",
    "# make an instance of PCA\n",
    "# here, we put 0.95 b/c we want to generate principal components that represent 95% of the variability \n",
    "# in the explanatory variables\n",
    "pca = PCA(.95)\n",
    "\n",
    "# NOTE: fitting PCA on the training set only\n",
    "pca.fit(data)\n",
    "\n",
    "# stopping timer\n",
    "end = datetime.now()\n",
    "\n",
    "# printing the time it took to identify the principal components\n",
    "print(f\"It took {end-start} to identify the principal components\")\n",
    "\n",
    "print(f\"\\nNumber of components for 95% of variablity explained: {pca.n_components_}\")"
   ]
  },
  {
   "cell_type": "markdown",
   "metadata": {},
   "source": [
    "Note: We can find out how many components PCA choose after fitting the model using pca.n_components_ . In this case, 95% of the variance amounts to 429 principal components.    \n",
    "\n",
    "Now, let's apply the mapping (transform) to both the training set and the test set."
   ]
  },
  {
   "cell_type": "code",
   "execution_count": 12,
   "metadata": {},
   "outputs": [],
   "source": [
    "data = pca.transform(data)"
   ]
  },
  {
   "cell_type": "markdown",
   "metadata": {},
   "source": [
    "Using the identified principal components from step (3), use the csv to build another random forest classifier.    \n",
    "\n",
    "\n",
    "Record the time it takes to fit the model and to evaluate the model on the test set."
   ]
  },
  {
   "cell_type": "code",
   "execution_count": 13,
   "metadata": {},
   "outputs": [
    {
     "name": "stdout",
     "output_type": "stream",
     "text": [
      "It took 0:02:50.526641 to fit the random forest classifier\n"
     ]
    }
   ],
   "source": [
    "# start timer\n",
    "start = datetime.now()\n",
    "\n",
    "# Instantiate a random forest classifier: model\n",
    "model = RandomForestClassifier(random_state=42)\n",
    "\n",
    "# Fit it to the data\n",
    "model.fit(data, y_data)\n",
    "\n",
    "# stopping timer\n",
    "end = datetime.now()\n",
    "\n",
    "# printing the time it took to fit the model\n",
    "print(f\"It took {end-start} to fit the random forest classifier\")\n",
    "\n",
    "# Predicting on y_train to test the model's accuracy\n",
    "y_data_pred = model.predict(data)"
   ]
  },
  {
   "cell_type": "markdown",
   "metadata": {},
   "source": [
    "#### Random Forest w/ PCA: Evaluation for Combined Data Set"
   ]
  },
  {
   "cell_type": "code",
   "execution_count": 14,
   "metadata": {},
   "outputs": [
    {
     "name": "stdout",
     "output_type": "stream",
     "text": [
      "              precision    recall  f1-score   support\n",
      "\n",
      "           0       1.00      1.00      1.00      7024\n",
      "           1       1.00      1.00      1.00      7024\n",
      "           2       1.00      1.00      1.00      7024\n",
      "           3       1.00      1.00      1.00      7024\n",
      "           4       1.00      1.00      1.00      7024\n",
      "           5       1.00      1.00      1.00      7024\n",
      "           6       1.00      1.00      1.00      7024\n",
      "           7       1.00      1.00      1.00      7024\n",
      "           8       1.00      1.00      1.00      7024\n",
      "           9       1.00      1.00      1.00      7024\n",
      "\n",
      "    accuracy                           1.00     70240\n",
      "   macro avg       1.00      1.00      1.00     70240\n",
      "weighted avg       1.00      1.00      1.00     70240\n",
      "\n",
      "Accuracy: 1.0\n"
     ]
    },
    {
     "data": {
      "image/png": "[encoded data removed]",
      "text/plain": [
       "<Figure size 432x288 with 2 Axes>"
      ]
     },
     "metadata": {},
     "output_type": "display_data"
    }
   ],
   "source": [
    "print(classification_report(y_data, y_data_pred))\n",
    "print(f\"Accuracy: {round(accuracy_score(y_data_pred, y_data), 2)}\")\n",
    "sns.heatmap(confusion_matrix(y_data, y_data_pred), annot=True);"
   ]
  },
  {
   "cell_type": "markdown",
   "metadata": {},
   "source": [
    "**Insights:** This model performs the same compared to our non-PCA model, but the time it takes to train the model is much slower. Let's compare:  \n",
    "**Regular RF Model:**\n",
    "- Time: 43.4 seconds\n",
    "\n",
    "**PCA RF Model:**\n",
    "- Time: 3 minutes and 4 seconds    \n",
    "\n",
    "The PCA RF takes 4 times as long as the regular RF model to fit to the entire dataset!"
   ]
  },
  {
   "cell_type": "markdown",
   "metadata": {},
   "source": [
    "## Requirement #7: K-Means\n",
    "Use k-means clustering to group MNIST observations into 1 of 10 categories and then assign labels. (Follow the example here if needed: kmeans mnist.pdf).    \n",
    "\n",
    "Here, we will:  \n",
    "- Deploy K-means clustering algorithms\n",
    "- Use common metrics to evaluate cluster performance\n",
    "- Visualize high-dimensional cluster centroids    \n",
    "\n",
    "Note that images are already preprocessed. This is indicated by the shape of X_train. Clustering algorithms almost always use 1-dimensional data. For example, if you were clustering a set of X, Y coordinates, each point would be passed to the clustering algorithm as a 1-dimensional array with a length of two (example: [2,4] or [-1, 4])."
   ]
  },
  {
   "cell_type": "code",
   "execution_count": 15,
   "metadata": {},
   "outputs": [
    {
     "data": {
      "text/plain": [
       "(70240, 454)"
      ]
     },
     "execution_count": 15,
     "metadata": {},
     "output_type": "execute_result"
    }
   ],
   "source": [
    "data.shape"
   ]
  },
  {
   "cell_type": "markdown",
   "metadata": {},
   "source": [
    "Due to the size of the MNIST dataset, we will use the mini-batch implementation of k-means clustering provided by scikit-learn. This will dramatically reduce the amount of time it takes to fit the algorithm to the data.\n",
    "\n",
    "The MNIST dataset contains images of the integers 0 to 9. Because of this, let’s start by setting the number of clusters to 10, one for each digit."
   ]
  },
  {
   "cell_type": "code",
   "execution_count": 16,
   "metadata": {},
   "outputs": [
    {
     "name": "stdout",
     "output_type": "stream",
     "text": [
      "Unique number of labels: 10\n"
     ]
    },
    {
     "data": {
      "text/plain": [
       "array([5, 5, 9, ..., 6, 5, 1], dtype=int32)"
      ]
     },
     "execution_count": 16,
     "metadata": {},
     "output_type": "execute_result"
    }
   ],
   "source": [
    "n_digits = len(np.unique(y_data))\n",
    "print(f\"Unique number of labels: {n_digits}\")\n",
    "\n",
    "# Initialize KMeans model\n",
    "kmeans = MiniBatchKMeans(n_clusters = n_digits)\n",
    "\n",
    "# Fit the model to the training data\n",
    "kmeans.fit(data)\n",
    "kmeans.labels_"
   ]
  },
  {
   "cell_type": "markdown",
   "metadata": {},
   "source": [
    "#### Assigning Cluster Labels\n",
    "K-means clustering is an unsupervised machine learning method; consequently, the labels assigned by our KMeans algorithm refer to the cluster each array was assigned to, not the actual target integer. To fix this, let’s define a few functions that will predict which integer corresponds to each cluster.\n"
   ]
  },
  {
   "cell_type": "code",
   "execution_count": 17,
   "metadata": {},
   "outputs": [
    {
     "name": "stdout",
     "output_type": "stream",
     "text": [
      "[4 4 2 4 4 4 4 6 8 4 4 4 4 4 4 4 6 6 8 9]\n",
      "[0 1 2 3 4 5 6 7 8 9 0 1 2 3 4 5 6 7 8 9]\n"
     ]
    }
   ],
   "source": [
    "def infer_cluster_labels(kmeans, actual_labels):\n",
    "    inferred_labels = {}\n",
    "    for i in range(kmeans.n_clusters):\n",
    "        # find index of points in cluster\n",
    "        labels = []\n",
    "        index = np.where(kmeans.labels_ == i)\n",
    "\n",
    "        # append actual labels for each point in cluster\n",
    "        labels.append(actual_labels[index])\n",
    "\n",
    "        # determine most common label\n",
    "        if len(labels[0]) == 1:\n",
    "            counts = np.bincount(labels[0])\n",
    "        else:\n",
    "            counts = np.bincount(np.squeeze(labels))\n",
    "\n",
    "        # assign the cluster to a value in the inferred_labels dictionary\n",
    "        if np.argmax(counts) in inferred_labels:\n",
    "            # append the new number to the existing array at this slot\n",
    "            inferred_labels[np.argmax(counts)].append(i)\n",
    "        else:\n",
    "            # create a new array in this slot\n",
    "            inferred_labels[np.argmax(counts)] = [i]\n",
    "\n",
    "    #print(labels)\n",
    "    #print('Cluster: {}, label: {}'.format(i, np.argmax(counts)))\n",
    "    \n",
    "    return inferred_labels\n",
    "\n",
    "def infer_data_labels(X_labels, cluster_labels):\n",
    "    # empty array of len(X)\n",
    "    predicted_labels = np.zeros(len(X_labels)).astype(np.uint8)\n",
    "\n",
    "    for i, cluster in enumerate(X_labels):\n",
    "        for key, value in cluster_labels.items():\n",
    "            if cluster in value:\n",
    "                predicted_labels[i] = key\n",
    "\n",
    "    return predicted_labels\n",
    "\n",
    "# test the infer_cluster_labels() and infer_data_labels() functions\n",
    "cluster_labels = infer_cluster_labels(kmeans, y_data)\n",
    "data_clusters = kmeans.predict(data)\n",
    "y_data_pred = infer_data_labels(data_clusters, cluster_labels)\n",
    "\n",
    "# Should these be the same? What if they are not the same?\n",
    "print(y_data_pred[:20])\n",
    "print(y_data[:20])"
   ]
  },
  {
   "cell_type": "markdown",
   "metadata": {},
   "source": [
    "#### K-Means with 10 Clusters"
   ]
  },
  {
   "cell_type": "code",
   "execution_count": 18,
   "metadata": {},
   "outputs": [
    {
     "name": "stdout",
     "output_type": "stream",
     "text": [
      "              precision    recall  f1-score   support\n",
      "\n",
      "           0       0.00      0.00      0.00      7024\n",
      "           1       0.44      0.59      0.51      7024\n",
      "           2       0.68      0.92      0.79      7024\n",
      "           3       0.54      0.00      0.00      7024\n",
      "           4       0.22      0.93      0.35      7024\n",
      "           5       0.00      0.00      0.00      7024\n",
      "           6       0.53      0.85      0.65      7024\n",
      "           7       0.00      0.00      0.00      7024\n",
      "           8       0.73      0.46      0.57      7024\n",
      "           9       0.69      0.57      0.62      7024\n",
      "\n",
      "    accuracy                           0.43     70240\n",
      "   macro avg       0.38      0.43      0.35     70240\n",
      "weighted avg       0.38      0.43      0.35     70240\n",
      "\n",
      "Accuracy: 0.43\n"
     ]
    },
    {
     "name": "stderr",
     "output_type": "stream",
     "text": [
      "/Users/priscilaamorim/anaconda3/lib/python3.8/site-packages/sklearn/metrics/_classification.py:1248: UndefinedMetricWarning: Precision and F-score are ill-defined and being set to 0.0 in labels with no predicted samples. Use `zero_division` parameter to control this behavior.\n",
      "  _warn_prf(average, modifier, msg_start, len(result))\n",
      "/Users/priscilaamorim/anaconda3/lib/python3.8/site-packages/sklearn/metrics/_classification.py:1248: UndefinedMetricWarning: Precision and F-score are ill-defined and being set to 0.0 in labels with no predicted samples. Use `zero_division` parameter to control this behavior.\n",
      "  _warn_prf(average, modifier, msg_start, len(result))\n",
      "/Users/priscilaamorim/anaconda3/lib/python3.8/site-packages/sklearn/metrics/_classification.py:1248: UndefinedMetricWarning: Precision and F-score are ill-defined and being set to 0.0 in labels with no predicted samples. Use `zero_division` parameter to control this behavior.\n",
      "  _warn_prf(average, modifier, msg_start, len(result))\n"
     ]
    },
    {
     "data": {
      "image/png": "[encoded data removed]",
      "text/plain": [
       "<Figure size 432x288 with 2 Axes>"
      ]
     },
     "metadata": {},
     "output_type": "display_data"
    }
   ],
   "source": [
    "print(classification_report(y_data, y_data_pred))\n",
    "print(f\"Accuracy: {round(accuracy_score(y_data_pred, y_data), 2)}\")\n",
    "sns.heatmap(confusion_matrix(y_data, y_data_pred), annot=True);"
   ]
  },
  {
   "cell_type": "markdown",
   "metadata": {},
   "source": [
    "**Insights:**  \n",
    "- K-Means is not predicting well, even on the entire dataset that was used to train the model."
   ]
  },
  {
   "cell_type": "markdown",
   "metadata": {},
   "source": [
    "#### Optimizing and Evaluating the Clustering Algorithm\n",
    "With the functions defined above, we can now determine the accuracy of our algorithms. Since we are using this clustering algorithm for classification, accuracy is ultimately the most important metric; however, there are other metrics out there that can be applied directly to the clusters themselves, regardless of the associated labels. Two of these metrics that we will use are inertia and homogeneity."
   ]
  },
  {
   "cell_type": "code",
   "execution_count": 19,
   "metadata": {},
   "outputs": [],
   "source": [
    "def calculate_metrics(estimator, data, labels):\n",
    "    # Calculate and print metrics\n",
    "    print('Number of Clusters: {}'.format(estimator.n_clusters))\n",
    "    print('Inertia: {}'.format(estimator.inertia_))\n",
    "    print('Homogeneity: {}'.format(homogeneity_score(labels, estimator.labels_)))"
   ]
  },
  {
   "cell_type": "code",
   "execution_count": 20,
   "metadata": {},
   "outputs": [
    {
     "name": "stdout",
     "output_type": "stream",
     "text": [
      "Number of Clusters: 10\n",
      "Inertia: 44957037.54143829\n",
      "Homogeneity: 0.4532017424682803\n",
      "Accuracy: 0.4789009111617312\n",
      "\n",
      "Number of Clusters: 16\n",
      "Inertia: 42675358.18301456\n",
      "Homogeneity: 0.5875361637055756\n",
      "Accuracy: 0.6705438496583144\n",
      "\n",
      "Number of Clusters: 36\n",
      "Inertia: 41174196.92305928\n",
      "Homogeneity: 0.5826830604383937\n",
      "Accuracy: 0.6742169703872437\n",
      "\n",
      "Number of Clusters: 64\n",
      "Inertia: 39410815.82125404\n",
      "Homogeneity: 0.6614423706797947\n",
      "Accuracy: 0.7390518223234624\n",
      "\n",
      "Number of Clusters: 144\n",
      "Inertia: 37280701.68474275\n",
      "Homogeneity: 0.702933201816974\n",
      "Accuracy: 0.7732915717539863\n",
      "\n",
      "Number of Clusters: 256\n",
      "Inertia: 33438480.702019274\n",
      "Homogeneity: 0.778049313984263\n",
      "Accuracy: 0.8492881548974943\n",
      "\n"
     ]
    }
   ],
   "source": [
    "clusters = [10, 16, 36, 64, 144, 256]\n",
    "\n",
    "# test different numbers of clusters\n",
    "for n_clusters in clusters:\n",
    "    kmeans = MiniBatchKMeans(n_clusters = n_clusters)\n",
    "    kmeans.fit(data)\n",
    "    \n",
    "    # print cluster metrics for training set\n",
    "    calculate_metrics(kmeans, data, y_data)\n",
    "    \n",
    "    # determine predicted labels for training set\n",
    "    cluster_labels = infer_cluster_labels(kmeans, y_data)\n",
    "    data_clusters = kmeans.predict(data)\n",
    "    y_data_pred = infer_data_labels(data_clusters, cluster_labels)\n",
    "    \n",
    "    # calculate and print accuracy for training set\n",
    "    print('Accuracy: {}\\n'.format(accuracy_score(y_data, y_data_pred)))"
   ]
  },
  {
   "cell_type": "markdown",
   "metadata": {},
   "source": [
    "**Insights:**\n",
    "- Accuracy increases as cluster size increases  \n",
    "- Homogeneity increases as cluster size increases  \n",
    "- Inertia decreases as cluster size decreases"
   ]
  },
  {
   "cell_type": "markdown",
   "metadata": {},
   "source": [
    "## K-Means with 256 Clusters"
   ]
  },
  {
   "cell_type": "code",
   "execution_count": 21,
   "metadata": {},
   "outputs": [
    {
     "data": {
      "text/plain": [
       "MiniBatchKMeans(n_clusters=256)"
      ]
     },
     "execution_count": 21,
     "metadata": {},
     "output_type": "execute_result"
    }
   ],
   "source": [
    "# Initialize KMeans model\n",
    "kmeans = MiniBatchKMeans(n_clusters=256)\n",
    "\n",
    "# Fit the model to the training data\n",
    "kmeans.fit(data)"
   ]
  },
  {
   "cell_type": "code",
   "execution_count": 22,
   "metadata": {},
   "outputs": [],
   "source": [
    "data_clusters = kmeans.predict(data)\n",
    "cluster_labels = infer_cluster_labels(kmeans, y_data)\n",
    "y_data_pred = infer_data_labels(data_clusters, cluster_labels)"
   ]
  },
  {
   "cell_type": "code",
   "execution_count": 23,
   "metadata": {},
   "outputs": [
    {
     "name": "stdout",
     "output_type": "stream",
     "text": [
      "              precision    recall  f1-score   support\n",
      "\n",
      "           0       0.84      0.85      0.84      7024\n",
      "           1       0.88      0.88      0.88      7024\n",
      "           2       0.92      0.96      0.94      7024\n",
      "           3       0.86      0.86      0.86      7024\n",
      "           4       0.86      0.88      0.87      7024\n",
      "           5       0.84      0.89      0.86      7024\n",
      "           6       0.71      0.85      0.77      7024\n",
      "           7       0.76      0.60      0.67      7024\n",
      "           8       0.86      0.79      0.82      7024\n",
      "           9       0.86      0.84      0.85      7024\n",
      "\n",
      "    accuracy                           0.84     70240\n",
      "   macro avg       0.84      0.84      0.84     70240\n",
      "weighted avg       0.84      0.84      0.84     70240\n",
      "\n",
      "Accuracy: 0.84\n"
     ]
    },
    {
     "data": {
      "image/png": "[encoded data removed]",
      "text/plain": [
       "<Figure size 432x288 with 2 Axes>"
      ]
     },
     "metadata": {},
     "output_type": "display_data"
    }
   ],
   "source": [
    "print(classification_report(y_data, y_data_pred))\n",
    "print(f\"Accuracy: {round(accuracy_score(y_data_pred, y_data), 2)}\")\n",
    "sns.heatmap(confusion_matrix(y_data, y_data_pred), annot=True);"
   ]
  },
  {
   "cell_type": "markdown",
   "metadata": {},
   "source": [
    "**Insights:**  \n",
    "- Our metrics for K-Means performs pretty well, w/ 0.86 for accuracy.  \n",
    "- The random forest models, with or without PCA, have 100% accuracy."
   ]
  },
  {
   "cell_type": "markdown",
   "metadata": {},
   "source": [
    "# REDO of the Experiment: Fixing the Major Flaw\n",
    "We identified that the **major flaw** from the previous experiment is that we trained our models on the entire dataset rather than just the training data. This presents major data leakage, especially with regards to PCA."
   ]
  },
  {
   "cell_type": "markdown",
   "metadata": {},
   "source": [
    "## Requriements #1 and #2\n",
    "Fit a random forest classifier using the training set of explanatory variables. Record the time it takes to fit the model and then evaluate the model on the test data."
   ]
  },
  {
   "cell_type": "code",
   "execution_count": 24,
   "metadata": {},
   "outputs": [
    {
     "name": "stdout",
     "output_type": "stream",
     "text": [
      "It took 0:00:31.706077 to fit the random forest classifier\n"
     ]
    }
   ],
   "source": [
    "# start timer\n",
    "start = datetime.now()\n",
    "\n",
    "# Instantiate a random forest classifier: model\n",
    "best_model = RandomForestClassifier(random_state=42)\n",
    "\n",
    "# Fit it to the data\n",
    "best_model.fit(X_train, y_train)\n",
    "\n",
    "# stopping timer\n",
    "end = datetime.now()\n",
    "\n",
    "# printing the time it took to fit the model\n",
    "print(f\"It took {end-start} to fit the random forest classifier\")\n",
    "\n",
    "# Predicting on y_train to test the model's accuracy\n",
    "y_train_pred = best_model.predict(X_train)\n",
    "y_test_pred = best_model.predict(X_test)"
   ]
  },
  {
   "cell_type": "markdown",
   "metadata": {},
   "source": [
    "#### Random Forest: Evaluation for Train Set"
   ]
  },
  {
   "cell_type": "code",
   "execution_count": 25,
   "metadata": {},
   "outputs": [
    {
     "name": "stdout",
     "output_type": "stream",
     "text": [
      "              precision    recall  f1-score   support\n",
      "\n",
      "           0       1.00      1.00      1.00      6000\n",
      "           1       1.00      1.00      1.00      6000\n",
      "           2       1.00      1.00      1.00      6000\n",
      "           3       1.00      1.00      1.00      6000\n",
      "           4       1.00      1.00      1.00      6000\n",
      "           5       1.00      1.00      1.00      6000\n",
      "           6       1.00      1.00      1.00      6000\n",
      "           7       1.00      1.00      1.00      6000\n",
      "           8       1.00      1.00      1.00      6000\n",
      "           9       1.00      1.00      1.00      6000\n",
      "\n",
      "    accuracy                           1.00     60000\n",
      "   macro avg       1.00      1.00      1.00     60000\n",
      "weighted avg       1.00      1.00      1.00     60000\n",
      "\n",
      "Accuracy: 1.0\n"
     ]
    },
    {
     "data": {
      "image/png": "[encoded data removed]",
      "text/plain": [
       "<Figure size 432x288 with 2 Axes>"
      ]
     },
     "metadata": {},
     "output_type": "display_data"
    }
   ],
   "source": [
    "print(classification_report(y_train, y_train_pred))\n",
    "print(f\"Accuracy: {round(accuracy_score(y_train_pred, y_train), 2)}\")\n",
    "sns.heatmap(confusion_matrix(y_train, y_train_pred), annot=True);"
   ]
  },
  {
   "cell_type": "markdown",
   "metadata": {},
   "source": [
    "#### Random Forest: Evaluation for Test Set"
   ]
  },
  {
   "cell_type": "code",
   "execution_count": 26,
   "metadata": {},
   "outputs": [
    {
     "name": "stdout",
     "output_type": "stream",
     "text": [
      "              precision    recall  f1-score   support\n",
      "\n",
      "           0       0.67      0.43      0.52      1024\n",
      "           1       0.91      0.65      0.76      1024\n",
      "           2       0.64      0.86      0.74      1024\n",
      "           3       0.74      0.40      0.52      1024\n",
      "           4       0.84      0.60      0.70      1024\n",
      "           5       0.44      0.88      0.59      1024\n",
      "           6       0.54      0.61      0.57      1024\n",
      "           7       0.82      0.48      0.60      1024\n",
      "           8       0.56      0.78      0.65      1024\n",
      "           9       0.79      0.79      0.79      1024\n",
      "\n",
      "    accuracy                           0.65     10240\n",
      "   macro avg       0.70      0.65      0.64     10240\n",
      "weighted avg       0.70      0.65      0.64     10240\n",
      "\n",
      "Accuracy: 0.65\n"
     ]
    },
    {
     "data": {
      "image/png": "[encoded data removed]",
      "text/plain": [
       "<Figure size 432x288 with 2 Axes>"
      ]
     },
     "metadata": {},
     "output_type": "display_data"
    }
   ],
   "source": [
    "print(classification_report(y_test, y_test_pred))\n",
    "print(f\"Accuracy: {round(accuracy_score(y_test_pred, y_test), 2)}\")\n",
    "sns.heatmap(confusion_matrix(y_test, y_test_pred), annot=True);"
   ]
  },
  {
   "cell_type": "markdown",
   "metadata": {},
   "source": [
    "**Insights:**  \n",
    "- Accuracy: 65%\n",
    "- Precision: 70%\n",
    "- Recall: 65%\n",
    "- F1-Score: 64%  \n",
    "Overall, not performing well on the test set."
   ]
  },
  {
   "cell_type": "markdown",
   "metadata": {},
   "source": [
    "## Requirements #3-6\n",
    "- Execute principal components analysis (PCA) on the combined training set data ONLY, generating principal components that represent 95 percent of the variability in the explanatory variables. The number of principal components in the solution should be substantially fewer than the explanatory variables.\n",
    "    - NOTE: In order to perform PCA, we need to standardize the data. This is because PCA is affected by scale so you need to scale the features in your data before applying PCA.\n",
    "- Record the time it takes to identify the principal components.\n",
    "- Using the identified principal components from step (3), use the csv to build another random forest classifier.\n",
    "- Record the time it takes to fit the model and to evaluate the model on the csv data by submitting to Kaggle.com. Provide your Kaggle.com score and user ID."
   ]
  },
  {
   "cell_type": "code",
   "execution_count": 27,
   "metadata": {},
   "outputs": [],
   "source": [
    "# Fit on training set only\n",
    "scaler = StandardScaler()\n",
    "scaler.fit(X_train)\n",
    "\n",
    "# Apply transform to both the training set and the test set\n",
    "X_train = scaler.transform(X_train)\n",
    "X_test = scaler.transform(X_test)"
   ]
  },
  {
   "cell_type": "code",
   "execution_count": 28,
   "metadata": {},
   "outputs": [
    {
     "name": "stdout",
     "output_type": "stream",
     "text": [
      "It took 0:00:03.666013 to identify the principal components\n",
      "\n",
      "Number of components for 95% of variablity explained: 429\n"
     ]
    }
   ],
   "source": [
    "# start timer\n",
    "start = datetime.now()\n",
    "\n",
    "# make an instance of PCA\n",
    "# here, we put 0.95 b/c we want to generate principal components that represent 95% of the variability \n",
    "# in the explanatory variables\n",
    "pca = PCA(.95)\n",
    "\n",
    "# NOTE: fitting PCA on the training set only\n",
    "pca.fit(X_train)\n",
    "\n",
    "# stopping timer\n",
    "end = datetime.now()\n",
    "\n",
    "# printing the time it took to identify the principal components\n",
    "print(f\"It took {end-start} to identify the principal components\")\n",
    "\n",
    "print(f\"\\nNumber of components for 95% of variablity explained: {pca.n_components_}\")"
   ]
  },
  {
   "cell_type": "markdown",
   "metadata": {},
   "source": [
    "Note: We can find out how many components PCA choose after fitting the model using pca.n_components_ . In this case, 95% of the variance amounts to 429 principal components.    \n",
    "\n",
    "Now, let's apply the mapping (transform) to both the training set and the test set."
   ]
  },
  {
   "cell_type": "code",
   "execution_count": 29,
   "metadata": {},
   "outputs": [],
   "source": [
    "X_train = pca.transform(X_train)\n",
    "X_test = pca.transform(X_test)"
   ]
  },
  {
   "cell_type": "markdown",
   "metadata": {},
   "source": [
    "Using the identified principal components from step (3), use the csv to build another random forest classifier.    \n",
    "\n",
    "\n",
    "Record the time it takes to fit the model and to evaluate the model on the test set."
   ]
  },
  {
   "cell_type": "code",
   "execution_count": 30,
   "metadata": {},
   "outputs": [
    {
     "name": "stdout",
     "output_type": "stream",
     "text": [
      "It took 0:02:21.907309 to fit the random forest classifier\n"
     ]
    }
   ],
   "source": [
    "# start timer\n",
    "start = datetime.now()\n",
    "\n",
    "# Instantiate a random forest classifier: model\n",
    "model = RandomForestClassifier(random_state=42)\n",
    "\n",
    "# Fit it to the data\n",
    "model.fit(X_train, y_train)\n",
    "\n",
    "# stopping timer\n",
    "end = datetime.now()\n",
    "\n",
    "# printing the time it took to fit the model\n",
    "print(f\"It took {end-start} to fit the random forest classifier\")\n",
    "\n",
    "# Predicting on y_train to test the model's accuracy\n",
    "y_train_pred = model.predict(X_train)\n",
    "y_test_pred = model.predict(X_test)"
   ]
  },
  {
   "cell_type": "markdown",
   "metadata": {},
   "source": [
    "#### Random Forest w/ PCA: Evaluation for Train Set"
   ]
  },
  {
   "cell_type": "code",
   "execution_count": 31,
   "metadata": {},
   "outputs": [
    {
     "name": "stdout",
     "output_type": "stream",
     "text": [
      "              precision    recall  f1-score   support\n",
      "\n",
      "           0       1.00      1.00      1.00      6000\n",
      "           1       1.00      1.00      1.00      6000\n",
      "           2       1.00      1.00      1.00      6000\n",
      "           3       1.00      1.00      1.00      6000\n",
      "           4       1.00      1.00      1.00      6000\n",
      "           5       1.00      1.00      1.00      6000\n",
      "           6       1.00      1.00      1.00      6000\n",
      "           7       1.00      1.00      1.00      6000\n",
      "           8       1.00      1.00      1.00      6000\n",
      "           9       1.00      1.00      1.00      6000\n",
      "\n",
      "    accuracy                           1.00     60000\n",
      "   macro avg       1.00      1.00      1.00     60000\n",
      "weighted avg       1.00      1.00      1.00     60000\n",
      "\n",
      "Accuracy: 1.0\n"
     ]
    },
    {
     "data": {
      "image/png": "[encoded data removed]",
      "text/plain": [
       "<Figure size 432x288 with 2 Axes>"
      ]
     },
     "metadata": {},
     "output_type": "display_data"
    }
   ],
   "source": [
    "print(classification_report(y_train, y_train_pred))\n",
    "print(f\"Accuracy: {round(accuracy_score(y_train_pred, y_train), 2)}\")\n",
    "sns.heatmap(confusion_matrix(y_train, y_train_pred), annot=True);"
   ]
  },
  {
   "cell_type": "markdown",
   "metadata": {},
   "source": [
    "#### Random Forest w/ PCA: Evaluation for Test Set"
   ]
  },
  {
   "cell_type": "code",
   "execution_count": 32,
   "metadata": {},
   "outputs": [
    {
     "name": "stdout",
     "output_type": "stream",
     "text": [
      "              precision    recall  f1-score   support\n",
      "\n",
      "           0       0.77      0.24      0.36      1024\n",
      "           1       0.75      0.34      0.47      1024\n",
      "           2       0.57      0.86      0.69      1024\n",
      "           3       0.82      0.15      0.26      1024\n",
      "           4       0.89      0.21      0.35      1024\n",
      "           5       0.34      0.76      0.47      1024\n",
      "           6       0.46      0.64      0.54      1024\n",
      "           7       0.44      0.32      0.37      1024\n",
      "           8       0.38      0.90      0.53      1024\n",
      "           9       0.83      0.44      0.57      1024\n",
      "\n",
      "    accuracy                           0.49     10240\n",
      "   macro avg       0.62      0.49      0.46     10240\n",
      "weighted avg       0.62      0.49      0.46     10240\n",
      "\n",
      "Accuracy: 0.49\n"
     ]
    },
    {
     "data": {
      "image/png": "[encoded data removed]",
      "text/plain": [
       "<Figure size 432x288 with 2 Axes>"
      ]
     },
     "metadata": {},
     "output_type": "display_data"
    }
   ],
   "source": [
    "print(classification_report(y_test, y_test_pred))\n",
    "print(f\"Accuracy: {round(accuracy_score(y_test_pred, y_test), 2)}\")\n",
    "sns.heatmap(confusion_matrix(y_test, y_test_pred), annot=True);"
   ]
  },
  {
   "cell_type": "markdown",
   "metadata": {},
   "source": [
    "**Insights:** This model performs worse than our non-PCA model. Let's compare:  \n",
    "**Regular RF Model:**\n",
    "- Accuracy: 65%\n",
    "- Precision: 70%\n",
    "- Recall: 65%\n",
    "- F1-Score: 64%    \n",
    "\n",
    "**PCA RF Model:**\n",
    "- Accuracy: 50%\n",
    "- Precision: 62%\n",
    "- Recall: 49%\n",
    "- F1-Score: 46%  \n",
    "Clearly, PCA RF is performing worse across all metrics."
   ]
  },
  {
   "cell_type": "markdown",
   "metadata": {},
   "source": [
    "## Requirement #7: K-Means\n",
    "Use k-means clustering to group MNIST observations into 1 of 10 categories and then assign labels. (Follow the example here if needed: kmeans mnist.pdf).    \n",
    "\n",
    "Here, we will:  \n",
    "- Deploy K-means clustering algorithms\n",
    "- Use common metrics to evaluate cluster performance\n",
    "- Visualize high-dimensional cluster centroids  \n",
    "  \n",
    "Note that images are already preprocessed. This is indicated by the shape of X_train. Clustering algorithms almost always use 1-dimensional data. For example, if you were clustering a set of X, Y coordinates, each point would be passed to the clustering algorithm as a 1-dimensional array with a length of two (example: [2,4] or [-1, 4])."
   ]
  },
  {
   "cell_type": "code",
   "execution_count": 33,
   "metadata": {},
   "outputs": [
    {
     "data": {
      "text/plain": [
       "(60000, 429)"
      ]
     },
     "execution_count": 33,
     "metadata": {},
     "output_type": "execute_result"
    }
   ],
   "source": [
    "X_train.shape"
   ]
  },
  {
   "cell_type": "markdown",
   "metadata": {},
   "source": [
    "Due to the size of the MNIST dataset, we will use the mini-batch implementation of k-means clustering provided by scikit-learn. This will dramatically reduce the amount of time it takes to fit the algorithm to the data.\n",
    "\n",
    "The MNIST dataset contains images of the integers 0 to 9. Because of this, let’s start by setting the number of clusters to 10, one for each digit."
   ]
  },
  {
   "cell_type": "code",
   "execution_count": 34,
   "metadata": {},
   "outputs": [
    {
     "name": "stdout",
     "output_type": "stream",
     "text": [
      "Unique number of labels: 10\n"
     ]
    },
    {
     "data": {
      "text/plain": [
       "array([0, 0, 8, ..., 2, 6, 6], dtype=int32)"
      ]
     },
     "execution_count": 34,
     "metadata": {},
     "output_type": "execute_result"
    }
   ],
   "source": [
    "n_digits = len(np.unique(y_test))\n",
    "print(f\"Unique number of labels: {n_digits}\")\n",
    "\n",
    "# Initialize KMeans model\n",
    "kmeans = MiniBatchKMeans(n_clusters = n_digits)\n",
    "\n",
    "# Fit the model to the training data\n",
    "kmeans.fit(X_train)\n",
    "kmeans.labels_"
   ]
  },
  {
   "cell_type": "markdown",
   "metadata": {},
   "source": [
    "#### Assigning Cluster Labels\n",
    "K-means clustering is an unsupervised machine learning method; consequently, the labels assigned by our KMeans algorithm refer to the cluster each array was assigned to, not the actual target integer. To fix this, let’s define a few functions that will predict which integer corresponds to each cluster."
   ]
  },
  {
   "cell_type": "code",
   "execution_count": 35,
   "metadata": {},
   "outputs": [
    {
     "name": "stdout",
     "output_type": "stream",
     "text": [
      "[1 1 2 3 3 1 3 6 1 3 0 3 3 3 3 1 6 6 1 9]\n",
      "[0 1 2 3 4 5 6 7 8 9 0 1 2 3 4 5 6 7 8 9]\n"
     ]
    }
   ],
   "source": [
    "def infer_cluster_labels(kmeans, actual_labels):\n",
    "    inferred_labels = {}\n",
    "    for i in range(kmeans.n_clusters):\n",
    "        # find index of points in cluster\n",
    "        labels = []\n",
    "        index = np.where(kmeans.labels_ == i)\n",
    "\n",
    "        # append actual labels for each point in cluster\n",
    "        labels.append(actual_labels[index])\n",
    "\n",
    "        # determine most common label\n",
    "        if len(labels[0]) == 1:\n",
    "            counts = np.bincount(labels[0])\n",
    "        else:\n",
    "            counts = np.bincount(np.squeeze(labels))\n",
    "\n",
    "        # assign the cluster to a value in the inferred_labels dictionary\n",
    "        if np.argmax(counts) in inferred_labels:\n",
    "            # append the new number to the existing array at this slot\n",
    "            inferred_labels[np.argmax(counts)].append(i)\n",
    "        else:\n",
    "            # create a new array in this slot\n",
    "            inferred_labels[np.argmax(counts)] = [i]\n",
    "\n",
    "    #print(labels)\n",
    "    #print('Cluster: {}, label: {}'.format(i, np.argmax(counts)))\n",
    "    \n",
    "    return inferred_labels\n",
    "\n",
    "def infer_data_labels(X_labels, cluster_labels):\n",
    "    # empty array of len(X)\n",
    "    predicted_labels = np.zeros(len(X_labels)).astype(np.uint8)\n",
    "\n",
    "    for i, cluster in enumerate(X_labels):\n",
    "        for key, value in cluster_labels.items():\n",
    "            if cluster in value:\n",
    "                predicted_labels[i] = key\n",
    "\n",
    "    return predicted_labels\n",
    "\n",
    "# test the infer_cluster_labels() and infer_data_labels() functions\n",
    "cluster_labels = infer_cluster_labels(kmeans, y_train)\n",
    "X_train_clusters = kmeans.predict(X_train)\n",
    "y_train_pred = infer_data_labels(X_train_clusters, cluster_labels)\n",
    "\n",
    "# Should these be the same? What if they are not the same?\n",
    "print(y_train_pred[:20])\n",
    "print(y_train[:20])"
   ]
  },
  {
   "cell_type": "code",
   "execution_count": 36,
   "metadata": {},
   "outputs": [
    {
     "name": "stdout",
     "output_type": "stream",
     "text": [
      "              precision    recall  f1-score   support\n",
      "\n",
      "           0       0.90      0.58      0.71      6000\n",
      "           1       0.36      0.82      0.50      6000\n",
      "           2       0.99      0.85      0.91      6000\n",
      "           3       0.28      0.97      0.43      6000\n",
      "           4       0.91      0.10      0.18      6000\n",
      "           5       1.00      0.00      0.01      6000\n",
      "           6       0.59      0.86      0.70      6000\n",
      "           7       0.00      0.00      0.00      6000\n",
      "           8       0.00      0.00      0.00      6000\n",
      "           9       0.60      0.72      0.65      6000\n",
      "\n",
      "    accuracy                           0.49     60000\n",
      "   macro avg       0.56      0.49      0.41     60000\n",
      "weighted avg       0.56      0.49      0.41     60000\n",
      "\n",
      "Accuracy: 0.49\n"
     ]
    },
    {
     "name": "stderr",
     "output_type": "stream",
     "text": [
      "/Users/priscilaamorim/anaconda3/lib/python3.8/site-packages/sklearn/metrics/_classification.py:1248: UndefinedMetricWarning: Precision and F-score are ill-defined and being set to 0.0 in labels with no predicted samples. Use `zero_division` parameter to control this behavior.\n",
      "  _warn_prf(average, modifier, msg_start, len(result))\n",
      "/Users/priscilaamorim/anaconda3/lib/python3.8/site-packages/sklearn/metrics/_classification.py:1248: UndefinedMetricWarning: Precision and F-score are ill-defined and being set to 0.0 in labels with no predicted samples. Use `zero_division` parameter to control this behavior.\n",
      "  _warn_prf(average, modifier, msg_start, len(result))\n",
      "/Users/priscilaamorim/anaconda3/lib/python3.8/site-packages/sklearn/metrics/_classification.py:1248: UndefinedMetricWarning: Precision and F-score are ill-defined and being set to 0.0 in labels with no predicted samples. Use `zero_division` parameter to control this behavior.\n",
      "  _warn_prf(average, modifier, msg_start, len(result))\n"
     ]
    },
    {
     "data": {
      "image/png": "[encoded data removed]",
      "text/plain": [
       "<Figure size 432x288 with 2 Axes>"
      ]
     },
     "metadata": {},
     "output_type": "display_data"
    }
   ],
   "source": [
    "print(classification_report(y_train, y_train_pred))\n",
    "print(f\"Accuracy: {round(accuracy_score(y_train_pred, y_train), 2)}\")\n",
    "sns.heatmap(confusion_matrix(y_train, y_train_pred), annot=True);"
   ]
  },
  {
   "cell_type": "markdown",
   "metadata": {},
   "source": [
    "**Insights:**  \n",
    "- Low accuracy on training set\n",
    "- Likely to perform far worse on unseen, test set"
   ]
  },
  {
   "cell_type": "markdown",
   "metadata": {},
   "source": [
    "#### Optimizing and Evaluating the Clustering Algorithm\n",
    "With the functions defined above, we can now determine the accuracy of our algorithms. Since we are using this clustering algorithm for classification, accuracy is ultimately the most important metric; however, there are other metrics out there that can be applied directly to the clusters themselves, regardless of the associated labels. Two of these metrics that we will use are inertia and homogeneity."
   ]
  },
  {
   "cell_type": "code",
   "execution_count": 37,
   "metadata": {},
   "outputs": [],
   "source": [
    "def calculate_metrics(estimator, data, labels):\n",
    "    # Calculate and print metrics\n",
    "    print('Number of Clusters: {}'.format(estimator.n_clusters))\n",
    "    print('Inertia: {}'.format(estimator.inertia_))\n",
    "    print('Homogeneity: {}'.format(homogeneity_score(labels, estimator.labels_)))"
   ]
  },
  {
   "cell_type": "code",
   "execution_count": 38,
   "metadata": {},
   "outputs": [
    {
     "name": "stdout",
     "output_type": "stream",
     "text": [
      "Number of Clusters: 10\n",
      "Inertia: 34968575.10117225\n",
      "Homogeneity: 0.43955317029648844\n",
      "Train Accuracy: 0.45103333333333334\n",
      "Test Accuracy: 0.32861328125\n",
      "\n",
      "Number of Clusters: 16\n",
      "Inertia: 34392564.697685055\n",
      "Homogeneity: 0.520066426334054\n",
      "Train Accuracy: 0.5553333333333333\n",
      "Test Accuracy: 0.349609375\n",
      "\n",
      "Number of Clusters: 36\n",
      "Inertia: 32045589.33611652\n",
      "Homogeneity: 0.6860481170181028\n",
      "Train Accuracy: 0.7229166666666667\n",
      "Test Accuracy: 0.40322265625\n",
      "\n",
      "Number of Clusters: 64\n",
      "Inertia: 30980101.060915936\n",
      "Homogeneity: 0.7488811292106469\n",
      "Train Accuracy: 0.8237\n",
      "Test Accuracy: 0.43017578125\n",
      "\n",
      "Number of Clusters: 144\n",
      "Inertia: 25241946.336962372\n",
      "Homogeneity: 0.8450156968471696\n",
      "Train Accuracy: 0.8799333333333333\n",
      "Test Accuracy: 0.47109375\n",
      "\n",
      "Number of Clusters: 256\n",
      "Inertia: 23826079.090190247\n",
      "Homogeneity: 0.8613447883954529\n",
      "Train Accuracy: 0.9021\n",
      "Test Accuracy: 0.48525390625\n",
      "\n"
     ]
    }
   ],
   "source": [
    "clusters = [10, 16, 36, 64, 144, 256]\n",
    "\n",
    "# test different numbers of clusters\n",
    "for n_clusters in clusters:\n",
    "    kmeans = MiniBatchKMeans(n_clusters = n_clusters)\n",
    "    kmeans.fit(X_train)\n",
    "    \n",
    "    # print cluster metrics for training set\n",
    "    calculate_metrics(kmeans, X_train, y_train)\n",
    "    \n",
    "    # determine predicted labels for training set\n",
    "    cluster_labels = infer_cluster_labels(kmeans, y_train)\n",
    "    X_train_clusters = kmeans.predict(X_train)\n",
    "    y_train_pred = infer_data_labels(X_train_clusters, cluster_labels)\n",
    "    \n",
    "    # calculate and print accuracy for training set\n",
    "    print('Train Accuracy: {}'.format(accuracy_score(y_train, y_train_pred)))\n",
    "    \n",
    "    # print cluster metrics for test set    \n",
    "    # determine predicted labels for test set\n",
    "    X_test_clusters = kmeans.predict(X_test)\n",
    "    y_test_pred = infer_data_labels(X_test_clusters, cluster_labels)\n",
    "    \n",
    "    # calculate and print accuracy for test set\n",
    "    print('Test Accuracy: {}\\n'.format(accuracy_score(y_test, y_test_pred)))"
   ]
  },
  {
   "cell_type": "markdown",
   "metadata": {},
   "source": [
    "**Insights:**\n",
    "- K-means is performing better on the training set when the number of clusters increases"
   ]
  },
  {
   "cell_type": "markdown",
   "metadata": {},
   "source": [
    "### K-Means with 256 Clusters"
   ]
  },
  {
   "cell_type": "code",
   "execution_count": 39,
   "metadata": {},
   "outputs": [
    {
     "data": {
      "text/plain": [
       "MiniBatchKMeans(n_clusters=256)"
      ]
     },
     "execution_count": 39,
     "metadata": {},
     "output_type": "execute_result"
    }
   ],
   "source": [
    "# Initialize KMeans model\n",
    "kmeans = MiniBatchKMeans(n_clusters=256)\n",
    "\n",
    "# Fit the model to the training data\n",
    "kmeans.fit(X_train)"
   ]
  },
  {
   "cell_type": "markdown",
   "metadata": {},
   "source": [
    "#### K-Means: Evaluation for Train Set"
   ]
  },
  {
   "cell_type": "code",
   "execution_count": 40,
   "metadata": {},
   "outputs": [],
   "source": [
    "X_train_clusters = kmeans.predict(X_train)\n",
    "cluster_labels = infer_cluster_labels(kmeans, y_train)\n",
    "y_train_pred = infer_data_labels(X_train_clusters, cluster_labels)"
   ]
  },
  {
   "cell_type": "code",
   "execution_count": 41,
   "metadata": {},
   "outputs": [
    {
     "name": "stdout",
     "output_type": "stream",
     "text": [
      "              precision    recall  f1-score   support\n",
      "\n",
      "           0       0.90      0.84      0.87      6000\n",
      "           1       0.86      0.93      0.90      6000\n",
      "           2       0.99      0.97      0.98      6000\n",
      "           3       0.87      0.89      0.88      6000\n",
      "           4       0.75      0.98      0.85      6000\n",
      "           5       0.97      0.86      0.92      6000\n",
      "           6       0.79      0.85      0.82      6000\n",
      "           7       0.80      0.69      0.74      6000\n",
      "           8       0.90      0.82      0.86      6000\n",
      "           9       0.91      0.86      0.89      6000\n",
      "\n",
      "    accuracy                           0.87     60000\n",
      "   macro avg       0.87      0.87      0.87     60000\n",
      "weighted avg       0.87      0.87      0.87     60000\n",
      "\n",
      "Accuracy: 0.87\n"
     ]
    },
    {
     "data": {
      "image/png": "[encoded data removed]",
      "text/plain": [
       "<Figure size 432x288 with 2 Axes>"
      ]
     },
     "metadata": {},
     "output_type": "display_data"
    }
   ],
   "source": [
    "print(classification_report(y_train, y_train_pred))\n",
    "print(f\"Accuracy: {round(accuracy_score(y_train_pred, y_train), 2)}\")\n",
    "sns.heatmap(confusion_matrix(y_train, y_train_pred), annot=True);"
   ]
  },
  {
   "cell_type": "markdown",
   "metadata": {},
   "source": [
    "#### K-Means: Evaluation for Test Set"
   ]
  },
  {
   "cell_type": "code",
   "execution_count": 42,
   "metadata": {},
   "outputs": [],
   "source": [
    "X_test_clusters = kmeans.predict(X_test)\n",
    "y_test_pred = infer_data_labels(X_test_clusters, cluster_labels)"
   ]
  },
  {
   "cell_type": "code",
   "execution_count": 43,
   "metadata": {},
   "outputs": [
    {
     "name": "stdout",
     "output_type": "stream",
     "text": [
      "              precision    recall  f1-score   support\n",
      "\n",
      "           0       0.73      0.46      0.56      1024\n",
      "           1       0.85      0.35      0.49      1024\n",
      "           2       0.66      0.80      0.72      1024\n",
      "           3       0.64      0.19      0.29      1024\n",
      "           4       0.44      0.34      0.38      1024\n",
      "           5       0.45      0.65      0.53      1024\n",
      "           6       0.46      0.62      0.53      1024\n",
      "           7       0.30      0.28      0.29      1024\n",
      "           8       0.35      0.87      0.50      1024\n",
      "           9       0.59      0.29      0.39      1024\n",
      "\n",
      "    accuracy                           0.48     10240\n",
      "   macro avg       0.55      0.48      0.47     10240\n",
      "weighted avg       0.55      0.48      0.47     10240\n",
      "\n",
      "Accuracy: 0.48\n"
     ]
    },
    {
     "data": {
      "image/png": "[encoded data removed]",
      "text/plain": [
       "<Figure size 432x288 with 2 Axes>"
      ]
     },
     "metadata": {},
     "output_type": "display_data"
    }
   ],
   "source": [
    "print(classification_report(y_test, y_test_pred))\n",
    "print(f\"Accuracy: {round(accuracy_score(y_test_pred, y_test), 2)}\")\n",
    "sns.heatmap(confusion_matrix(y_test, y_test_pred), annot=True);"
   ]
  },
  {
   "cell_type": "markdown",
   "metadata": {},
   "source": [
    "## Submission for Best Model"
   ]
  },
  {
   "cell_type": "code",
   "execution_count": 44,
   "metadata": {},
   "outputs": [
    {
     "data": {
      "text/html": [
       "<div>\n",
       "<style scoped>\n",
       "    .dataframe tbody tr th:only-of-type {\n",
       "        vertical-align: middle;\n",
       "    }\n",
       "\n",
       "    .dataframe tbody tr th {\n",
       "        vertical-align: top;\n",
       "    }\n",
       "\n",
       "    .dataframe thead th {\n",
       "        text-align: right;\n",
       "    }\n",
       "</style>\n",
       "<table border=\"1\" class=\"dataframe\">\n",
       "  <thead>\n",
       "    <tr style=\"text-align: right;\">\n",
       "      <th></th>\n",
       "      <th>pixel0</th>\n",
       "      <th>pixel1</th>\n",
       "      <th>pixel2</th>\n",
       "      <th>pixel3</th>\n",
       "      <th>pixel4</th>\n",
       "      <th>pixel5</th>\n",
       "      <th>pixel6</th>\n",
       "      <th>pixel7</th>\n",
       "      <th>pixel8</th>\n",
       "      <th>pixel9</th>\n",
       "      <th>...</th>\n",
       "      <th>pixel774</th>\n",
       "      <th>pixel775</th>\n",
       "      <th>pixel776</th>\n",
       "      <th>pixel777</th>\n",
       "      <th>pixel778</th>\n",
       "      <th>pixel779</th>\n",
       "      <th>pixel780</th>\n",
       "      <th>pixel781</th>\n",
       "      <th>pixel782</th>\n",
       "      <th>pixel783</th>\n",
       "    </tr>\n",
       "  </thead>\n",
       "  <tbody>\n",
       "    <tr>\n",
       "      <th>0</th>\n",
       "      <td>0</td>\n",
       "      <td>0</td>\n",
       "      <td>0</td>\n",
       "      <td>0</td>\n",
       "      <td>0</td>\n",
       "      <td>0</td>\n",
       "      <td>0</td>\n",
       "      <td>0</td>\n",
       "      <td>0</td>\n",
       "      <td>0</td>\n",
       "      <td>...</td>\n",
       "      <td>0</td>\n",
       "      <td>0</td>\n",
       "      <td>0</td>\n",
       "      <td>0</td>\n",
       "      <td>0</td>\n",
       "      <td>0</td>\n",
       "      <td>0</td>\n",
       "      <td>0</td>\n",
       "      <td>0</td>\n",
       "      <td>0</td>\n",
       "    </tr>\n",
       "    <tr>\n",
       "      <th>1</th>\n",
       "      <td>0</td>\n",
       "      <td>0</td>\n",
       "      <td>0</td>\n",
       "      <td>0</td>\n",
       "      <td>0</td>\n",
       "      <td>0</td>\n",
       "      <td>0</td>\n",
       "      <td>0</td>\n",
       "      <td>0</td>\n",
       "      <td>0</td>\n",
       "      <td>...</td>\n",
       "      <td>0</td>\n",
       "      <td>0</td>\n",
       "      <td>0</td>\n",
       "      <td>0</td>\n",
       "      <td>0</td>\n",
       "      <td>0</td>\n",
       "      <td>0</td>\n",
       "      <td>0</td>\n",
       "      <td>0</td>\n",
       "      <td>0</td>\n",
       "    </tr>\n",
       "    <tr>\n",
       "      <th>2</th>\n",
       "      <td>0</td>\n",
       "      <td>0</td>\n",
       "      <td>0</td>\n",
       "      <td>0</td>\n",
       "      <td>0</td>\n",
       "      <td>0</td>\n",
       "      <td>0</td>\n",
       "      <td>0</td>\n",
       "      <td>0</td>\n",
       "      <td>0</td>\n",
       "      <td>...</td>\n",
       "      <td>0</td>\n",
       "      <td>0</td>\n",
       "      <td>0</td>\n",
       "      <td>0</td>\n",
       "      <td>0</td>\n",
       "      <td>0</td>\n",
       "      <td>0</td>\n",
       "      <td>0</td>\n",
       "      <td>0</td>\n",
       "      <td>0</td>\n",
       "    </tr>\n",
       "    <tr>\n",
       "      <th>3</th>\n",
       "      <td>0</td>\n",
       "      <td>0</td>\n",
       "      <td>0</td>\n",
       "      <td>0</td>\n",
       "      <td>0</td>\n",
       "      <td>0</td>\n",
       "      <td>0</td>\n",
       "      <td>0</td>\n",
       "      <td>0</td>\n",
       "      <td>0</td>\n",
       "      <td>...</td>\n",
       "      <td>0</td>\n",
       "      <td>0</td>\n",
       "      <td>0</td>\n",
       "      <td>0</td>\n",
       "      <td>0</td>\n",
       "      <td>0</td>\n",
       "      <td>0</td>\n",
       "      <td>0</td>\n",
       "      <td>0</td>\n",
       "      <td>0</td>\n",
       "    </tr>\n",
       "    <tr>\n",
       "      <th>4</th>\n",
       "      <td>0</td>\n",
       "      <td>0</td>\n",
       "      <td>0</td>\n",
       "      <td>0</td>\n",
       "      <td>0</td>\n",
       "      <td>0</td>\n",
       "      <td>0</td>\n",
       "      <td>0</td>\n",
       "      <td>0</td>\n",
       "      <td>0</td>\n",
       "      <td>...</td>\n",
       "      <td>0</td>\n",
       "      <td>0</td>\n",
       "      <td>0</td>\n",
       "      <td>0</td>\n",
       "      <td>0</td>\n",
       "      <td>0</td>\n",
       "      <td>0</td>\n",
       "      <td>0</td>\n",
       "      <td>0</td>\n",
       "      <td>0</td>\n",
       "    </tr>\n",
       "  </tbody>\n",
       "</table>\n",
       "<p>5 rows × 784 columns</p>\n",
       "</div>"
      ],
      "text/plain": [
       "   pixel0  pixel1  pixel2  pixel3  pixel4  pixel5  pixel6  pixel7  pixel8  \\\n",
       "0       0       0       0       0       0       0       0       0       0   \n",
       "1       0       0       0       0       0       0       0       0       0   \n",
       "2       0       0       0       0       0       0       0       0       0   \n",
       "3       0       0       0       0       0       0       0       0       0   \n",
       "4       0       0       0       0       0       0       0       0       0   \n",
       "\n",
       "   pixel9  ...  pixel774  pixel775  pixel776  pixel777  pixel778  pixel779  \\\n",
       "0       0  ...         0         0         0         0         0         0   \n",
       "1       0  ...         0         0         0         0         0         0   \n",
       "2       0  ...         0         0         0         0         0         0   \n",
       "3       0  ...         0         0         0         0         0         0   \n",
       "4       0  ...         0         0         0         0         0         0   \n",
       "\n",
       "   pixel780  pixel781  pixel782  pixel783  \n",
       "0         0         0         0         0  \n",
       "1         0         0         0         0  \n",
       "2         0         0         0         0  \n",
       "3         0         0         0         0  \n",
       "4         0         0         0         0  \n",
       "\n",
       "[5 rows x 784 columns]"
      ]
     },
     "execution_count": 44,
     "metadata": {},
     "output_type": "execute_result"
    }
   ],
   "source": [
    "test = pd.read_csv(\"test.csv\")\n",
    "ids = test.id\n",
    "test.drop(['id'], axis=1, inplace=True)\n",
    "test.head()"
   ]
  },
  {
   "cell_type": "code",
   "execution_count": 45,
   "metadata": {},
   "outputs": [
    {
     "data": {
      "text/plain": [
       "array([3, 0, 2, ..., 1, 6, 3])"
      ]
     },
     "execution_count": 45,
     "metadata": {},
     "output_type": "execute_result"
    }
   ],
   "source": [
    "test_pred = best_model.predict(test)\n",
    "test_pred"
   ]
  },
  {
   "cell_type": "code",
   "execution_count": 46,
   "metadata": {},
   "outputs": [],
   "source": [
    "submission = pd.DataFrame(data={\"id\": ids, \"label\": test_pred})\n",
    "submission.to_csv('submission.csv', index=False)"
   ]
  },
  {
   "cell_type": "code",
   "execution_count": null,
   "metadata": {},
   "outputs": [],
   "source": []
  }
 ],
 "metadata": {
  "kernelspec": {
   "display_name": "Python 3",
   "language": "python",
   "name": "python3"
  },
  "language_info": {
   "codemirror_mode": {
    "name": "ipython",
    "version": 3
   },
   "file_extension": ".py",
   "mimetype": "text/x-python",
   "name": "python",
   "nbconvert_exporter": "python",
   "pygments_lexer": "ipython3",
   "version": "3.8.5"
  }
 },
 "nbformat": 4,
 "nbformat_minor": 4
}
