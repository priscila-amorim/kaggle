{
 "cells": [
  {
   "cell_type": "markdown",
   "metadata": {},
   "source": [
    "# Kaggle Competition: House Prices: Regression Analyses"
   ]
  },
  {
   "cell_type": "markdown",
   "metadata": {},
   "source": [
    "# MSDS 422: Module 3 Assignment 1"
   ]
  },
  {
   "cell_type": "markdown",
   "metadata": {},
   "source": [
    "## Requirements\n",
    "1) Conduct your analysis using a cross-validation design.  \n",
    "2) Conduct / improve upon previous EDA.  \n",
    "3) Build models with many variables.  \n",
    "4) Transform and feature engineer as appropriate.  \n",
    "5) Build at a minimum the following regression models: Lasso, Ridge, ElasticNet.  \n",
    "6) Conduct hyperparameter tuning for the ElasticNet.  \n",
    "7) Evaluate performance of the model using the Kaggle metric upon which your scores are evaluated.  \n",
    "8) Submit at least two models to Kaggle.com for evaluation. Provide your Kaggle.com user name and screen snapshots of your Kaggle scores."
   ]
  },
  {
   "cell_type": "markdown",
   "metadata": {},
   "source": [
    "## Data Preparation, Exploration, and Visualization"
   ]
  },
  {
   "cell_type": "markdown",
   "metadata": {},
   "source": [
    "In this section, I want to use my previous EDA as a baseline and improve my data cleaning so that the linear regression models that I will use in the future can be more accurate. This will involve missing value imputation and creating dummy variables."
   ]
  },
  {
   "cell_type": "code",
   "execution_count": 1,
   "metadata": {},
   "outputs": [],
   "source": [
    "# import modules\n",
    "import pandas as pd\n",
    "import matplotlib.pyplot as plt\n",
    "import matplotlib.gridspec as gridspec\n",
    "import seaborn as sns\n",
    "import re\n",
    "import numpy as np\n",
    "from scipy import stats\n",
    "from sklearn import tree\n",
    "from sklearn.preprocessing import StandardScaler\n",
    "from sklearn.decomposition import PCA\n",
    "from sklearn.model_selection import train_test_split\n",
    "from sklearn.linear_model import Ridge, Lasso, ElasticNet\n",
    "from sklearn.model_selection import GridSearchCV\n",
    "from sklearn.model_selection import cross_val_score\n",
    "from sklearn.ensemble import RandomForestRegressor\n",
    "from sklearn import metrics\n",
    "import xgboost as xgb\n",
    "\n",
    "# Figures inline and set visualization style\n",
    "%matplotlib inline\n",
    "sns.set()"
   ]
  },
  {
   "cell_type": "code",
   "execution_count": 2,
   "metadata": {},
   "outputs": [],
   "source": [
    "# import train and test sets\n",
    "train = pd.read_csv(\"train.csv\")\n",
    "test = pd.read_csv(\"test.csv\")"
   ]
  },
  {
   "cell_type": "code",
   "execution_count": 3,
   "metadata": {},
   "outputs": [],
   "source": [
    "# store target variable of training data in a safe place\n",
    "sale_price_train = train.SalePrice\n",
    "\n",
    "# store ID column separately since it is useless for prediction\n",
    "train_id = train.Id\n",
    "test_id = test.Id\n",
    "\n",
    "train.drop(\"Id\", axis=1, inplace=True)\n",
    "test.drop(\"Id\", axis=1, inplace=True)\n",
    "\n",
    "# concatenate training and test sets for EDA\n",
    "data = pd.concat([train.drop(['SalePrice'], axis=1), test])"
   ]
  },
  {
   "cell_type": "code",
   "execution_count": 4,
   "metadata": {},
   "outputs": [
    {
     "data": {
      "text/html": [
       "<div>\n",
       "<style scoped>\n",
       "    .dataframe tbody tr th:only-of-type {\n",
       "        vertical-align: middle;\n",
       "    }\n",
       "\n",
       "    .dataframe tbody tr th {\n",
       "        vertical-align: top;\n",
       "    }\n",
       "\n",
       "    .dataframe thead th {\n",
       "        text-align: right;\n",
       "    }\n",
       "</style>\n",
       "<table border=\"1\" class=\"dataframe\">\n",
       "  <thead>\n",
       "    <tr style=\"text-align: right;\">\n",
       "      <th></th>\n",
       "      <th>MSSubClass</th>\n",
       "      <th>MSZoning</th>\n",
       "      <th>LotFrontage</th>\n",
       "      <th>LotArea</th>\n",
       "      <th>Street</th>\n",
       "      <th>Alley</th>\n",
       "      <th>LotShape</th>\n",
       "      <th>LandContour</th>\n",
       "      <th>Utilities</th>\n",
       "      <th>LotConfig</th>\n",
       "      <th>...</th>\n",
       "      <th>ScreenPorch</th>\n",
       "      <th>PoolArea</th>\n",
       "      <th>PoolQC</th>\n",
       "      <th>Fence</th>\n",
       "      <th>MiscFeature</th>\n",
       "      <th>MiscVal</th>\n",
       "      <th>MoSold</th>\n",
       "      <th>YrSold</th>\n",
       "      <th>SaleType</th>\n",
       "      <th>SaleCondition</th>\n",
       "    </tr>\n",
       "  </thead>\n",
       "  <tbody>\n",
       "    <tr>\n",
       "      <th>0</th>\n",
       "      <td>60</td>\n",
       "      <td>RL</td>\n",
       "      <td>65.0</td>\n",
       "      <td>8450</td>\n",
       "      <td>Pave</td>\n",
       "      <td>NaN</td>\n",
       "      <td>Reg</td>\n",
       "      <td>Lvl</td>\n",
       "      <td>AllPub</td>\n",
       "      <td>Inside</td>\n",
       "      <td>...</td>\n",
       "      <td>0</td>\n",
       "      <td>0</td>\n",
       "      <td>NaN</td>\n",
       "      <td>NaN</td>\n",
       "      <td>NaN</td>\n",
       "      <td>0</td>\n",
       "      <td>2</td>\n",
       "      <td>2008</td>\n",
       "      <td>WD</td>\n",
       "      <td>Normal</td>\n",
       "    </tr>\n",
       "    <tr>\n",
       "      <th>1</th>\n",
       "      <td>20</td>\n",
       "      <td>RL</td>\n",
       "      <td>80.0</td>\n",
       "      <td>9600</td>\n",
       "      <td>Pave</td>\n",
       "      <td>NaN</td>\n",
       "      <td>Reg</td>\n",
       "      <td>Lvl</td>\n",
       "      <td>AllPub</td>\n",
       "      <td>FR2</td>\n",
       "      <td>...</td>\n",
       "      <td>0</td>\n",
       "      <td>0</td>\n",
       "      <td>NaN</td>\n",
       "      <td>NaN</td>\n",
       "      <td>NaN</td>\n",
       "      <td>0</td>\n",
       "      <td>5</td>\n",
       "      <td>2007</td>\n",
       "      <td>WD</td>\n",
       "      <td>Normal</td>\n",
       "    </tr>\n",
       "    <tr>\n",
       "      <th>2</th>\n",
       "      <td>60</td>\n",
       "      <td>RL</td>\n",
       "      <td>68.0</td>\n",
       "      <td>11250</td>\n",
       "      <td>Pave</td>\n",
       "      <td>NaN</td>\n",
       "      <td>IR1</td>\n",
       "      <td>Lvl</td>\n",
       "      <td>AllPub</td>\n",
       "      <td>Inside</td>\n",
       "      <td>...</td>\n",
       "      <td>0</td>\n",
       "      <td>0</td>\n",
       "      <td>NaN</td>\n",
       "      <td>NaN</td>\n",
       "      <td>NaN</td>\n",
       "      <td>0</td>\n",
       "      <td>9</td>\n",
       "      <td>2008</td>\n",
       "      <td>WD</td>\n",
       "      <td>Normal</td>\n",
       "    </tr>\n",
       "    <tr>\n",
       "      <th>3</th>\n",
       "      <td>70</td>\n",
       "      <td>RL</td>\n",
       "      <td>60.0</td>\n",
       "      <td>9550</td>\n",
       "      <td>Pave</td>\n",
       "      <td>NaN</td>\n",
       "      <td>IR1</td>\n",
       "      <td>Lvl</td>\n",
       "      <td>AllPub</td>\n",
       "      <td>Corner</td>\n",
       "      <td>...</td>\n",
       "      <td>0</td>\n",
       "      <td>0</td>\n",
       "      <td>NaN</td>\n",
       "      <td>NaN</td>\n",
       "      <td>NaN</td>\n",
       "      <td>0</td>\n",
       "      <td>2</td>\n",
       "      <td>2006</td>\n",
       "      <td>WD</td>\n",
       "      <td>Abnorml</td>\n",
       "    </tr>\n",
       "    <tr>\n",
       "      <th>4</th>\n",
       "      <td>60</td>\n",
       "      <td>RL</td>\n",
       "      <td>84.0</td>\n",
       "      <td>14260</td>\n",
       "      <td>Pave</td>\n",
       "      <td>NaN</td>\n",
       "      <td>IR1</td>\n",
       "      <td>Lvl</td>\n",
       "      <td>AllPub</td>\n",
       "      <td>FR2</td>\n",
       "      <td>...</td>\n",
       "      <td>0</td>\n",
       "      <td>0</td>\n",
       "      <td>NaN</td>\n",
       "      <td>NaN</td>\n",
       "      <td>NaN</td>\n",
       "      <td>0</td>\n",
       "      <td>12</td>\n",
       "      <td>2008</td>\n",
       "      <td>WD</td>\n",
       "      <td>Normal</td>\n",
       "    </tr>\n",
       "  </tbody>\n",
       "</table>\n",
       "<p>5 rows × 79 columns</p>\n",
       "</div>"
      ],
      "text/plain": [
       "   MSSubClass MSZoning  LotFrontage  LotArea Street Alley LotShape  \\\n",
       "0          60       RL         65.0     8450   Pave   NaN      Reg   \n",
       "1          20       RL         80.0     9600   Pave   NaN      Reg   \n",
       "2          60       RL         68.0    11250   Pave   NaN      IR1   \n",
       "3          70       RL         60.0     9550   Pave   NaN      IR1   \n",
       "4          60       RL         84.0    14260   Pave   NaN      IR1   \n",
       "\n",
       "  LandContour Utilities LotConfig  ... ScreenPorch PoolArea PoolQC Fence  \\\n",
       "0         Lvl    AllPub    Inside  ...           0        0    NaN   NaN   \n",
       "1         Lvl    AllPub       FR2  ...           0        0    NaN   NaN   \n",
       "2         Lvl    AllPub    Inside  ...           0        0    NaN   NaN   \n",
       "3         Lvl    AllPub    Corner  ...           0        0    NaN   NaN   \n",
       "4         Lvl    AllPub       FR2  ...           0        0    NaN   NaN   \n",
       "\n",
       "  MiscFeature MiscVal  MoSold  YrSold  SaleType  SaleCondition  \n",
       "0         NaN       0       2    2008        WD         Normal  \n",
       "1         NaN       0       5    2007        WD         Normal  \n",
       "2         NaN       0       9    2008        WD         Normal  \n",
       "3         NaN       0       2    2006        WD        Abnorml  \n",
       "4         NaN       0      12    2008        WD         Normal  \n",
       "\n",
       "[5 rows x 79 columns]"
      ]
     },
     "execution_count": 4,
     "metadata": {},
     "output_type": "execute_result"
    }
   ],
   "source": [
    "# showing the first few rows of the data\n",
    "data.head()"
   ]
  },
  {
   "cell_type": "markdown",
   "metadata": {},
   "source": [
    "In my last EDA, I placed a heavy emphasis on exploring numerical variables. However, just by looking at the first few rows of the `data` DataFrame, we can see that we really have a lot more than just numerical data. It's important to use these variables as well for our regression models later."
   ]
  },
  {
   "cell_type": "markdown",
   "metadata": {},
   "source": [
    "Let's explore beyond what we have already explored in the `eda.ipynb`, which is from Module 1 Assignment 1. I would like to explore the proportion of missing data for each column."
   ]
  },
  {
   "cell_type": "code",
   "execution_count": 5,
   "metadata": {},
   "outputs": [
    {
     "data": {
      "text/html": [
       "<div>\n",
       "<style scoped>\n",
       "    .dataframe tbody tr th:only-of-type {\n",
       "        vertical-align: middle;\n",
       "    }\n",
       "\n",
       "    .dataframe tbody tr th {\n",
       "        vertical-align: top;\n",
       "    }\n",
       "\n",
       "    .dataframe thead th {\n",
       "        text-align: right;\n",
       "    }\n",
       "</style>\n",
       "<table border=\"1\" class=\"dataframe\">\n",
       "  <thead>\n",
       "    <tr style=\"text-align: right;\">\n",
       "      <th></th>\n",
       "      <th>Percentage of Missing Data</th>\n",
       "    </tr>\n",
       "  </thead>\n",
       "  <tbody>\n",
       "    <tr>\n",
       "      <th>PoolQC</th>\n",
       "      <td>99.657417</td>\n",
       "    </tr>\n",
       "    <tr>\n",
       "      <th>MiscFeature</th>\n",
       "      <td>96.402878</td>\n",
       "    </tr>\n",
       "    <tr>\n",
       "      <th>Alley</th>\n",
       "      <td>93.216855</td>\n",
       "    </tr>\n",
       "    <tr>\n",
       "      <th>Fence</th>\n",
       "      <td>80.438506</td>\n",
       "    </tr>\n",
       "    <tr>\n",
       "      <th>FireplaceQu</th>\n",
       "      <td>48.646797</td>\n",
       "    </tr>\n",
       "  </tbody>\n",
       "</table>\n",
       "</div>"
      ],
      "text/plain": [
       "             Percentage of Missing Data\n",
       "PoolQC                        99.657417\n",
       "MiscFeature                   96.402878\n",
       "Alley                         93.216855\n",
       "Fence                         80.438506\n",
       "FireplaceQu                   48.646797"
      ]
     },
     "execution_count": 5,
     "metadata": {},
     "output_type": "execute_result"
    }
   ],
   "source": [
    "data_null = ((data.isnull().sum() / len(data)) * 100).sort_values(ascending=False)\n",
    "missing_data = pd.DataFrame({\"Percentage of Missing Data\": data_null})\n",
    "missing_data.head()"
   ]
  },
  {
   "cell_type": "code",
   "execution_count": 6,
   "metadata": {},
   "outputs": [
    {
     "data": {
      "image/png": "[encoded data removed]",
      "text/plain": [
       "<Figure size 1296x864 with 1 Axes>"
      ]
     },
     "metadata": {},
     "output_type": "display_data"
    }
   ],
   "source": [
    "# plotting a bar plot to compare the variables and their proportion of missing data\n",
    "fig, ax = plt.subplots(figsize=(18, 12))\n",
    "plt.xticks(rotation=\"90\")\n",
    "short_missing_data = missing_data.iloc[:30]\n",
    "sns.barplot(x=short_missing_data.index, y=short_missing_data[\"Percentage of Missing Data\"], data=short_missing_data)\n",
    "plt.xlabel(\"Feature Variables\")\n",
    "plt.ylabel(\"Percentage of Missing Values\")\n",
    "plt.title(\"Percentage of Missing Data by Feature\");"
   ]
  },
  {
   "cell_type": "markdown",
   "metadata": {},
   "source": [
    "**Insights:** PoolQC, MiscFeature, Alley, and Fence are the variables that have the most amount of missing data. We should investigate the variables with missing data, and figure out what NaN values mean for these variables."
   ]
  },
  {
   "cell_type": "code",
   "execution_count": 7,
   "metadata": {},
   "outputs": [
    {
     "data": {
      "text/html": [
       "<div>\n",
       "<style scoped>\n",
       "    .dataframe tbody tr th:only-of-type {\n",
       "        vertical-align: middle;\n",
       "    }\n",
       "\n",
       "    .dataframe tbody tr th {\n",
       "        vertical-align: top;\n",
       "    }\n",
       "\n",
       "    .dataframe thead th {\n",
       "        text-align: right;\n",
       "    }\n",
       "</style>\n",
       "<table border=\"1\" class=\"dataframe\">\n",
       "  <thead>\n",
       "    <tr style=\"text-align: right;\">\n",
       "      <th></th>\n",
       "      <th>Percentage of Missing Data</th>\n",
       "    </tr>\n",
       "  </thead>\n",
       "  <tbody>\n",
       "    <tr>\n",
       "      <th>SaleType</th>\n",
       "      <td>0.034258</td>\n",
       "    </tr>\n",
       "    <tr>\n",
       "      <th>Electrical</th>\n",
       "      <td>0.034258</td>\n",
       "    </tr>\n",
       "    <tr>\n",
       "      <th>KitchenQual</th>\n",
       "      <td>0.034258</td>\n",
       "    </tr>\n",
       "    <tr>\n",
       "      <th>GarageArea</th>\n",
       "      <td>0.034258</td>\n",
       "    </tr>\n",
       "    <tr>\n",
       "      <th>GarageCars</th>\n",
       "      <td>0.034258</td>\n",
       "    </tr>\n",
       "  </tbody>\n",
       "</table>\n",
       "</div>"
      ],
      "text/plain": [
       "             Percentage of Missing Data\n",
       "SaleType                       0.034258\n",
       "Electrical                     0.034258\n",
       "KitchenQual                    0.034258\n",
       "GarageArea                     0.034258\n",
       "GarageCars                     0.034258"
      ]
     },
     "execution_count": 7,
     "metadata": {},
     "output_type": "execute_result"
    }
   ],
   "source": [
    "missing_data = missing_data.loc[missing_data[\"Percentage of Missing Data\"] > 0]\n",
    "missing_data.tail()"
   ]
  },
  {
   "cell_type": "code",
   "execution_count": 8,
   "metadata": {},
   "outputs": [
    {
     "name": "stdout",
     "output_type": "stream",
     "text": [
      "We have to explore 34 columns and their null value meanings\n"
     ]
    }
   ],
   "source": [
    "print(f\"We have to explore {len(missing_data)} columns and their null value meanings\")"
   ]
  },
  {
   "cell_type": "markdown",
   "metadata": {},
   "source": [
    "### Missing Value Imputation"
   ]
  },
  {
   "cell_type": "markdown",
   "metadata": {},
   "source": [
    "I will go in order by highest percentage of missing data from the `missing_data` DF, and will refer to the Kaggle data dictionary for this comptetition, found [here](https://www.kaggle.com/c/house-prices-advanced-regression-techniques/data?select=test.csv)."
   ]
  },
  {
   "cell_type": "code",
   "execution_count": 9,
   "metadata": {},
   "outputs": [
    {
     "data": {
      "text/plain": [
       "Index(['PoolQC', 'MiscFeature', 'Alley', 'Fence', 'FireplaceQu', 'LotFrontage',\n",
       "       'GarageCond', 'GarageQual', 'GarageYrBlt', 'GarageFinish', 'GarageType',\n",
       "       'BsmtCond', 'BsmtExposure', 'BsmtQual', 'BsmtFinType2', 'BsmtFinType1',\n",
       "       'MasVnrType', 'MasVnrArea', 'MSZoning', 'BsmtHalfBath', 'Utilities',\n",
       "       'Functional', 'BsmtFullBath', 'BsmtFinSF2', 'BsmtFinSF1', 'Exterior2nd',\n",
       "       'BsmtUnfSF', 'TotalBsmtSF', 'Exterior1st', 'SaleType', 'Electrical',\n",
       "       'KitchenQual', 'GarageArea', 'GarageCars'],\n",
       "      dtype='object')"
      ]
     },
     "execution_count": 9,
     "metadata": {},
     "output_type": "execute_result"
    }
   ],
   "source": [
    "missing_data.index"
   ]
  },
  {
   "cell_type": "markdown",
   "metadata": {},
   "source": [
    "- **PoolQC:** This is pool quality. A value of \"NA\" means there is no pool. Thus, we should impute this properly with the value \"No Pool\" for clarity."
   ]
  },
  {
   "cell_type": "code",
   "execution_count": 10,
   "metadata": {},
   "outputs": [
    {
     "data": {
      "text/html": [
       "<div>\n",
       "<style scoped>\n",
       "    .dataframe tbody tr th:only-of-type {\n",
       "        vertical-align: middle;\n",
       "    }\n",
       "\n",
       "    .dataframe tbody tr th {\n",
       "        vertical-align: top;\n",
       "    }\n",
       "\n",
       "    .dataframe thead th {\n",
       "        text-align: right;\n",
       "    }\n",
       "</style>\n",
       "<table border=\"1\" class=\"dataframe\">\n",
       "  <thead>\n",
       "    <tr style=\"text-align: right;\">\n",
       "      <th></th>\n",
       "      <th>PoolQC</th>\n",
       "    </tr>\n",
       "  </thead>\n",
       "  <tbody>\n",
       "    <tr>\n",
       "      <th>0</th>\n",
       "      <td>None</td>\n",
       "    </tr>\n",
       "    <tr>\n",
       "      <th>1</th>\n",
       "      <td>None</td>\n",
       "    </tr>\n",
       "    <tr>\n",
       "      <th>2</th>\n",
       "      <td>None</td>\n",
       "    </tr>\n",
       "    <tr>\n",
       "      <th>3</th>\n",
       "      <td>None</td>\n",
       "    </tr>\n",
       "    <tr>\n",
       "      <th>4</th>\n",
       "      <td>None</td>\n",
       "    </tr>\n",
       "  </tbody>\n",
       "</table>\n",
       "</div>"
      ],
      "text/plain": [
       "  PoolQC\n",
       "0   None\n",
       "1   None\n",
       "2   None\n",
       "3   None\n",
       "4   None"
      ]
     },
     "execution_count": 10,
     "metadata": {},
     "output_type": "execute_result"
    }
   ],
   "source": [
    "data[\"PoolQC\"].fillna(\"None\", inplace=True)\n",
    "\n",
    "# checking that \"inplace\" works for fillna\n",
    "data[[\"PoolQC\"]].head()"
   ]
  },
  {
   "cell_type": "markdown",
   "metadata": {},
   "source": [
    "- **MiscFeature**: Data description says this is miscellaneous feature not covered in other categories. A value of \"NA\" means there are no misc features. We can encode this is \"None\" instead."
   ]
  },
  {
   "cell_type": "code",
   "execution_count": 11,
   "metadata": {},
   "outputs": [],
   "source": [
    "data[\"MiscFeature\"].fillna(\"None\", inplace=True)"
   ]
  },
  {
   "cell_type": "markdown",
   "metadata": {},
   "source": [
    "- **Alley:** This is the type of alley access to property. NA means no alley access. We can encode this with \"None.\""
   ]
  },
  {
   "cell_type": "code",
   "execution_count": 12,
   "metadata": {},
   "outputs": [],
   "source": [
    "data[\"Alley\"].fillna(\"None\", inplace=True)"
   ]
  },
  {
   "cell_type": "markdown",
   "metadata": {},
   "source": [
    "- **Fence:** This is fence quality. NA means no fence. "
   ]
  },
  {
   "cell_type": "code",
   "execution_count": 13,
   "metadata": {},
   "outputs": [],
   "source": [
    "data[\"Fence\"].fillna(\"None\", inplace=True)"
   ]
  },
  {
   "cell_type": "markdown",
   "metadata": {},
   "source": [
    "- **FireplaceQu**: Fireplace quality. NA means no fireplace."
   ]
  },
  {
   "cell_type": "code",
   "execution_count": 14,
   "metadata": {},
   "outputs": [],
   "source": [
    "data[\"FireplaceQu\"].fillna(\"None\", inplace=True)"
   ]
  },
  {
   "cell_type": "markdown",
   "metadata": {},
   "source": [
    "- **LotFrontage:** Linear feet of street connected to property. This is a numerical value, so we should impute the values with the median value. Because LotFrontage is likely similar for each house in the same neighborhood, we should group by neighborhood to find the proper median value."
   ]
  },
  {
   "cell_type": "code",
   "execution_count": 15,
   "metadata": {},
   "outputs": [
    {
     "data": {
      "text/plain": [
       "LotFrontage    0.0\n",
       "dtype: float64"
      ]
     },
     "execution_count": 15,
     "metadata": {},
     "output_type": "execute_result"
    }
   ],
   "source": [
    "data[\"LotFrontage\"] = data.groupby(\"Neighborhood\")[\"LotFrontage\"].transform(lambda x: x.fillna(x.median()))\n",
    "\n",
    "# Double checking that this worked\n",
    "(data[[\"LotFrontage\"]].isnull().sum() / len(data)) * 100"
   ]
  },
  {
   "cell_type": "markdown",
   "metadata": {},
   "source": [
    "- **GarageCond, GarageQual, GarageFinish, GarageType**: Any NA values within these columns mean \"no garage\". We can encode with None."
   ]
  },
  {
   "cell_type": "code",
   "execution_count": 16,
   "metadata": {},
   "outputs": [],
   "source": [
    "for c in [\"GarageCond\", \"GarageQual\", \"GarageFinish\", \"GarageType\"]:\n",
    "    data[c].fillna(\"None\", inplace=True)"
   ]
  },
  {
   "cell_type": "markdown",
   "metadata": {},
   "source": [
    "- **GarageYrBlt, GarageArea, GarageCars**: These are numerical values, so NA values should be replaced with the value of 0 rather than a string like \"None.\" NA values mean there is no garage, so imputing with 0 makes more sense."
   ]
  },
  {
   "cell_type": "code",
   "execution_count": 17,
   "metadata": {},
   "outputs": [],
   "source": [
    "for c in [\"GarageYrBlt\", \"GarageArea\", \"GarageCars\"]:\n",
    "    data[c].fillna(0, inplace=True)"
   ]
  },
  {
   "cell_type": "markdown",
   "metadata": {},
   "source": [
    "- **BsmtCond, BsmtExposure, BsmtQual, BsmtFinType1, BsmtFinType2:** These are qualitative variables about the basement, where the NA values mean there is no basement. We can encode these with \"None\" instead."
   ]
  },
  {
   "cell_type": "code",
   "execution_count": 18,
   "metadata": {},
   "outputs": [],
   "source": [
    "for c in [\"BsmtCond\", \"BsmtExposure\", \"BsmtQual\", \"BsmtFinType1\", \"BsmtFinType2\"]:\n",
    "    data[c].fillna(\"None\", inplace=True)"
   ]
  },
  {
   "cell_type": "markdown",
   "metadata": {},
   "source": [
    "- **BsmtHalfBath, BsmtFullBath, BsmtFinSF1, BsmtFinSF2, BsmtUnfSF, TotalBsmtSF:** These are numerical variables about the basement, where the NA values should be translated to 0 since there are none of these features regarding basement."
   ]
  },
  {
   "cell_type": "code",
   "execution_count": 19,
   "metadata": {},
   "outputs": [],
   "source": [
    "for c in [\"BsmtHalfBath\", \"BsmtFullBath\", \"BsmtFinSF1\", \"BsmtFinSF2\", \"BsmtUnfSF\", \"TotalBsmtSF\"]:\n",
    "    data[c].fillna(0, inplace=True)"
   ]
  },
  {
   "cell_type": "markdown",
   "metadata": {},
   "source": [
    "- **MasVnrType, MasVnrArea:** Having an NA value likely means that there is no masonry veneer. Unfortunately, the data dictionary does not describe this. I would be wary of this variable and likely drop it in the future, or ensure that these variables have minimal weight in the linear regression model."
   ]
  },
  {
   "cell_type": "code",
   "execution_count": 20,
   "metadata": {},
   "outputs": [],
   "source": [
    "# qualitative variable\n",
    "data[\"MasVnrType\"].fillna(\"None\", inplace=True)\n",
    "\n",
    "# quantitative variable\n",
    "data[\"MasVnrArea\"].fillna(0, inplace=True)"
   ]
  },
  {
   "cell_type": "markdown",
   "metadata": {},
   "source": [
    "- **MSZoning:** Identifies the general zoning classification of the sale. We can fill it in with the mode of this variable since it is qualitative. We see that \"RL\" is the most common value for this feature."
   ]
  },
  {
   "cell_type": "code",
   "execution_count": 21,
   "metadata": {},
   "outputs": [
    {
     "data": {
      "text/plain": [
       "0    RL\n",
       "dtype: object"
      ]
     },
     "execution_count": 21,
     "metadata": {},
     "output_type": "execute_result"
    }
   ],
   "source": [
    "data[\"MSZoning\"].mode()"
   ]
  },
  {
   "cell_type": "code",
   "execution_count": 22,
   "metadata": {},
   "outputs": [],
   "source": [
    "data[\"MSZoning\"].fillna(data[\"MSZoning\"].mode()[0], inplace=True)"
   ]
  },
  {
   "cell_type": "markdown",
   "metadata": {},
   "source": [
    "- **Utilities:** Type of utilities available. Data dictionary does not specify what NA values mean. For this column, we see below from the code that only 2 values are null values, and that the rest of the data (except one) is AllPub, meaning this column may not be useful in prediction. We could fill in the missing values with \"AllPub\" since it is the mode, but should be wary of this column and possibly drop it in the future."
   ]
  },
  {
   "cell_type": "code",
   "execution_count": 23,
   "metadata": {},
   "outputs": [
    {
     "data": {
      "text/plain": [
       "Utilities    2\n",
       "dtype: int64"
      ]
     },
     "execution_count": 23,
     "metadata": {},
     "output_type": "execute_result"
    }
   ],
   "source": [
    "data[[\"Utilities\"]].isna().sum()"
   ]
  },
  {
   "cell_type": "code",
   "execution_count": 24,
   "metadata": {},
   "outputs": [
    {
     "data": {
      "text/plain": [
       "Utilities\n",
       "AllPub       2916\n",
       "NoSeWa          1\n",
       "dtype: int64"
      ]
     },
     "execution_count": 24,
     "metadata": {},
     "output_type": "execute_result"
    }
   ],
   "source": [
    "data[[\"Utilities\"]].value_counts()"
   ]
  },
  {
   "cell_type": "code",
   "execution_count": 25,
   "metadata": {},
   "outputs": [],
   "source": [
    "data[\"Utilities\"].fillna(data[\"Utilities\"].mode()[0], inplace=True)"
   ]
  },
  {
   "cell_type": "markdown",
   "metadata": {},
   "source": [
    "- **Functional:** According to data description, this is home functionality, and we should assume typical unless deductions are warranted. Thus, let's fill the null values with \"Typ.\" We only have 2 NA values, but should not drop this column later since this feature takes many different values."
   ]
  },
  {
   "cell_type": "code",
   "execution_count": 26,
   "metadata": {},
   "outputs": [
    {
     "data": {
      "text/plain": [
       "Functional    2\n",
       "dtype: int64"
      ]
     },
     "execution_count": 26,
     "metadata": {},
     "output_type": "execute_result"
    }
   ],
   "source": [
    "data[[\"Functional\"]].isna().sum()"
   ]
  },
  {
   "cell_type": "code",
   "execution_count": 27,
   "metadata": {},
   "outputs": [
    {
     "data": {
      "text/plain": [
       "Functional\n",
       "Typ           2717\n",
       "Min2            70\n",
       "Min1            65\n",
       "Mod             35\n",
       "Maj1            19\n",
       "Maj2             9\n",
       "Sev              2\n",
       "dtype: int64"
      ]
     },
     "execution_count": 27,
     "metadata": {},
     "output_type": "execute_result"
    }
   ],
   "source": [
    "data[[\"Functional\"]].value_counts()"
   ]
  },
  {
   "cell_type": "code",
   "execution_count": 28,
   "metadata": {},
   "outputs": [],
   "source": [
    "data[\"Functional\"].fillna(\"Typ\", inplace=True)"
   ]
  },
  {
   "cell_type": "markdown",
   "metadata": {},
   "source": [
    "- **Exterior1st, Exterior2nd:** Exterior covering on house (2nd: if more than one material). This takes on many values, so let's fill it in with the mode. Note that we only have 1 missing value for each of these columns."
   ]
  },
  {
   "cell_type": "code",
   "execution_count": 29,
   "metadata": {},
   "outputs": [
    {
     "data": {
      "text/plain": [
       "Exterior1st    1\n",
       "dtype: int64"
      ]
     },
     "execution_count": 29,
     "metadata": {},
     "output_type": "execute_result"
    }
   ],
   "source": [
    "data[[\"Exterior1st\"]].isna().sum()"
   ]
  },
  {
   "cell_type": "code",
   "execution_count": 30,
   "metadata": {},
   "outputs": [
    {
     "data": {
      "text/plain": [
       "Exterior1st\n",
       "VinylSd        1025\n",
       "MetalSd         450\n",
       "HdBoard         442\n",
       "Wd Sdng         411\n",
       "Plywood         221\n",
       "CemntBd         126\n",
       "BrkFace          87\n",
       "WdShing          56\n",
       "AsbShng          44\n",
       "Stucco           43\n",
       "BrkComm           6\n",
       "Stone             2\n",
       "CBlock            2\n",
       "AsphShn           2\n",
       "ImStucc           1\n",
       "dtype: int64"
      ]
     },
     "execution_count": 30,
     "metadata": {},
     "output_type": "execute_result"
    }
   ],
   "source": [
    "data[[\"Exterior1st\"]].value_counts()"
   ]
  },
  {
   "cell_type": "code",
   "execution_count": 31,
   "metadata": {},
   "outputs": [
    {
     "data": {
      "text/plain": [
       "Exterior2nd    1\n",
       "dtype: int64"
      ]
     },
     "execution_count": 31,
     "metadata": {},
     "output_type": "execute_result"
    }
   ],
   "source": [
    "data[[\"Exterior2nd\"]].isna().sum()"
   ]
  },
  {
   "cell_type": "code",
   "execution_count": 32,
   "metadata": {},
   "outputs": [
    {
     "data": {
      "text/plain": [
       "Exterior2nd\n",
       "VinylSd        1014\n",
       "MetalSd         447\n",
       "HdBoard         406\n",
       "Wd Sdng         391\n",
       "Plywood         270\n",
       "CmentBd         126\n",
       "Wd Shng          81\n",
       "Stucco           47\n",
       "BrkFace          47\n",
       "AsbShng          38\n",
       "Brk Cmn          22\n",
       "ImStucc          15\n",
       "Stone             6\n",
       "AsphShn           4\n",
       "CBlock            3\n",
       "Other             1\n",
       "dtype: int64"
      ]
     },
     "execution_count": 32,
     "metadata": {},
     "output_type": "execute_result"
    }
   ],
   "source": [
    "data[[\"Exterior2nd\"]].value_counts()"
   ]
  },
  {
   "cell_type": "code",
   "execution_count": 33,
   "metadata": {},
   "outputs": [],
   "source": [
    "data[\"Exterior1st\"].fillna(data[\"Exterior1st\"].mode()[0], inplace=True)\n",
    "data[\"Exterior2nd\"].fillna(data[\"Exterior2nd\"].mode()[0], inplace=True)"
   ]
  },
  {
   "cell_type": "markdown",
   "metadata": {},
   "source": [
    "- **SaleType:** Type of sale. We only have one missing value. Let's fill it in with the mode, which is \"WD\", meaning Warranty Deed - Conventional."
   ]
  },
  {
   "cell_type": "code",
   "execution_count": 34,
   "metadata": {},
   "outputs": [
    {
     "data": {
      "text/plain": [
       "SaleType    1\n",
       "dtype: int64"
      ]
     },
     "execution_count": 34,
     "metadata": {},
     "output_type": "execute_result"
    }
   ],
   "source": [
    "data[[\"SaleType\"]].isna().sum()"
   ]
  },
  {
   "cell_type": "code",
   "execution_count": 35,
   "metadata": {},
   "outputs": [
    {
     "data": {
      "text/plain": [
       "SaleType\n",
       "WD          2525\n",
       "New          239\n",
       "COD           87\n",
       "ConLD         26\n",
       "CWD           12\n",
       "ConLI          9\n",
       "ConLw          8\n",
       "Oth            7\n",
       "Con            5\n",
       "dtype: int64"
      ]
     },
     "execution_count": 35,
     "metadata": {},
     "output_type": "execute_result"
    }
   ],
   "source": [
    "data[[\"SaleType\"]].value_counts()"
   ]
  },
  {
   "cell_type": "code",
   "execution_count": 36,
   "metadata": {},
   "outputs": [],
   "source": [
    "data[\"SaleType\"].fillna(data[\"SaleType\"].mode()[0], inplace=True)"
   ]
  },
  {
   "cell_type": "markdown",
   "metadata": {},
   "source": [
    "- **Electrical:** Electrical system. Only one null value. We can fill it in with the mode, which is Sbrkr."
   ]
  },
  {
   "cell_type": "code",
   "execution_count": 37,
   "metadata": {},
   "outputs": [
    {
     "data": {
      "text/plain": [
       "Electrical    1\n",
       "dtype: int64"
      ]
     },
     "execution_count": 37,
     "metadata": {},
     "output_type": "execute_result"
    }
   ],
   "source": [
    "data[[\"Electrical\"]].isna().sum()"
   ]
  },
  {
   "cell_type": "code",
   "execution_count": 38,
   "metadata": {},
   "outputs": [
    {
     "data": {
      "text/plain": [
       "Electrical\n",
       "SBrkr         2671\n",
       "FuseA          188\n",
       "FuseF           50\n",
       "FuseP            8\n",
       "Mix              1\n",
       "dtype: int64"
      ]
     },
     "execution_count": 38,
     "metadata": {},
     "output_type": "execute_result"
    }
   ],
   "source": [
    "data[[\"Electrical\"]].value_counts()"
   ]
  },
  {
   "cell_type": "code",
   "execution_count": 39,
   "metadata": {},
   "outputs": [],
   "source": [
    "data[\"Electrical\"].fillna(data[\"Electrical\"].mode()[0], inplace=True)"
   ]
  },
  {
   "cell_type": "markdown",
   "metadata": {},
   "source": [
    "- **KitchenQual:** Kitchen quality. Only one null value. Can fill in with the mode, which is \"Typical/Average\"."
   ]
  },
  {
   "cell_type": "code",
   "execution_count": 40,
   "metadata": {},
   "outputs": [
    {
     "data": {
      "text/plain": [
       "KitchenQual    1\n",
       "dtype: int64"
      ]
     },
     "execution_count": 40,
     "metadata": {},
     "output_type": "execute_result"
    }
   ],
   "source": [
    "data[[\"KitchenQual\"]].isna().sum()"
   ]
  },
  {
   "cell_type": "code",
   "execution_count": 41,
   "metadata": {},
   "outputs": [
    {
     "data": {
      "text/plain": [
       "KitchenQual\n",
       "TA             1492\n",
       "Gd             1151\n",
       "Ex              205\n",
       "Fa               70\n",
       "dtype: int64"
      ]
     },
     "execution_count": 41,
     "metadata": {},
     "output_type": "execute_result"
    }
   ],
   "source": [
    "data[[\"KitchenQual\"]].value_counts()"
   ]
  },
  {
   "cell_type": "code",
   "execution_count": 42,
   "metadata": {},
   "outputs": [],
   "source": [
    "data[\"KitchenQual\"].fillna(data[\"KitchenQual\"].mode()[0], inplace=True)"
   ]
  },
  {
   "cell_type": "markdown",
   "metadata": {},
   "source": [
    "Finally, let's double check that we have no missing data."
   ]
  },
  {
   "cell_type": "code",
   "execution_count": 43,
   "metadata": {
    "scrolled": true
   },
   "outputs": [
    {
     "name": "stdout",
     "output_type": "stream",
     "text": [
      "<class 'pandas.core.frame.DataFrame'>\n",
      "Int64Index: 2919 entries, 0 to 1458\n",
      "Data columns (total 79 columns):\n",
      " #   Column         Non-Null Count  Dtype  \n",
      "---  ------         --------------  -----  \n",
      " 0   MSSubClass     2919 non-null   int64  \n",
      " 1   MSZoning       2919 non-null   object \n",
      " 2   LotFrontage    2919 non-null   float64\n",
      " 3   LotArea        2919 non-null   int64  \n",
      " 4   Street         2919 non-null   object \n",
      " 5   Alley          2919 non-null   object \n",
      " 6   LotShape       2919 non-null   object \n",
      " 7   LandContour    2919 non-null   object \n",
      " 8   Utilities      2919 non-null   object \n",
      " 9   LotConfig      2919 non-null   object \n",
      " 10  LandSlope      2919 non-null   object \n",
      " 11  Neighborhood   2919 non-null   object \n",
      " 12  Condition1     2919 non-null   object \n",
      " 13  Condition2     2919 non-null   object \n",
      " 14  BldgType       2919 non-null   object \n",
      " 15  HouseStyle     2919 non-null   object \n",
      " 16  OverallQual    2919 non-null   int64  \n",
      " 17  OverallCond    2919 non-null   int64  \n",
      " 18  YearBuilt      2919 non-null   int64  \n",
      " 19  YearRemodAdd   2919 non-null   int64  \n",
      " 20  RoofStyle      2919 non-null   object \n",
      " 21  RoofMatl       2919 non-null   object \n",
      " 22  Exterior1st    2919 non-null   object \n",
      " 23  Exterior2nd    2919 non-null   object \n",
      " 24  MasVnrType     2919 non-null   object \n",
      " 25  MasVnrArea     2919 non-null   float64\n",
      " 26  ExterQual      2919 non-null   object \n",
      " 27  ExterCond      2919 non-null   object \n",
      " 28  Foundation     2919 non-null   object \n",
      " 29  BsmtQual       2919 non-null   object \n",
      " 30  BsmtCond       2919 non-null   object \n",
      " 31  BsmtExposure   2919 non-null   object \n",
      " 32  BsmtFinType1   2919 non-null   object \n",
      " 33  BsmtFinSF1     2919 non-null   float64\n",
      " 34  BsmtFinType2   2919 non-null   object \n",
      " 35  BsmtFinSF2     2919 non-null   float64\n",
      " 36  BsmtUnfSF      2919 non-null   float64\n",
      " 37  TotalBsmtSF    2919 non-null   float64\n",
      " 38  Heating        2919 non-null   object \n",
      " 39  HeatingQC      2919 non-null   object \n",
      " 40  CentralAir     2919 non-null   object \n",
      " 41  Electrical     2919 non-null   object \n",
      " 42  1stFlrSF       2919 non-null   int64  \n",
      " 43  2ndFlrSF       2919 non-null   int64  \n",
      " 44  LowQualFinSF   2919 non-null   int64  \n",
      " 45  GrLivArea      2919 non-null   int64  \n",
      " 46  BsmtFullBath   2919 non-null   float64\n",
      " 47  BsmtHalfBath   2919 non-null   float64\n",
      " 48  FullBath       2919 non-null   int64  \n",
      " 49  HalfBath       2919 non-null   int64  \n",
      " 50  BedroomAbvGr   2919 non-null   int64  \n",
      " 51  KitchenAbvGr   2919 non-null   int64  \n",
      " 52  KitchenQual    2919 non-null   object \n",
      " 53  TotRmsAbvGrd   2919 non-null   int64  \n",
      " 54  Functional     2919 non-null   object \n",
      " 55  Fireplaces     2919 non-null   int64  \n",
      " 56  FireplaceQu    2919 non-null   object \n",
      " 57  GarageType     2919 non-null   object \n",
      " 58  GarageYrBlt    2919 non-null   float64\n",
      " 59  GarageFinish   2919 non-null   object \n",
      " 60  GarageCars     2919 non-null   float64\n",
      " 61  GarageArea     2919 non-null   float64\n",
      " 62  GarageQual     2919 non-null   object \n",
      " 63  GarageCond     2919 non-null   object \n",
      " 64  PavedDrive     2919 non-null   object \n",
      " 65  WoodDeckSF     2919 non-null   int64  \n",
      " 66  OpenPorchSF    2919 non-null   int64  \n",
      " 67  EnclosedPorch  2919 non-null   int64  \n",
      " 68  3SsnPorch      2919 non-null   int64  \n",
      " 69  ScreenPorch    2919 non-null   int64  \n",
      " 70  PoolArea       2919 non-null   int64  \n",
      " 71  PoolQC         2919 non-null   object \n",
      " 72  Fence          2919 non-null   object \n",
      " 73  MiscFeature    2919 non-null   object \n",
      " 74  MiscVal        2919 non-null   int64  \n",
      " 75  MoSold         2919 non-null   int64  \n",
      " 76  YrSold         2919 non-null   int64  \n",
      " 77  SaleType       2919 non-null   object \n",
      " 78  SaleCondition  2919 non-null   object \n",
      "dtypes: float64(11), int64(25), object(43)\n",
      "memory usage: 1.8+ MB\n"
     ]
    }
   ],
   "source": [
    "data.info()"
   ]
  },
  {
   "cell_type": "markdown",
   "metadata": {},
   "source": [
    "Success!"
   ]
  },
  {
   "cell_type": "markdown",
   "metadata": {},
   "source": [
    "Something else that concerned me from the last EDA notebook is that the distribution of `SalePrice` is positively skewed. We discussed in class that we should apply some transformation to this variable because linear models assume that the target variable is also linear."
   ]
  },
  {
   "cell_type": "code",
   "execution_count": 44,
   "metadata": {},
   "outputs": [],
   "source": [
    "# stealing this from a YouTube video (will link below)\n",
    "def plotting_3_chart(df, feature):\n",
    "    fig, axes = plt.subplots(3, 1, figsize=(15,15))\n",
    "    \n",
    "    # customizing histogram grid\n",
    "    # set title\n",
    "    axes[0].set_title(\"Histogram\")\n",
    "    # plot histogram\n",
    "    sns.histplot(x=feature, data=df, kde=True, ax=axes[0])\n",
    "    \n",
    "    # customizing qq plot\n",
    "    # set title\n",
    "    axes[1].set_title(\"QQ Plot\")\n",
    "    # plot qq plot\n",
    "    stats.probplot(x=df.loc[:, feature], plot=axes[1])\n",
    "    \n",
    "    # customizing box plot\n",
    "    # set title\n",
    "    axes[2].set_title(\"Box Plot\")\n",
    "    # plot box plot\n",
    "    sns.boxplot(x=feature, data=df, ax=axes[2])"
   ]
  },
  {
   "cell_type": "code",
   "execution_count": 45,
   "metadata": {},
   "outputs": [
    {
     "name": "stdout",
     "output_type": "stream",
     "text": [
      "Skewness: 1.8828757597682129\n",
      "Kurtosis: 6.536281860064529\n"
     ]
    },
    {
     "data": {
      "image/png": "[encoded data removed]",
      "text/plain": [
       "<Figure size 1080x1080 with 3 Axes>"
      ]
     },
     "metadata": {},
     "output_type": "display_data"
    }
   ],
   "source": [
    "plotting_3_chart(train, \"SalePrice\")\n",
    "\n",
    "# skewness and kurtosis\n",
    "print(f\"Skewness: {train['SalePrice'].skew()}\")\n",
    "print(f\"Kurtosis: {train['SalePrice'].kurt()}\")"
   ]
  },
  {
   "cell_type": "markdown",
   "metadata": {},
   "source": [
    "The high value of skewness confirms that `SalePrice` is positively skewed. The high value of kurtosis indicates that the data is very peaked around the mean/median. A more normal distribution would have a kurtosis value of about 3, but our kurtosis value is doubled. Not good!    \n",
    "\n",
    "\n",
    "We can also see that the probability plot is curved, suggesting nonlinearity. A log transformation will help us in this situation to create a more normal distribution."
   ]
  },
  {
   "cell_type": "code",
   "execution_count": 46,
   "metadata": {},
   "outputs": [
    {
     "name": "stdout",
     "output_type": "stream",
     "text": [
      "Skewness: 0.12134661989685329\n",
      "Kurtosis: 0.809519155707878\n"
     ]
    },
    {
     "data": {
      "image/png": "[encoded data removed]",
      "text/plain": [
       "<Figure size 1080x1080 with 3 Axes>"
      ]
     },
     "metadata": {},
     "output_type": "display_data"
    }
   ],
   "source": [
    "# store log of target variable of training data in a safe place\n",
    "sale_price_train_log = np.log1p(train['SalePrice'])\n",
    "\n",
    "train[\"SalePrice\"] = sale_price_train_log\n",
    "\n",
    "# plot\n",
    "plotting_3_chart(train, \"SalePrice\")\n",
    "\n",
    "# skewness and kurtosis\n",
    "print(f\"Skewness: {train['SalePrice'].skew()}\")\n",
    "print(f\"Kurtosis: {train['SalePrice'].kurt()}\")"
   ]
  },
  {
   "cell_type": "markdown",
   "metadata": {},
   "source": [
    "**Insights:** We see that `SalePriceLog` has become more normalized. The lower values of skewness and kurtosis indicate this, as well as the probability plot. From the box plot, we still see some outliers. We may or may not need to drop these outliers, but for now, I don't think it's a good idea because we have multiple outliers that can indicate some uniqueness for those homes, which need to receive a proper and accurate prediction in case the test set also includes outliers such as these."
   ]
  },
  {
   "cell_type": "markdown",
   "metadata": {},
   "source": [
    "## Feature Engineering"
   ]
  },
  {
   "cell_type": "markdown",
   "metadata": {},
   "source": [
    "Based on `data.info()` from the previous cell of code that was run, some features should not be integers, such as \"MSSubClass\". Let's fix that by turning variables into a string."
   ]
  },
  {
   "cell_type": "code",
   "execution_count": 47,
   "metadata": {},
   "outputs": [],
   "source": [
    "int_vars_to_string = [\"MSSubClass\", \"OverallQual\", \"OverallCond\", \"YearBuilt\", \"YearRemodAdd\", \"GarageYrBlt\", \n",
    "                      \"YrSold\", \"MoSold\"]\n",
    "for c in int_vars_to_string:\n",
    "    data[c] = data[c].astype(str)"
   ]
  },
  {
   "cell_type": "markdown",
   "metadata": {},
   "source": [
    "Let's combine some features to remove features that may be collinear, such as a value of `TotalSQFT` that is just the SQFT of basement, 1st floor, and 2nd floor combined."
   ]
  },
  {
   "cell_type": "code",
   "execution_count": 48,
   "metadata": {},
   "outputs": [],
   "source": [
    "# total sqft column\n",
    "data[\"TotalSF\"] = data[\"TotalBsmtSF\"] + data[\"1stFlrSF\"] + data[\"2ndFlrSF\"]\n",
    "\n",
    "# concatenating string Year values to create uniqueness and later bin\n",
    "# got this idea from a YouTube video, but I find it useless\n",
    "# data[\"YrBuiltRemod\"] = data[\"YearBuilt\"] + data[\"YearRemodAdd\"]\n",
    "\n",
    "# total number of bathrooms\n",
    "data[\"TotalBathrooms\"] = data[\"FullBath\"] + data[\"HalfBath\"] + data[\"BsmtFullBath\"] + data[\"BsmtHalfBath\"]"
   ]
  },
  {
   "cell_type": "markdown",
   "metadata": {},
   "source": [
    "Before using `pd.get_dummies()`, we should create dummy variables of our own for certain features, such as whether or not a house has a pool, garage, 2nd floor, etc. like I did in the EDA notebook."
   ]
  },
  {
   "cell_type": "code",
   "execution_count": 49,
   "metadata": {},
   "outputs": [],
   "source": [
    "data[\"Has2ndFlr\"] = data[[\"2ndFlrSF\"]].apply(lambda x: x > 0)\n",
    "data[\"HasBsmt\"] = data[[\"TotalBsmtSF\"]].apply(lambda x: x > 0)\n",
    "data[\"HasPool\"] = data[[\"PoolArea\"]].apply(lambda x: x > 0)\n",
    "data[\"HasGarage\"] = data[[\"GarageArea\"]].apply(lambda x: x > 0)\n",
    "data[\"HasFireplace\"] = data[[\"Fireplaces\"]].apply(lambda x: x > 0)"
   ]
  },
  {
   "cell_type": "markdown",
   "metadata": {},
   "source": [
    "Something I want to add is whether or not a house was remodeled. This is super important in sales because buyers prefer more modern homes."
   ]
  },
  {
   "cell_type": "code",
   "execution_count": 50,
   "metadata": {},
   "outputs": [
    {
     "data": {
      "text/html": [
       "<div>\n",
       "<style scoped>\n",
       "    .dataframe tbody tr th:only-of-type {\n",
       "        vertical-align: middle;\n",
       "    }\n",
       "\n",
       "    .dataframe tbody tr th {\n",
       "        vertical-align: top;\n",
       "    }\n",
       "\n",
       "    .dataframe thead th {\n",
       "        text-align: right;\n",
       "    }\n",
       "</style>\n",
       "<table border=\"1\" class=\"dataframe\">\n",
       "  <thead>\n",
       "    <tr style=\"text-align: right;\">\n",
       "      <th></th>\n",
       "      <th>MSSubClass</th>\n",
       "      <th>MSZoning</th>\n",
       "      <th>LotFrontage</th>\n",
       "      <th>LotArea</th>\n",
       "      <th>Street</th>\n",
       "      <th>Alley</th>\n",
       "      <th>LotShape</th>\n",
       "      <th>LandContour</th>\n",
       "      <th>Utilities</th>\n",
       "      <th>LotConfig</th>\n",
       "      <th>...</th>\n",
       "      <th>SaleType</th>\n",
       "      <th>SaleCondition</th>\n",
       "      <th>TotalSF</th>\n",
       "      <th>TotalBathrooms</th>\n",
       "      <th>Has2ndFlr</th>\n",
       "      <th>HasBsmt</th>\n",
       "      <th>HasPool</th>\n",
       "      <th>HasGarage</th>\n",
       "      <th>HasFireplace</th>\n",
       "      <th>RemodAdd</th>\n",
       "    </tr>\n",
       "  </thead>\n",
       "  <tbody>\n",
       "    <tr>\n",
       "      <th>0</th>\n",
       "      <td>60</td>\n",
       "      <td>RL</td>\n",
       "      <td>65.0</td>\n",
       "      <td>8450</td>\n",
       "      <td>Pave</td>\n",
       "      <td>None</td>\n",
       "      <td>Reg</td>\n",
       "      <td>Lvl</td>\n",
       "      <td>AllPub</td>\n",
       "      <td>Inside</td>\n",
       "      <td>...</td>\n",
       "      <td>WD</td>\n",
       "      <td>Normal</td>\n",
       "      <td>2566.0</td>\n",
       "      <td>4.0</td>\n",
       "      <td>True</td>\n",
       "      <td>True</td>\n",
       "      <td>False</td>\n",
       "      <td>True</td>\n",
       "      <td>False</td>\n",
       "      <td>False</td>\n",
       "    </tr>\n",
       "    <tr>\n",
       "      <th>1</th>\n",
       "      <td>20</td>\n",
       "      <td>RL</td>\n",
       "      <td>80.0</td>\n",
       "      <td>9600</td>\n",
       "      <td>Pave</td>\n",
       "      <td>None</td>\n",
       "      <td>Reg</td>\n",
       "      <td>Lvl</td>\n",
       "      <td>AllPub</td>\n",
       "      <td>FR2</td>\n",
       "      <td>...</td>\n",
       "      <td>WD</td>\n",
       "      <td>Normal</td>\n",
       "      <td>2524.0</td>\n",
       "      <td>3.0</td>\n",
       "      <td>False</td>\n",
       "      <td>True</td>\n",
       "      <td>False</td>\n",
       "      <td>True</td>\n",
       "      <td>True</td>\n",
       "      <td>False</td>\n",
       "    </tr>\n",
       "    <tr>\n",
       "      <th>2</th>\n",
       "      <td>60</td>\n",
       "      <td>RL</td>\n",
       "      <td>68.0</td>\n",
       "      <td>11250</td>\n",
       "      <td>Pave</td>\n",
       "      <td>None</td>\n",
       "      <td>IR1</td>\n",
       "      <td>Lvl</td>\n",
       "      <td>AllPub</td>\n",
       "      <td>Inside</td>\n",
       "      <td>...</td>\n",
       "      <td>WD</td>\n",
       "      <td>Normal</td>\n",
       "      <td>2706.0</td>\n",
       "      <td>4.0</td>\n",
       "      <td>True</td>\n",
       "      <td>True</td>\n",
       "      <td>False</td>\n",
       "      <td>True</td>\n",
       "      <td>True</td>\n",
       "      <td>True</td>\n",
       "    </tr>\n",
       "    <tr>\n",
       "      <th>3</th>\n",
       "      <td>70</td>\n",
       "      <td>RL</td>\n",
       "      <td>60.0</td>\n",
       "      <td>9550</td>\n",
       "      <td>Pave</td>\n",
       "      <td>None</td>\n",
       "      <td>IR1</td>\n",
       "      <td>Lvl</td>\n",
       "      <td>AllPub</td>\n",
       "      <td>Corner</td>\n",
       "      <td>...</td>\n",
       "      <td>WD</td>\n",
       "      <td>Abnorml</td>\n",
       "      <td>2473.0</td>\n",
       "      <td>2.0</td>\n",
       "      <td>True</td>\n",
       "      <td>True</td>\n",
       "      <td>False</td>\n",
       "      <td>True</td>\n",
       "      <td>True</td>\n",
       "      <td>True</td>\n",
       "    </tr>\n",
       "    <tr>\n",
       "      <th>4</th>\n",
       "      <td>60</td>\n",
       "      <td>RL</td>\n",
       "      <td>84.0</td>\n",
       "      <td>14260</td>\n",
       "      <td>Pave</td>\n",
       "      <td>None</td>\n",
       "      <td>IR1</td>\n",
       "      <td>Lvl</td>\n",
       "      <td>AllPub</td>\n",
       "      <td>FR2</td>\n",
       "      <td>...</td>\n",
       "      <td>WD</td>\n",
       "      <td>Normal</td>\n",
       "      <td>3343.0</td>\n",
       "      <td>4.0</td>\n",
       "      <td>True</td>\n",
       "      <td>True</td>\n",
       "      <td>False</td>\n",
       "      <td>True</td>\n",
       "      <td>True</td>\n",
       "      <td>False</td>\n",
       "    </tr>\n",
       "  </tbody>\n",
       "</table>\n",
       "<p>5 rows × 87 columns</p>\n",
       "</div>"
      ],
      "text/plain": [
       "  MSSubClass MSZoning  LotFrontage  LotArea Street Alley LotShape LandContour  \\\n",
       "0         60       RL         65.0     8450   Pave  None      Reg         Lvl   \n",
       "1         20       RL         80.0     9600   Pave  None      Reg         Lvl   \n",
       "2         60       RL         68.0    11250   Pave  None      IR1         Lvl   \n",
       "3         70       RL         60.0     9550   Pave  None      IR1         Lvl   \n",
       "4         60       RL         84.0    14260   Pave  None      IR1         Lvl   \n",
       "\n",
       "  Utilities LotConfig  ... SaleType SaleCondition TotalSF TotalBathrooms  \\\n",
       "0    AllPub    Inside  ...       WD        Normal  2566.0            4.0   \n",
       "1    AllPub       FR2  ...       WD        Normal  2524.0            3.0   \n",
       "2    AllPub    Inside  ...       WD        Normal  2706.0            4.0   \n",
       "3    AllPub    Corner  ...       WD       Abnorml  2473.0            2.0   \n",
       "4    AllPub       FR2  ...       WD        Normal  3343.0            4.0   \n",
       "\n",
       "  Has2ndFlr HasBsmt HasPool HasGarage HasFireplace RemodAdd  \n",
       "0      True    True   False      True        False    False  \n",
       "1     False    True   False      True         True    False  \n",
       "2      True    True   False      True         True     True  \n",
       "3      True    True   False      True         True     True  \n",
       "4      True    True   False      True         True    False  \n",
       "\n",
       "[5 rows x 87 columns]"
      ]
     },
     "execution_count": 50,
     "metadata": {},
     "output_type": "execute_result"
    }
   ],
   "source": [
    "remod = []\n",
    "temp_data = data.reset_index()\n",
    "for i in range(len(temp_data)):\n",
    "    remod.append(temp_data.loc[i, \"YearBuilt\"] != temp_data.loc[i, \"YearRemodAdd\"])\n",
    "    \n",
    "data[\"RemodAdd\"] = remod\n",
    "data.head()"
   ]
  },
  {
   "cell_type": "markdown",
   "metadata": {},
   "source": [
    "### Binning Categorical Data: Custom Encoding\n",
    "During this week's lecture, Larry and John suggested that I should bin the categorical data. This makes sense since when we explored the values of specific variables during missing value imputation, we can see that some variables have a lot of a specific value, and minimal amounts of other values. It would be best to bin those low amounts to create better regression analyses and improve our Kaggle scores.    \n",
    "\n",
    "Below, I will perform custom encoding to determine whether or not a specific value in a categorical column is the most popular value or not. This should only be done for columns that have an extreme mode for a specific value. Let's look at each column one by one. Then, I will use pd.get_dummies() for other categorical columns where I didn't use custom encoding.    \n",
    "\n",
    "- `PoolQC`"
   ]
  },
  {
   "cell_type": "code",
   "execution_count": 51,
   "metadata": {},
   "outputs": [
    {
     "data": {
      "text/plain": [
       "None    2909\n",
       "Gd         4\n",
       "Ex         4\n",
       "Fa         2\n",
       "Name: PoolQC, dtype: int64"
      ]
     },
     "execution_count": 51,
     "metadata": {},
     "output_type": "execute_result"
    }
   ],
   "source": [
    "data[\"PoolQC\"].value_counts()"
   ]
  },
  {
   "cell_type": "code",
   "execution_count": 52,
   "metadata": {},
   "outputs": [
    {
     "data": {
      "text/plain": [
       "False    2906\n",
       "True       13\n",
       "Name: HasPool, dtype: int64"
      ]
     },
     "execution_count": 52,
     "metadata": {},
     "output_type": "execute_result"
    }
   ],
   "source": [
    "data[\"HasPool\"].value_counts()"
   ]
  },
  {
   "cell_type": "code",
   "execution_count": 53,
   "metadata": {},
   "outputs": [
    {
     "data": {
      "text/plain": [
       "0      2906\n",
       "561       1\n",
       "555       1\n",
       "519       1\n",
       "800       1\n",
       "738       1\n",
       "648       1\n",
       "576       1\n",
       "512       1\n",
       "480       1\n",
       "444       1\n",
       "368       1\n",
       "228       1\n",
       "144       1\n",
       "Name: PoolArea, dtype: int64"
      ]
     },
     "execution_count": 53,
     "metadata": {},
     "output_type": "execute_result"
    }
   ],
   "source": [
    "data[\"PoolArea\"].value_counts()"
   ]
  },
  {
   "cell_type": "code",
   "execution_count": 54,
   "metadata": {},
   "outputs": [
    {
     "data": {
      "text/html": [
       "<div>\n",
       "<style scoped>\n",
       "    .dataframe tbody tr th:only-of-type {\n",
       "        vertical-align: middle;\n",
       "    }\n",
       "\n",
       "    .dataframe tbody tr th {\n",
       "        vertical-align: top;\n",
       "    }\n",
       "\n",
       "    .dataframe thead th {\n",
       "        text-align: right;\n",
       "    }\n",
       "</style>\n",
       "<table border=\"1\" class=\"dataframe\">\n",
       "  <thead>\n",
       "    <tr style=\"text-align: right;\">\n",
       "      <th></th>\n",
       "      <th>HasPool</th>\n",
       "      <th>PoolQC</th>\n",
       "      <th>PoolArea</th>\n",
       "    </tr>\n",
       "  </thead>\n",
       "  <tbody>\n",
       "    <tr>\n",
       "      <th>960</th>\n",
       "      <td>True</td>\n",
       "      <td>None</td>\n",
       "      <td>368</td>\n",
       "    </tr>\n",
       "    <tr>\n",
       "      <th>1043</th>\n",
       "      <td>True</td>\n",
       "      <td>None</td>\n",
       "      <td>444</td>\n",
       "    </tr>\n",
       "    <tr>\n",
       "      <th>1139</th>\n",
       "      <td>True</td>\n",
       "      <td>None</td>\n",
       "      <td>561</td>\n",
       "    </tr>\n",
       "  </tbody>\n",
       "</table>\n",
       "</div>"
      ],
      "text/plain": [
       "      HasPool PoolQC  PoolArea\n",
       "960      True   None       368\n",
       "1043     True   None       444\n",
       "1139     True   None       561"
      ]
     },
     "execution_count": 54,
     "metadata": {},
     "output_type": "execute_result"
    }
   ],
   "source": [
    "data.loc[(data[\"HasPool\"] == True) & (data[\"PoolQC\"] == \"None\"), [\"HasPool\", \"PoolQC\", \"PoolArea\"]]"
   ]
  },
  {
   "cell_type": "markdown",
   "metadata": {},
   "source": [
    "**Insights:** The `PoolQC` column primarily has \"None\" values. We can see there is an anomaly from our previous custom column that we created called `HasPool`. Through missing value imputation, the houses above have a `PoolArea` value that is greater than 0, but did not have a value for PoolQC. I don't want to improperly encode these variables, so I will drop the `PoolQC` column and rely on `HasPool` instead."
   ]
  },
  {
   "cell_type": "code",
   "execution_count": 55,
   "metadata": {},
   "outputs": [],
   "source": [
    "# I will drop the columns at once at the end of this section before model training to do it in one go\n",
    "columns_to_drop = [\"PoolQC\"]"
   ]
  },
  {
   "cell_type": "code",
   "execution_count": 56,
   "metadata": {},
   "outputs": [
    {
     "name": "stdout",
     "output_type": "stream",
     "text": [
      "{'GarageCond', 'BsmtFinType1', 'MasVnrType', 'HouseStyle', 'Heating', 'YearRemodAdd', 'LotShape', 'GarageQual', 'RoofStyle', 'Fence', 'CentralAir', 'LotConfig', 'MSZoning', 'ExterQual', 'Condition1', 'LandSlope', 'Electrical', 'SaleType', 'ExterCond', 'MSSubClass', 'RoofMatl', 'Exterior2nd', 'MoSold', 'Utilities', 'BsmtQual', 'Alley', 'OverallCond', 'OverallQual', 'GarageYrBlt', 'KitchenQual', 'GarageType', 'Neighborhood', 'YearBuilt', 'HeatingQC', 'Street', 'FireplaceQu', 'BsmtCond', 'GarageFinish', 'SaleCondition', 'Functional', 'LandContour', 'BsmtExposure', 'Exterior1st', 'YrSold', 'BldgType', 'Foundation', 'PoolQC', 'MiscFeature', 'PavedDrive', 'Condition2', 'BsmtFinType2'}\n"
     ]
    }
   ],
   "source": [
    "all_columns = set(data.columns.to_list())\n",
    "numeric_columns = set(data._get_numeric_data().columns.to_list())\n",
    "categorical_columns = all_columns - numeric_columns\n",
    "assert len(numeric_columns) + len(categorical_columns) == len(all_columns)\n",
    "print(categorical_columns)"
   ]
  },
  {
   "cell_type": "markdown",
   "metadata": {},
   "source": [
    "- `KitchenQual`"
   ]
  },
  {
   "cell_type": "code",
   "execution_count": 57,
   "metadata": {},
   "outputs": [
    {
     "data": {
      "text/plain": [
       "TA    1493\n",
       "Gd    1151\n",
       "Ex     205\n",
       "Fa      70\n",
       "Name: KitchenQual, dtype: int64"
      ]
     },
     "execution_count": 57,
     "metadata": {},
     "output_type": "execute_result"
    }
   ],
   "source": [
    "data[\"KitchenQual\"].value_counts()"
   ]
  },
  {
   "cell_type": "markdown",
   "metadata": {},
   "source": [
    "**Insights:** It seems like values of `KitchenQual` are pretty spaced out, and it would be inappropriate to bin \"excellent\" and \"fair\" qualities together. I will leave this as is.    \n",
    "\n",
    "- `FireplaceQu`"
   ]
  },
  {
   "cell_type": "code",
   "execution_count": 58,
   "metadata": {},
   "outputs": [
    {
     "data": {
      "text/plain": [
       "None    1420\n",
       "Gd       744\n",
       "TA       592\n",
       "Fa        74\n",
       "Po        46\n",
       "Ex        43\n",
       "Name: FireplaceQu, dtype: int64"
      ]
     },
     "execution_count": 58,
     "metadata": {},
     "output_type": "execute_result"
    }
   ],
   "source": [
    "data[\"FireplaceQu\"].value_counts()"
   ]
  },
  {
   "cell_type": "markdown",
   "metadata": {},
   "source": [
    "**Insights:** When reading the data description for this variable, it also seems inappropriate to bin Fair or Poor with Typical/Average because each value has a different meaning about the fireplace. For instance, a value of Fair means the fireplace is a prefabricated fireplace in the basement, while a value of Poor means the fireplace is a Ben Franklin Stove. I will leave this one as is.    \n",
    "\n",
    "It is a lot to show each and every column I am looking at. From now on, I will only show a column's value counts if I feel I should manipulate the column.    \n",
    "\n",
    "- `Functional`"
   ]
  },
  {
   "cell_type": "code",
   "execution_count": 59,
   "metadata": {},
   "outputs": [
    {
     "data": {
      "text/plain": [
       "Typ     2719\n",
       "Min2      70\n",
       "Min1      65\n",
       "Mod       35\n",
       "Maj1      19\n",
       "Maj2       9\n",
       "Sev        2\n",
       "Name: Functional, dtype: int64"
      ]
     },
     "execution_count": 59,
     "metadata": {},
     "output_type": "execute_result"
    }
   ],
   "source": [
    "data[\"Functional\"].value_counts()"
   ]
  },
  {
   "cell_type": "markdown",
   "metadata": {},
   "source": [
    "We should bin this data. There are 4 main categories, but this variable has 7 instead, and these are: typical, minor, moderate, and major. I will combine Min1 and Min2 as Min; Maj1, Maj2, and Sev as Maj. "
   ]
  },
  {
   "cell_type": "code",
   "execution_count": 60,
   "metadata": {},
   "outputs": [],
   "source": [
    "# this dictionary has column name mapped to column values that need to be replaced \n",
    "# mapped to the value to replace the value with\n",
    "\n",
    "# So we can easily change all columns at once\n",
    "cleanup_replace = {\"Functional\": {\"Min1\": \"Min\", \"Min2\": \"Min\", \"Maj1\": \"Maj\", \"Maj2\": \"Maj\", \"Sev\": \"Maj\"}}"
   ]
  },
  {
   "cell_type": "markdown",
   "metadata": {},
   "source": [
    "- `Heating`"
   ]
  },
  {
   "cell_type": "code",
   "execution_count": 61,
   "metadata": {},
   "outputs": [
    {
     "data": {
      "text/plain": [
       "GasA     2874\n",
       "GasW       27\n",
       "Grav        9\n",
       "Wall        6\n",
       "OthW        2\n",
       "Floor       1\n",
       "Name: Heating, dtype: int64"
      ]
     },
     "execution_count": 61,
     "metadata": {},
     "output_type": "execute_result"
    }
   ],
   "source": [
    "data[\"Heating\"].value_counts()"
   ]
  },
  {
   "cell_type": "markdown",
   "metadata": {},
   "source": [
    "We should also bin `Heating` data. We can bin it as Gas and Other, since Gas is the most popular one."
   ]
  },
  {
   "cell_type": "code",
   "execution_count": 62,
   "metadata": {},
   "outputs": [
    {
     "data": {
      "text/plain": [
       "{'Functional': {'Min1': 'Min',\n",
       "  'Min2': 'Min',\n",
       "  'Maj1': 'Maj',\n",
       "  'Maj2': 'Maj',\n",
       "  'Sev': 'Maj'},\n",
       " 'Heating': {'GasA': 'Gas',\n",
       "  'GasW': 'Gas',\n",
       "  'Grav': 'Other',\n",
       "  'Wall': 'Other',\n",
       "  'OthW': 'Other',\n",
       "  'Foor': 'Other'}}"
      ]
     },
     "execution_count": 62,
     "metadata": {},
     "output_type": "execute_result"
    }
   ],
   "source": [
    "# adding to cleanup_replace dictionary\n",
    "cleanup_replace[\"Heating\"] = {\"GasA\": \"Gas\", \"GasW\": \"Gas\", \"Grav\": \"Other\", \n",
    "                              \"Wall\": \"Other\", \"OthW\": \"Other\", \"Foor\": \"Other\"}\n",
    "\n",
    "# checking that I added to dictionary correctly\n",
    "cleanup_replace"
   ]
  },
  {
   "cell_type": "markdown",
   "metadata": {},
   "source": [
    "- `SaleType`"
   ]
  },
  {
   "cell_type": "code",
   "execution_count": 63,
   "metadata": {},
   "outputs": [
    {
     "data": {
      "text/plain": [
       "WD       2526\n",
       "New       239\n",
       "COD        87\n",
       "ConLD      26\n",
       "CWD        12\n",
       "ConLI       9\n",
       "ConLw       8\n",
       "Oth         7\n",
       "Con         5\n",
       "Name: SaleType, dtype: int64"
      ]
     },
     "execution_count": 63,
     "metadata": {},
     "output_type": "execute_result"
    }
   ],
   "source": [
    "data[\"SaleType\"].value_counts()"
   ]
  },
  {
   "cell_type": "markdown",
   "metadata": {},
   "source": [
    "We should replace any value that is not \"WD\" or \"New\" with \"Other\" for simplicity."
   ]
  },
  {
   "cell_type": "code",
   "execution_count": 64,
   "metadata": {},
   "outputs": [],
   "source": [
    "# adding to cleanup_replace dictionary\n",
    "cleanup_replace[\"SaleType\"] = {\"COD\": \"Other\", \"ConLD\": \"Other\", \"CWD\": \"Other\", \n",
    "                              \"ConLI\": \"Other\", \"ConLW\": \"Other\", \"Oth\": \"Other\", \"Con\": \"Other\"}"
   ]
  },
  {
   "cell_type": "markdown",
   "metadata": {},
   "source": [
    "- `RoofMat1`"
   ]
  },
  {
   "cell_type": "code",
   "execution_count": 65,
   "metadata": {},
   "outputs": [
    {
     "data": {
      "text/plain": [
       "CompShg    2876\n",
       "Tar&Grv      23\n",
       "WdShake       9\n",
       "WdShngl       7\n",
       "ClyTile       1\n",
       "Metal         1\n",
       "Roll          1\n",
       "Membran       1\n",
       "Name: RoofMatl, dtype: int64"
      ]
     },
     "execution_count": 65,
     "metadata": {},
     "output_type": "execute_result"
    }
   ],
   "source": [
    "data[\"RoofMatl\"].value_counts()"
   ]
  },
  {
   "cell_type": "markdown",
   "metadata": {},
   "source": [
    "The most popular value for `RoofMat1` is \"CompShg\". The rest are very low, so I'll change it to \"other\"."
   ]
  },
  {
   "cell_type": "code",
   "execution_count": 66,
   "metadata": {},
   "outputs": [],
   "source": [
    "# adding to cleanup_replace dictionary\n",
    "cleanup_replace[\"RoofMatl\"] = {\"Tar&Grv\": \"Other\", \"WdShake\": \"Other\", \"WdShngl\": \"Other\", \n",
    "                              \"Metal\": \"Other\", \"Roll\": \"Other\", \"Membran\": \"Other\", \"ClyTile\": \"Other\"}"
   ]
  },
  {
   "cell_type": "markdown",
   "metadata": {},
   "source": [
    "- `RoofStyle`"
   ]
  },
  {
   "cell_type": "code",
   "execution_count": 67,
   "metadata": {},
   "outputs": [
    {
     "data": {
      "text/plain": [
       "Gable      2310\n",
       "Hip         551\n",
       "Gambrel      22\n",
       "Flat         20\n",
       "Mansard      11\n",
       "Shed          5\n",
       "Name: RoofStyle, dtype: int64"
      ]
     },
     "execution_count": 67,
     "metadata": {},
     "output_type": "execute_result"
    }
   ],
   "source": [
    "data[\"RoofStyle\"].value_counts()"
   ]
  },
  {
   "cell_type": "markdown",
   "metadata": {},
   "source": [
    "`RoofStyle` has only two popular values. The rest can be encoded as \"Other\"."
   ]
  },
  {
   "cell_type": "code",
   "execution_count": 68,
   "metadata": {},
   "outputs": [],
   "source": [
    "# adding to cleanup_replace dictionary\n",
    "cleanup_replace[\"RoofStyle\"] = {\"Gambrel\": \"Other\", \"Flat\": \"Other\", \"Mansard\": \"Other\", \n",
    "                              \"Shed\": \"Other\"}"
   ]
  },
  {
   "cell_type": "markdown",
   "metadata": {},
   "source": [
    "- `Condition2`: The most popular value is \"Norm\", and the rest of the values are barely present in the data. We can encode these as \"Other\"."
   ]
  },
  {
   "cell_type": "code",
   "execution_count": 69,
   "metadata": {},
   "outputs": [
    {
     "data": {
      "text/plain": [
       "Norm      2889\n",
       "Feedr       13\n",
       "Artery       5\n",
       "PosN         4\n",
       "PosA         4\n",
       "RRNn         2\n",
       "RRAe         1\n",
       "RRAn         1\n",
       "Name: Condition2, dtype: int64"
      ]
     },
     "execution_count": 69,
     "metadata": {},
     "output_type": "execute_result"
    }
   ],
   "source": [
    "data[\"Condition2\"].value_counts()"
   ]
  },
  {
   "cell_type": "code",
   "execution_count": 70,
   "metadata": {},
   "outputs": [],
   "source": [
    "# adding to cleanup_replace dictionary\n",
    "cleanup_replace[\"Condition2\"] = {\"Feedr\": \"Other\", \"Artery\": \"Other\", \"PosA\": \"Other\", \n",
    "                              \"PosN\": \"Other\", \"RRNn\": \"Other\", \"RRAe\": \"Other\", \"RRAn\": \"Other\"}"
   ]
  },
  {
   "cell_type": "markdown",
   "metadata": {},
   "source": [
    "- `Alley`: This column mostly has \"None\", meaning most of these homes have no alley access. Maybe it is best to drop this column and create a \"HasAlley\" column."
   ]
  },
  {
   "cell_type": "code",
   "execution_count": 71,
   "metadata": {},
   "outputs": [
    {
     "data": {
      "text/plain": [
       "None    2721\n",
       "Grvl     120\n",
       "Pave      78\n",
       "Name: Alley, dtype: int64"
      ]
     },
     "execution_count": 71,
     "metadata": {},
     "output_type": "execute_result"
    }
   ],
   "source": [
    "data[\"Alley\"].value_counts()"
   ]
  },
  {
   "cell_type": "code",
   "execution_count": 72,
   "metadata": {},
   "outputs": [
    {
     "data": {
      "text/html": [
       "<div>\n",
       "<style scoped>\n",
       "    .dataframe tbody tr th:only-of-type {\n",
       "        vertical-align: middle;\n",
       "    }\n",
       "\n",
       "    .dataframe tbody tr th {\n",
       "        vertical-align: top;\n",
       "    }\n",
       "\n",
       "    .dataframe thead th {\n",
       "        text-align: right;\n",
       "    }\n",
       "</style>\n",
       "<table border=\"1\" class=\"dataframe\">\n",
       "  <thead>\n",
       "    <tr style=\"text-align: right;\">\n",
       "      <th></th>\n",
       "      <th>HasAlley</th>\n",
       "    </tr>\n",
       "  </thead>\n",
       "  <tbody>\n",
       "    <tr>\n",
       "      <th>0</th>\n",
       "      <td>False</td>\n",
       "    </tr>\n",
       "    <tr>\n",
       "      <th>1</th>\n",
       "      <td>False</td>\n",
       "    </tr>\n",
       "    <tr>\n",
       "      <th>2</th>\n",
       "      <td>False</td>\n",
       "    </tr>\n",
       "    <tr>\n",
       "      <th>3</th>\n",
       "      <td>False</td>\n",
       "    </tr>\n",
       "    <tr>\n",
       "      <th>4</th>\n",
       "      <td>False</td>\n",
       "    </tr>\n",
       "  </tbody>\n",
       "</table>\n",
       "</div>"
      ],
      "text/plain": [
       "   HasAlley\n",
       "0     False\n",
       "1     False\n",
       "2     False\n",
       "3     False\n",
       "4     False"
      ]
     },
     "execution_count": 72,
     "metadata": {},
     "output_type": "execute_result"
    }
   ],
   "source": [
    "columns_to_drop.append(\"Alley\")\n",
    "data[\"HasAlley\"] = data[[\"Alley\"]].apply(lambda x: x != \"None\")\n",
    "data[[\"HasAlley\"]].head()"
   ]
  },
  {
   "cell_type": "markdown",
   "metadata": {},
   "source": [
    "- `Foundation`: There are 3 common values: PConc, CBlock, and BrkTil. The rest will be \"Other\" instead."
   ]
  },
  {
   "cell_type": "code",
   "execution_count": 73,
   "metadata": {},
   "outputs": [
    {
     "data": {
      "text/plain": [
       "PConc     1308\n",
       "CBlock    1235\n",
       "BrkTil     311\n",
       "Slab        49\n",
       "Stone       11\n",
       "Wood         5\n",
       "Name: Foundation, dtype: int64"
      ]
     },
     "execution_count": 73,
     "metadata": {},
     "output_type": "execute_result"
    }
   ],
   "source": [
    "data[\"Foundation\"].value_counts()"
   ]
  },
  {
   "cell_type": "code",
   "execution_count": 74,
   "metadata": {},
   "outputs": [],
   "source": [
    "# adding to cleanup_replace dictionary\n",
    "cleanup_replace[\"Foundation\"] = {\"Slab\": \"Other\", \"Stone\": \"Other\", \"Wood\": \"Other\"}"
   ]
  },
  {
   "cell_type": "markdown",
   "metadata": {},
   "source": [
    "- `Condition1`: Same as `Condition2` from above."
   ]
  },
  {
   "cell_type": "code",
   "execution_count": 75,
   "metadata": {},
   "outputs": [
    {
     "data": {
      "text/plain": [
       "Norm      0.860226\n",
       "Feedr     0.056184\n",
       "Artery    0.031518\n",
       "RRAn      0.017129\n",
       "PosN      0.013361\n",
       "RRAe      0.009592\n",
       "PosA      0.006852\n",
       "RRNn      0.003083\n",
       "RRNe      0.002055\n",
       "Name: Condition1, dtype: float64"
      ]
     },
     "execution_count": 75,
     "metadata": {},
     "output_type": "execute_result"
    }
   ],
   "source": [
    "# to see proportions instead\n",
    "data[\"Condition1\"].value_counts(normalize=True)"
   ]
  },
  {
   "cell_type": "code",
   "execution_count": 76,
   "metadata": {},
   "outputs": [],
   "source": [
    "# adding to cleanup_replace dictionary\n",
    "cleanup_replace[\"Condition1\"] = {\"Feedr\": \"Other\", \"Artery\": \"Other\", \"PosA\": \"Other\", \n",
    "                              \"PosN\": \"Other\", \"RRNn\": \"Other\", \"RRAe\": \"Other\", \"RRAn\": \"Other\", \n",
    "                                \"RRNe\": \"Other\"}"
   ]
  },
  {
   "cell_type": "markdown",
   "metadata": {},
   "source": [
    "- `Electrical`: Although different \"Fuse\" values mean the different qualities, it still makes up a very small amount of the data. I'll just label anything other than \"Sbrkr\" as \"Other.\""
   ]
  },
  {
   "cell_type": "code",
   "execution_count": 77,
   "metadata": {},
   "outputs": [
    {
     "data": {
      "text/plain": [
       "SBrkr    2672\n",
       "FuseA     188\n",
       "FuseF      50\n",
       "FuseP       8\n",
       "Mix         1\n",
       "Name: Electrical, dtype: int64"
      ]
     },
     "execution_count": 77,
     "metadata": {},
     "output_type": "execute_result"
    }
   ],
   "source": [
    "data[\"Electrical\"].value_counts()"
   ]
  },
  {
   "cell_type": "code",
   "execution_count": 78,
   "metadata": {},
   "outputs": [],
   "source": [
    "# adding to cleanup_replace dictionary\n",
    "cleanup_replace[\"Electrical\"] = {\"FuseA\": \"Other\", \"FuseF\": \"Other\", \n",
    "                                 \"FuseP\": \"Other\", \"Mix\": \"Other\"}"
   ]
  },
  {
   "cell_type": "markdown",
   "metadata": {},
   "source": [
    "- `BsmtFinType2`: Any value other than \"Unf\" or \"None\" is atypical. I'll encode these as \"Other.\""
   ]
  },
  {
   "cell_type": "code",
   "execution_count": 79,
   "metadata": {},
   "outputs": [
    {
     "data": {
      "text/plain": [
       "Unf     0.854060\n",
       "Rec     0.035971\n",
       "LwQ     0.029805\n",
       "None    0.027407\n",
       "BLQ     0.023296\n",
       "ALQ     0.017814\n",
       "GLQ     0.011648\n",
       "Name: BsmtFinType2, dtype: float64"
      ]
     },
     "execution_count": 79,
     "metadata": {},
     "output_type": "execute_result"
    }
   ],
   "source": [
    "# seeing proportions instead\n",
    "data[\"BsmtFinType2\"].value_counts(normalize=True)"
   ]
  },
  {
   "cell_type": "code",
   "execution_count": 80,
   "metadata": {},
   "outputs": [],
   "source": [
    "# adding to cleanup_replace dictionary\n",
    "cleanup_replace[\"BsmtFinType2\"] = {\"Rec\": \"Other\", \"LwQ\": \"Other\", \"BLQ\": \"Other\", \n",
    "                                   \"ALQ\": \"Other\", \"GLQ\": \"Other\"}"
   ]
  },
  {
   "cell_type": "markdown",
   "metadata": {},
   "source": [
    "- `MiscFeature`: Although we previously filled the NaN values above, we should also encode the other variables as \"None\" since they make up such a small proportion of the data."
   ]
  },
  {
   "cell_type": "code",
   "execution_count": 81,
   "metadata": {},
   "outputs": [
    {
     "data": {
      "text/plain": [
       "None    2814\n",
       "Shed      95\n",
       "Gar2       5\n",
       "Othr       4\n",
       "TenC       1\n",
       "Name: MiscFeature, dtype: int64"
      ]
     },
     "execution_count": 81,
     "metadata": {},
     "output_type": "execute_result"
    }
   ],
   "source": [
    "data[\"MiscFeature\"].value_counts()"
   ]
  },
  {
   "cell_type": "code",
   "execution_count": 82,
   "metadata": {},
   "outputs": [],
   "source": [
    "# adding to cleanup_replace dictionary\n",
    "cleanup_replace[\"MiscFeature\"] = {\"Shed\": \"Other\", \"Gar2\": \"Other\", \n",
    "                                  \"Othr\": \"Other\", \"TenC\": \"Other\"}"
   ]
  },
  {
   "cell_type": "markdown",
   "metadata": {},
   "source": [
    "- `SaleCondition`: For anything other than Normal, Partial, or Abnormal, I will encode as \"Other\" since they make up a small proportion of the data."
   ]
  },
  {
   "cell_type": "code",
   "execution_count": 83,
   "metadata": {},
   "outputs": [
    {
     "data": {
      "text/plain": [
       "Normal     0.822885\n",
       "Partial    0.083933\n",
       "Abnorml    0.065091\n",
       "Family     0.015759\n",
       "Alloca     0.008222\n",
       "AdjLand    0.004111\n",
       "Name: SaleCondition, dtype: float64"
      ]
     },
     "execution_count": 83,
     "metadata": {},
     "output_type": "execute_result"
    }
   ],
   "source": [
    "# seeing proportions instead\n",
    "data[\"SaleCondition\"].value_counts(normalize=True)"
   ]
  },
  {
   "cell_type": "code",
   "execution_count": 84,
   "metadata": {},
   "outputs": [],
   "source": [
    "# adding to cleanup_replace dictionary\n",
    "cleanup_replace[\"SaleCondition\"] = {\"Family\": \"Other\", \n",
    "                                    \"Alloca\": \"Other\", \"AdjLand\": \"Other\"}"
   ]
  },
  {
   "cell_type": "markdown",
   "metadata": {},
   "source": [
    "- `Exterior1st`: Going to replace some values with custom ones. For instance, \"BrkFace\" and \"BrkComm\" should just be \"Brk.\""
   ]
  },
  {
   "cell_type": "code",
   "execution_count": 85,
   "metadata": {},
   "outputs": [
    {
     "data": {
      "text/plain": [
       "VinylSd    0.351490\n",
       "MetalSd    0.154162\n",
       "HdBoard    0.151422\n",
       "Wd Sdng    0.140802\n",
       "Plywood    0.075711\n",
       "CemntBd    0.043165\n",
       "BrkFace    0.029805\n",
       "WdShing    0.019185\n",
       "AsbShng    0.015074\n",
       "Stucco     0.014731\n",
       "BrkComm    0.002055\n",
       "Stone      0.000685\n",
       "CBlock     0.000685\n",
       "AsphShn    0.000685\n",
       "ImStucc    0.000343\n",
       "Name: Exterior1st, dtype: float64"
      ]
     },
     "execution_count": 85,
     "metadata": {},
     "output_type": "execute_result"
    }
   ],
   "source": [
    "# seeing proportions instead\n",
    "data[\"Exterior1st\"].value_counts(normalize=True)"
   ]
  },
  {
   "cell_type": "code",
   "execution_count": 86,
   "metadata": {},
   "outputs": [],
   "source": [
    "# adding to cleanup_replace dictionary\n",
    "cleanup_replace[\"Exterior1st\"] = {\"BrkFace\": \"Brk\", \"BrkComm\": \"Brk\", \n",
    "                                  \"CemntBd\": \"Other\", \"WdShing\": \"Other\", \n",
    "                                  \"AsbShng\": \"Other\", \"Stucco\": \"Other\", \n",
    "                                  \"CBlock\": \"Other\", \"Stone\": \"Other\", \n",
    "                                  \"AsphShn\": \"Other\", \"ImStucc\": \"Other\"}"
   ]
  },
  {
   "cell_type": "markdown",
   "metadata": {},
   "source": [
    "- `LotConfig`: Only 2 values are the most popular. Can replace others with \"Other.\""
   ]
  },
  {
   "cell_type": "code",
   "execution_count": 87,
   "metadata": {},
   "outputs": [
    {
     "data": {
      "text/plain": [
       "Inside     0.730730\n",
       "Corner     0.175060\n",
       "CulDSac    0.060295\n",
       "FR2        0.029120\n",
       "FR3        0.004796\n",
       "Name: LotConfig, dtype: float64"
      ]
     },
     "execution_count": 87,
     "metadata": {},
     "output_type": "execute_result"
    }
   ],
   "source": [
    "# seeing proportions instead\n",
    "data[\"LotConfig\"].value_counts(normalize=True)"
   ]
  },
  {
   "cell_type": "code",
   "execution_count": 88,
   "metadata": {},
   "outputs": [],
   "source": [
    "# adding to cleanup_replace dictionary\n",
    "cleanup_replace[\"LotConfig\"] = {\"CulDSac\": \"Other\", \"FR2\": \"Other\", \"FR3\": \"Other\"}"
   ]
  },
  {
   "cell_type": "markdown",
   "metadata": {},
   "source": [
    "- `HouseStyle`: Changing any values that make up less than 5% of the proportion to \"Other.\""
   ]
  },
  {
   "cell_type": "code",
   "execution_count": 89,
   "metadata": {},
   "outputs": [
    {
     "data": {
      "text/plain": [
       "1Story    0.503940\n",
       "2Story    0.298732\n",
       "1.5Fin    0.107571\n",
       "SLvl      0.043851\n",
       "SFoyer    0.028434\n",
       "2.5Unf    0.008222\n",
       "1.5Unf    0.006509\n",
       "2.5Fin    0.002741\n",
       "Name: HouseStyle, dtype: float64"
      ]
     },
     "execution_count": 89,
     "metadata": {},
     "output_type": "execute_result"
    }
   ],
   "source": [
    "# seeing proportions instead\n",
    "data[\"HouseStyle\"].value_counts(normalize=True)"
   ]
  },
  {
   "cell_type": "code",
   "execution_count": 90,
   "metadata": {},
   "outputs": [],
   "source": [
    "# adding to cleanup_replace dictionary\n",
    "cleanup_replace[\"HouseStyle\"] = {\"SLvl\": \"Other\", \"SFoyer\": \"Other\", \n",
    "                                 \"2.5Unf\": \"Other\", \"1.5Unf\": \"Other\", \n",
    "                                 \"2.5Fin\": \"Other\"}"
   ]
  },
  {
   "cell_type": "markdown",
   "metadata": {},
   "source": [
    "- `Exterior2nd`: Same as `Exterior1st`."
   ]
  },
  {
   "cell_type": "code",
   "execution_count": 91,
   "metadata": {},
   "outputs": [
    {
     "data": {
      "text/plain": [
       "VinylSd    0.347722\n",
       "MetalSd    0.153135\n",
       "HdBoard    0.139089\n",
       "Wd Sdng    0.133950\n",
       "Plywood    0.092497\n",
       "CmentBd    0.043165\n",
       "Wd Shng    0.027749\n",
       "Stucco     0.016101\n",
       "BrkFace    0.016101\n",
       "AsbShng    0.013018\n",
       "Brk Cmn    0.007537\n",
       "ImStucc    0.005139\n",
       "Stone      0.002055\n",
       "AsphShn    0.001370\n",
       "CBlock     0.001028\n",
       "Other      0.000343\n",
       "Name: Exterior2nd, dtype: float64"
      ]
     },
     "execution_count": 91,
     "metadata": {},
     "output_type": "execute_result"
    }
   ],
   "source": [
    "# seeing proportions instead\n",
    "data[\"Exterior2nd\"].value_counts(normalize=True)"
   ]
  },
  {
   "cell_type": "code",
   "execution_count": 92,
   "metadata": {},
   "outputs": [],
   "source": [
    "# adding to cleanup_replace dictionary\n",
    "cleanup_replace[\"Exterior2nd\"] = {\"BrkFace\": \"Brk\", \"Brk Cmn\": \"Brk\", \n",
    "                                  \"CemntBd\": \"Other\", \"WdShing\": \"Other\", \n",
    "                                  \"AsbShng\": \"Other\", \"Stucco\": \"Other\", \n",
    "                                  \"CBlock\": \"Other\", \"Stone\": \"Other\", \n",
    "                                  \"AsphShn\": \"Other\", \"ImStucc\": \"Other\", \n",
    "                                  \"Wd Shng\": \"Other\"}"
   ]
  },
  {
   "cell_type": "markdown",
   "metadata": {},
   "source": [
    "- `MasVnrType`: Minor fixes for Brk."
   ]
  },
  {
   "cell_type": "code",
   "execution_count": 93,
   "metadata": {},
   "outputs": [
    {
     "data": {
      "text/plain": [
       "None       0.605002\n",
       "BrkFace    0.301131\n",
       "Stone      0.085303\n",
       "BrkCmn     0.008565\n",
       "Name: MasVnrType, dtype: float64"
      ]
     },
     "execution_count": 93,
     "metadata": {},
     "output_type": "execute_result"
    }
   ],
   "source": [
    "# seeing proportions instead\n",
    "data[\"MasVnrType\"].value_counts(normalize=True)"
   ]
  },
  {
   "cell_type": "code",
   "execution_count": 94,
   "metadata": {},
   "outputs": [],
   "source": [
    "# adding to cleanup_replace dictionary\n",
    "cleanup_replace[\"MasVnrType\"] = {\"BrkFace\": \"Brk\", \"BrkCmn\": \"Brk\"}"
   ]
  },
  {
   "cell_type": "markdown",
   "metadata": {},
   "source": [
    "### Replacing Column Values"
   ]
  },
  {
   "cell_type": "code",
   "execution_count": 95,
   "metadata": {},
   "outputs": [],
   "source": [
    "data = data.replace(cleanup_replace)"
   ]
  },
  {
   "cell_type": "markdown",
   "metadata": {},
   "source": [
    "### Dropping Columns Before Using pd.get_dummies()"
   ]
  },
  {
   "cell_type": "code",
   "execution_count": 96,
   "metadata": {},
   "outputs": [
    {
     "data": {
      "text/html": [
       "<div>\n",
       "<style scoped>\n",
       "    .dataframe tbody tr th:only-of-type {\n",
       "        vertical-align: middle;\n",
       "    }\n",
       "\n",
       "    .dataframe tbody tr th {\n",
       "        vertical-align: top;\n",
       "    }\n",
       "\n",
       "    .dataframe thead th {\n",
       "        text-align: right;\n",
       "    }\n",
       "</style>\n",
       "<table border=\"1\" class=\"dataframe\">\n",
       "  <thead>\n",
       "    <tr style=\"text-align: right;\">\n",
       "      <th></th>\n",
       "      <th>MSSubClass</th>\n",
       "      <th>MSZoning</th>\n",
       "      <th>LotFrontage</th>\n",
       "      <th>LotArea</th>\n",
       "      <th>Street</th>\n",
       "      <th>LotShape</th>\n",
       "      <th>LandContour</th>\n",
       "      <th>Utilities</th>\n",
       "      <th>LotConfig</th>\n",
       "      <th>LandSlope</th>\n",
       "      <th>...</th>\n",
       "      <th>SaleCondition</th>\n",
       "      <th>TotalSF</th>\n",
       "      <th>TotalBathrooms</th>\n",
       "      <th>Has2ndFlr</th>\n",
       "      <th>HasBsmt</th>\n",
       "      <th>HasPool</th>\n",
       "      <th>HasGarage</th>\n",
       "      <th>HasFireplace</th>\n",
       "      <th>RemodAdd</th>\n",
       "      <th>HasAlley</th>\n",
       "    </tr>\n",
       "  </thead>\n",
       "  <tbody>\n",
       "    <tr>\n",
       "      <th>0</th>\n",
       "      <td>60</td>\n",
       "      <td>RL</td>\n",
       "      <td>65.0</td>\n",
       "      <td>8450</td>\n",
       "      <td>Pave</td>\n",
       "      <td>Reg</td>\n",
       "      <td>Lvl</td>\n",
       "      <td>AllPub</td>\n",
       "      <td>Inside</td>\n",
       "      <td>Gtl</td>\n",
       "      <td>...</td>\n",
       "      <td>Normal</td>\n",
       "      <td>2566.0</td>\n",
       "      <td>4.0</td>\n",
       "      <td>True</td>\n",
       "      <td>True</td>\n",
       "      <td>False</td>\n",
       "      <td>True</td>\n",
       "      <td>False</td>\n",
       "      <td>False</td>\n",
       "      <td>False</td>\n",
       "    </tr>\n",
       "    <tr>\n",
       "      <th>1</th>\n",
       "      <td>20</td>\n",
       "      <td>RL</td>\n",
       "      <td>80.0</td>\n",
       "      <td>9600</td>\n",
       "      <td>Pave</td>\n",
       "      <td>Reg</td>\n",
       "      <td>Lvl</td>\n",
       "      <td>AllPub</td>\n",
       "      <td>Other</td>\n",
       "      <td>Gtl</td>\n",
       "      <td>...</td>\n",
       "      <td>Normal</td>\n",
       "      <td>2524.0</td>\n",
       "      <td>3.0</td>\n",
       "      <td>False</td>\n",
       "      <td>True</td>\n",
       "      <td>False</td>\n",
       "      <td>True</td>\n",
       "      <td>True</td>\n",
       "      <td>False</td>\n",
       "      <td>False</td>\n",
       "    </tr>\n",
       "    <tr>\n",
       "      <th>2</th>\n",
       "      <td>60</td>\n",
       "      <td>RL</td>\n",
       "      <td>68.0</td>\n",
       "      <td>11250</td>\n",
       "      <td>Pave</td>\n",
       "      <td>IR1</td>\n",
       "      <td>Lvl</td>\n",
       "      <td>AllPub</td>\n",
       "      <td>Inside</td>\n",
       "      <td>Gtl</td>\n",
       "      <td>...</td>\n",
       "      <td>Normal</td>\n",
       "      <td>2706.0</td>\n",
       "      <td>4.0</td>\n",
       "      <td>True</td>\n",
       "      <td>True</td>\n",
       "      <td>False</td>\n",
       "      <td>True</td>\n",
       "      <td>True</td>\n",
       "      <td>True</td>\n",
       "      <td>False</td>\n",
       "    </tr>\n",
       "    <tr>\n",
       "      <th>3</th>\n",
       "      <td>70</td>\n",
       "      <td>RL</td>\n",
       "      <td>60.0</td>\n",
       "      <td>9550</td>\n",
       "      <td>Pave</td>\n",
       "      <td>IR1</td>\n",
       "      <td>Lvl</td>\n",
       "      <td>AllPub</td>\n",
       "      <td>Corner</td>\n",
       "      <td>Gtl</td>\n",
       "      <td>...</td>\n",
       "      <td>Abnorml</td>\n",
       "      <td>2473.0</td>\n",
       "      <td>2.0</td>\n",
       "      <td>True</td>\n",
       "      <td>True</td>\n",
       "      <td>False</td>\n",
       "      <td>True</td>\n",
       "      <td>True</td>\n",
       "      <td>True</td>\n",
       "      <td>False</td>\n",
       "    </tr>\n",
       "    <tr>\n",
       "      <th>4</th>\n",
       "      <td>60</td>\n",
       "      <td>RL</td>\n",
       "      <td>84.0</td>\n",
       "      <td>14260</td>\n",
       "      <td>Pave</td>\n",
       "      <td>IR1</td>\n",
       "      <td>Lvl</td>\n",
       "      <td>AllPub</td>\n",
       "      <td>Other</td>\n",
       "      <td>Gtl</td>\n",
       "      <td>...</td>\n",
       "      <td>Normal</td>\n",
       "      <td>3343.0</td>\n",
       "      <td>4.0</td>\n",
       "      <td>True</td>\n",
       "      <td>True</td>\n",
       "      <td>False</td>\n",
       "      <td>True</td>\n",
       "      <td>True</td>\n",
       "      <td>False</td>\n",
       "      <td>False</td>\n",
       "    </tr>\n",
       "  </tbody>\n",
       "</table>\n",
       "<p>5 rows × 86 columns</p>\n",
       "</div>"
      ],
      "text/plain": [
       "  MSSubClass MSZoning  LotFrontage  LotArea Street LotShape LandContour  \\\n",
       "0         60       RL         65.0     8450   Pave      Reg         Lvl   \n",
       "1         20       RL         80.0     9600   Pave      Reg         Lvl   \n",
       "2         60       RL         68.0    11250   Pave      IR1         Lvl   \n",
       "3         70       RL         60.0     9550   Pave      IR1         Lvl   \n",
       "4         60       RL         84.0    14260   Pave      IR1         Lvl   \n",
       "\n",
       "  Utilities LotConfig LandSlope  ... SaleCondition TotalSF TotalBathrooms  \\\n",
       "0    AllPub    Inside       Gtl  ...        Normal  2566.0            4.0   \n",
       "1    AllPub     Other       Gtl  ...        Normal  2524.0            3.0   \n",
       "2    AllPub    Inside       Gtl  ...        Normal  2706.0            4.0   \n",
       "3    AllPub    Corner       Gtl  ...       Abnorml  2473.0            2.0   \n",
       "4    AllPub     Other       Gtl  ...        Normal  3343.0            4.0   \n",
       "\n",
       "  Has2ndFlr HasBsmt HasPool HasGarage HasFireplace RemodAdd HasAlley  \n",
       "0      True    True   False      True        False    False    False  \n",
       "1     False    True   False      True         True    False    False  \n",
       "2      True    True   False      True         True     True    False  \n",
       "3      True    True   False      True         True     True    False  \n",
       "4      True    True   False      True         True    False    False  \n",
       "\n",
       "[5 rows x 86 columns]"
      ]
     },
     "execution_count": 96,
     "metadata": {},
     "output_type": "execute_result"
    }
   ],
   "source": [
    "data.drop(labels=columns_to_drop, axis=1, inplace=True)\n",
    "data.head()"
   ]
  },
  {
   "cell_type": "markdown",
   "metadata": {},
   "source": [
    "Now, let's use `pd.get_dummies()` for categorical columns."
   ]
  },
  {
   "cell_type": "code",
   "execution_count": 97,
   "metadata": {},
   "outputs": [
    {
     "data": {
      "text/html": [
       "<div>\n",
       "<style scoped>\n",
       "    .dataframe tbody tr th:only-of-type {\n",
       "        vertical-align: middle;\n",
       "    }\n",
       "\n",
       "    .dataframe tbody tr th {\n",
       "        vertical-align: top;\n",
       "    }\n",
       "\n",
       "    .dataframe thead th {\n",
       "        text-align: right;\n",
       "    }\n",
       "</style>\n",
       "<table border=\"1\" class=\"dataframe\">\n",
       "  <thead>\n",
       "    <tr style=\"text-align: right;\">\n",
       "      <th></th>\n",
       "      <th>LotFrontage</th>\n",
       "      <th>LotArea</th>\n",
       "      <th>MasVnrArea</th>\n",
       "      <th>BsmtFinSF1</th>\n",
       "      <th>BsmtFinSF2</th>\n",
       "      <th>BsmtUnfSF</th>\n",
       "      <th>TotalBsmtSF</th>\n",
       "      <th>1stFlrSF</th>\n",
       "      <th>2ndFlrSF</th>\n",
       "      <th>LowQualFinSF</th>\n",
       "      <th>...</th>\n",
       "      <th>YrSold_2007</th>\n",
       "      <th>YrSold_2008</th>\n",
       "      <th>YrSold_2009</th>\n",
       "      <th>YrSold_2010</th>\n",
       "      <th>SaleType_New</th>\n",
       "      <th>SaleType_Other</th>\n",
       "      <th>SaleType_WD</th>\n",
       "      <th>SaleCondition_Normal</th>\n",
       "      <th>SaleCondition_Other</th>\n",
       "      <th>SaleCondition_Partial</th>\n",
       "    </tr>\n",
       "  </thead>\n",
       "  <tbody>\n",
       "    <tr>\n",
       "      <th>0</th>\n",
       "      <td>65.0</td>\n",
       "      <td>8450</td>\n",
       "      <td>196.0</td>\n",
       "      <td>706.0</td>\n",
       "      <td>0.0</td>\n",
       "      <td>150.0</td>\n",
       "      <td>856.0</td>\n",
       "      <td>856</td>\n",
       "      <td>854</td>\n",
       "      <td>0</td>\n",
       "      <td>...</td>\n",
       "      <td>0</td>\n",
       "      <td>1</td>\n",
       "      <td>0</td>\n",
       "      <td>0</td>\n",
       "      <td>0</td>\n",
       "      <td>0</td>\n",
       "      <td>1</td>\n",
       "      <td>1</td>\n",
       "      <td>0</td>\n",
       "      <td>0</td>\n",
       "    </tr>\n",
       "    <tr>\n",
       "      <th>1</th>\n",
       "      <td>80.0</td>\n",
       "      <td>9600</td>\n",
       "      <td>0.0</td>\n",
       "      <td>978.0</td>\n",
       "      <td>0.0</td>\n",
       "      <td>284.0</td>\n",
       "      <td>1262.0</td>\n",
       "      <td>1262</td>\n",
       "      <td>0</td>\n",
       "      <td>0</td>\n",
       "      <td>...</td>\n",
       "      <td>1</td>\n",
       "      <td>0</td>\n",
       "      <td>0</td>\n",
       "      <td>0</td>\n",
       "      <td>0</td>\n",
       "      <td>0</td>\n",
       "      <td>1</td>\n",
       "      <td>1</td>\n",
       "      <td>0</td>\n",
       "      <td>0</td>\n",
       "    </tr>\n",
       "    <tr>\n",
       "      <th>2</th>\n",
       "      <td>68.0</td>\n",
       "      <td>11250</td>\n",
       "      <td>162.0</td>\n",
       "      <td>486.0</td>\n",
       "      <td>0.0</td>\n",
       "      <td>434.0</td>\n",
       "      <td>920.0</td>\n",
       "      <td>920</td>\n",
       "      <td>866</td>\n",
       "      <td>0</td>\n",
       "      <td>...</td>\n",
       "      <td>0</td>\n",
       "      <td>1</td>\n",
       "      <td>0</td>\n",
       "      <td>0</td>\n",
       "      <td>0</td>\n",
       "      <td>0</td>\n",
       "      <td>1</td>\n",
       "      <td>1</td>\n",
       "      <td>0</td>\n",
       "      <td>0</td>\n",
       "    </tr>\n",
       "    <tr>\n",
       "      <th>3</th>\n",
       "      <td>60.0</td>\n",
       "      <td>9550</td>\n",
       "      <td>0.0</td>\n",
       "      <td>216.0</td>\n",
       "      <td>0.0</td>\n",
       "      <td>540.0</td>\n",
       "      <td>756.0</td>\n",
       "      <td>961</td>\n",
       "      <td>756</td>\n",
       "      <td>0</td>\n",
       "      <td>...</td>\n",
       "      <td>0</td>\n",
       "      <td>0</td>\n",
       "      <td>0</td>\n",
       "      <td>0</td>\n",
       "      <td>0</td>\n",
       "      <td>0</td>\n",
       "      <td>1</td>\n",
       "      <td>0</td>\n",
       "      <td>0</td>\n",
       "      <td>0</td>\n",
       "    </tr>\n",
       "    <tr>\n",
       "      <th>4</th>\n",
       "      <td>84.0</td>\n",
       "      <td>14260</td>\n",
       "      <td>350.0</td>\n",
       "      <td>655.0</td>\n",
       "      <td>0.0</td>\n",
       "      <td>490.0</td>\n",
       "      <td>1145.0</td>\n",
       "      <td>1145</td>\n",
       "      <td>1053</td>\n",
       "      <td>0</td>\n",
       "      <td>...</td>\n",
       "      <td>0</td>\n",
       "      <td>1</td>\n",
       "      <td>0</td>\n",
       "      <td>0</td>\n",
       "      <td>0</td>\n",
       "      <td>0</td>\n",
       "      <td>1</td>\n",
       "      <td>1</td>\n",
       "      <td>0</td>\n",
       "      <td>0</td>\n",
       "    </tr>\n",
       "  </tbody>\n",
       "</table>\n",
       "<p>5 rows × 512 columns</p>\n",
       "</div>"
      ],
      "text/plain": [
       "   LotFrontage  LotArea  MasVnrArea  BsmtFinSF1  BsmtFinSF2  BsmtUnfSF  \\\n",
       "0         65.0     8450       196.0       706.0         0.0      150.0   \n",
       "1         80.0     9600         0.0       978.0         0.0      284.0   \n",
       "2         68.0    11250       162.0       486.0         0.0      434.0   \n",
       "3         60.0     9550         0.0       216.0         0.0      540.0   \n",
       "4         84.0    14260       350.0       655.0         0.0      490.0   \n",
       "\n",
       "   TotalBsmtSF  1stFlrSF  2ndFlrSF  LowQualFinSF  ...  YrSold_2007  \\\n",
       "0        856.0       856       854             0  ...            0   \n",
       "1       1262.0      1262         0             0  ...            1   \n",
       "2        920.0       920       866             0  ...            0   \n",
       "3        756.0       961       756             0  ...            0   \n",
       "4       1145.0      1145      1053             0  ...            0   \n",
       "\n",
       "   YrSold_2008  YrSold_2009  YrSold_2010  SaleType_New  SaleType_Other  \\\n",
       "0            1            0            0             0               0   \n",
       "1            0            0            0             0               0   \n",
       "2            1            0            0             0               0   \n",
       "3            0            0            0             0               0   \n",
       "4            1            0            0             0               0   \n",
       "\n",
       "   SaleType_WD  SaleCondition_Normal  SaleCondition_Other  \\\n",
       "0            1                     1                    0   \n",
       "1            1                     1                    0   \n",
       "2            1                     1                    0   \n",
       "3            1                     0                    0   \n",
       "4            1                     1                    0   \n",
       "\n",
       "   SaleCondition_Partial  \n",
       "0                      0  \n",
       "1                      0  \n",
       "2                      0  \n",
       "3                      0  \n",
       "4                      0  \n",
       "\n",
       "[5 rows x 512 columns]"
      ]
     },
     "execution_count": 97,
     "metadata": {},
     "output_type": "execute_result"
    }
   ],
   "source": [
    "data = pd.get_dummies(data, drop_first=True).reset_index(drop=True)\n",
    "data.head()"
   ]
  },
  {
   "cell_type": "markdown",
   "metadata": {},
   "source": [
    "We can see that we created way more columns than we were originally given, and this can be solved through Principal Component Analysis. Although this is beyond the scope of this module, I will still choose to implement it since I am a big fan of this technique.    \n",
    "\n",
    "Notice I didn't remove any columns yet for which I created my own dummy variables, such as `HasGarage`. I will let PCA tell me which features to keep for our final `X` matrix."
   ]
  },
  {
   "cell_type": "markdown",
   "metadata": {},
   "source": [
    "## Principal Component Analysis"
   ]
  },
  {
   "cell_type": "markdown",
   "metadata": {},
   "source": [
    "We can use `scikit-learn` to perform PCA. The first step is to scale the data using `StandardScaler` because it is a requirement for PCA. Before this step, we should resplit our data into train and test data."
   ]
  },
  {
   "cell_type": "code",
   "execution_count": 98,
   "metadata": {},
   "outputs": [],
   "source": [
    "X_train = data[:len(train)]\n",
    "X_test = data[len(train):]\n",
    "y = train[[\"SalePrice\"]]"
   ]
  },
  {
   "cell_type": "code",
   "execution_count": 99,
   "metadata": {},
   "outputs": [
    {
     "data": {
      "text/plain": [
       "array([[-0.23082236, -0.20714171,  0.51410389, ...,  0.4676514 ,\n",
       "        -0.15899968, -0.30599503],\n",
       "       [ 0.4380509 , -0.09188637, -0.57075013, ...,  0.4676514 ,\n",
       "        -0.15899968, -0.30599503],\n",
       "       [-0.09704771,  0.07347998,  0.32591493, ...,  0.4676514 ,\n",
       "        -0.15899968, -0.30599503],\n",
       "       ...,\n",
       "       [-0.18623081, -0.14781027, -0.57075013, ...,  0.4676514 ,\n",
       "        -0.15899968, -0.30599503],\n",
       "       [-0.09704771, -0.08016039, -0.57075013, ...,  0.4676514 ,\n",
       "        -0.15899968, -0.30599503],\n",
       "       [ 0.21509315, -0.05811155, -0.57075013, ...,  0.4676514 ,\n",
       "        -0.15899968, -0.30599503]])"
      ]
     },
     "execution_count": 99,
     "metadata": {},
     "output_type": "execute_result"
    }
   ],
   "source": [
    "sc = StandardScaler()\n",
    "X_train = sc.fit_transform(X_train)\n",
    "X_train"
   ]
  },
  {
   "cell_type": "markdown",
   "metadata": {},
   "source": [
    "Below, we are initializing the PCA tool from `scikit-learn`. The \"explained_variance\" variable is to be used to create a Pareto chart. We will choose the number of features at the elbow that explains the majority of the variance for our final `X`."
   ]
  },
  {
   "cell_type": "code",
   "execution_count": 100,
   "metadata": {},
   "outputs": [],
   "source": [
    "pca = PCA(n_components=len(data.columns.tolist()))\n",
    "X_train = pca.fit_transform(X_train)\n",
    "explained_variance = pca.explained_variance_ratio_"
   ]
  },
  {
   "cell_type": "code",
   "execution_count": 101,
   "metadata": {},
   "outputs": [
    {
     "data": {
      "image/png": "[encoded data removed]",
      "text/plain": [
       "<Figure size 432x288 with 1 Axes>"
      ]
     },
     "metadata": {},
     "output_type": "display_data"
    }
   ],
   "source": [
    "plt.figure()\n",
    "plt.plot(np.cumsum(explained_variance))\n",
    "plt.xlabel(\"Number of Components\")\n",
    "plt.ylabel(\"% of Variance\")\n",
    "plt.title(\"Explained Variance\")\n",
    "plt.show()"
   ]
  },
  {
   "cell_type": "markdown",
   "metadata": {},
   "source": [
    "**Insights:** We can see that with about 300 features, about 90% of the data is explained. Amazing! We can probably even do fewer since the goal is to achieve at least 80% of the variance explained."
   ]
  },
  {
   "cell_type": "markdown",
   "metadata": {},
   "source": [
    "Now we need to figure out which of these columns are the ones contributing the most to `SalePrice`."
   ]
  },
  {
   "cell_type": "code",
   "execution_count": 102,
   "metadata": {},
   "outputs": [
    {
     "data": {
      "text/html": [
       "<div>\n",
       "<style scoped>\n",
       "    .dataframe tbody tr th:only-of-type {\n",
       "        vertical-align: middle;\n",
       "    }\n",
       "\n",
       "    .dataframe tbody tr th {\n",
       "        vertical-align: top;\n",
       "    }\n",
       "\n",
       "    .dataframe thead th {\n",
       "        text-align: right;\n",
       "    }\n",
       "</style>\n",
       "<table border=\"1\" class=\"dataframe\">\n",
       "  <thead>\n",
       "    <tr style=\"text-align: right;\">\n",
       "      <th></th>\n",
       "      <th>Features</th>\n",
       "      <th>Variance Squared</th>\n",
       "    </tr>\n",
       "  </thead>\n",
       "  <tbody>\n",
       "    <tr>\n",
       "      <th>0</th>\n",
       "      <td>LotFrontage</td>\n",
       "      <td>0.001519</td>\n",
       "    </tr>\n",
       "    <tr>\n",
       "      <th>1</th>\n",
       "      <td>LotArea</td>\n",
       "      <td>0.000407</td>\n",
       "    </tr>\n",
       "    <tr>\n",
       "      <th>2</th>\n",
       "      <td>MasVnrArea</td>\n",
       "      <td>0.000269</td>\n",
       "    </tr>\n",
       "    <tr>\n",
       "      <th>3</th>\n",
       "      <td>BsmtFinSF1</td>\n",
       "      <td>0.000231</td>\n",
       "    </tr>\n",
       "    <tr>\n",
       "      <th>4</th>\n",
       "      <td>BsmtFinSF2</td>\n",
       "      <td>0.000193</td>\n",
       "    </tr>\n",
       "    <tr>\n",
       "      <th>...</th>\n",
       "      <td>...</td>\n",
       "      <td>...</td>\n",
       "    </tr>\n",
       "    <tr>\n",
       "      <th>245</th>\n",
       "      <td>YearRemodAdd_1961</td>\n",
       "      <td>0.000001</td>\n",
       "    </tr>\n",
       "    <tr>\n",
       "      <th>246</th>\n",
       "      <td>YearRemodAdd_1962</td>\n",
       "      <td>0.000001</td>\n",
       "    </tr>\n",
       "    <tr>\n",
       "      <th>247</th>\n",
       "      <td>YearRemodAdd_1963</td>\n",
       "      <td>0.000001</td>\n",
       "    </tr>\n",
       "    <tr>\n",
       "      <th>248</th>\n",
       "      <td>YearRemodAdd_1964</td>\n",
       "      <td>0.000001</td>\n",
       "    </tr>\n",
       "    <tr>\n",
       "      <th>249</th>\n",
       "      <td>YearRemodAdd_1965</td>\n",
       "      <td>0.000001</td>\n",
       "    </tr>\n",
       "  </tbody>\n",
       "</table>\n",
       "<p>250 rows × 2 columns</p>\n",
       "</div>"
      ],
      "text/plain": [
       "              Features  Variance Squared\n",
       "0          LotFrontage          0.001519\n",
       "1              LotArea          0.000407\n",
       "2           MasVnrArea          0.000269\n",
       "3           BsmtFinSF1          0.000231\n",
       "4           BsmtFinSF2          0.000193\n",
       "..                 ...               ...\n",
       "245  YearRemodAdd_1961          0.000001\n",
       "246  YearRemodAdd_1962          0.000001\n",
       "247  YearRemodAdd_1963          0.000001\n",
       "248  YearRemodAdd_1964          0.000001\n",
       "249  YearRemodAdd_1965          0.000001\n",
       "\n",
       "[250 rows x 2 columns]"
      ]
     },
     "execution_count": 102,
     "metadata": {},
     "output_type": "execute_result"
    }
   ],
   "source": [
    "# the number of features I think we should include in our regression\n",
    "# this is about 85% of the data\n",
    "# alternatively, we could try 300\n",
    "pca_num = 250\n",
    "\n",
    "pca_df = pd.concat([pd.DataFrame(data={\"Features\": data.columns.tolist()}), \n",
    "                   pd.DataFrame(data={\"Variance Squared\": explained_variance**2})], \n",
    "                   axis=1).sort_values(by=\"Variance Squared\", ascending=False)[0:pca_num]\n",
    "pca_df"
   ]
  },
  {
   "cell_type": "code",
   "execution_count": 103,
   "metadata": {},
   "outputs": [
    {
     "data": {
      "text/plain": [
       "0.9122797609932585"
      ]
     },
     "execution_count": 103,
     "metadata": {},
     "output_type": "execute_result"
    }
   ],
   "source": [
    "# How much of the variance we are explaining with pca_df\n",
    "np.sqrt(pca_df[\"Variance Squared\"]).sum()"
   ]
  },
  {
   "cell_type": "markdown",
   "metadata": {},
   "source": [
    "Let's make `X` now only contain the features that are in `pca_df`."
   ]
  },
  {
   "cell_type": "code",
   "execution_count": 104,
   "metadata": {},
   "outputs": [
    {
     "data": {
      "text/html": [
       "<div>\n",
       "<style scoped>\n",
       "    .dataframe tbody tr th:only-of-type {\n",
       "        vertical-align: middle;\n",
       "    }\n",
       "\n",
       "    .dataframe tbody tr th {\n",
       "        vertical-align: top;\n",
       "    }\n",
       "\n",
       "    .dataframe thead th {\n",
       "        text-align: right;\n",
       "    }\n",
       "</style>\n",
       "<table border=\"1\" class=\"dataframe\">\n",
       "  <thead>\n",
       "    <tr style=\"text-align: right;\">\n",
       "      <th></th>\n",
       "      <th>LotFrontage</th>\n",
       "      <th>LotArea</th>\n",
       "      <th>MasVnrArea</th>\n",
       "      <th>BsmtFinSF1</th>\n",
       "      <th>BsmtFinSF2</th>\n",
       "      <th>BsmtUnfSF</th>\n",
       "      <th>TotalBsmtSF</th>\n",
       "      <th>1stFlrSF</th>\n",
       "      <th>2ndFlrSF</th>\n",
       "      <th>LowQualFinSF</th>\n",
       "      <th>...</th>\n",
       "      <th>YearRemodAdd_1956</th>\n",
       "      <th>YearRemodAdd_1957</th>\n",
       "      <th>YearRemodAdd_1958</th>\n",
       "      <th>YearRemodAdd_1959</th>\n",
       "      <th>YearRemodAdd_1960</th>\n",
       "      <th>YearRemodAdd_1961</th>\n",
       "      <th>YearRemodAdd_1962</th>\n",
       "      <th>YearRemodAdd_1963</th>\n",
       "      <th>YearRemodAdd_1964</th>\n",
       "      <th>YearRemodAdd_1965</th>\n",
       "    </tr>\n",
       "  </thead>\n",
       "  <tbody>\n",
       "    <tr>\n",
       "      <th>0</th>\n",
       "      <td>65.0</td>\n",
       "      <td>8450</td>\n",
       "      <td>196.0</td>\n",
       "      <td>706.0</td>\n",
       "      <td>0.0</td>\n",
       "      <td>150.0</td>\n",
       "      <td>856.0</td>\n",
       "      <td>856</td>\n",
       "      <td>854</td>\n",
       "      <td>0</td>\n",
       "      <td>...</td>\n",
       "      <td>0</td>\n",
       "      <td>0</td>\n",
       "      <td>0</td>\n",
       "      <td>0</td>\n",
       "      <td>0</td>\n",
       "      <td>0</td>\n",
       "      <td>0</td>\n",
       "      <td>0</td>\n",
       "      <td>0</td>\n",
       "      <td>0</td>\n",
       "    </tr>\n",
       "    <tr>\n",
       "      <th>1</th>\n",
       "      <td>80.0</td>\n",
       "      <td>9600</td>\n",
       "      <td>0.0</td>\n",
       "      <td>978.0</td>\n",
       "      <td>0.0</td>\n",
       "      <td>284.0</td>\n",
       "      <td>1262.0</td>\n",
       "      <td>1262</td>\n",
       "      <td>0</td>\n",
       "      <td>0</td>\n",
       "      <td>...</td>\n",
       "      <td>0</td>\n",
       "      <td>0</td>\n",
       "      <td>0</td>\n",
       "      <td>0</td>\n",
       "      <td>0</td>\n",
       "      <td>0</td>\n",
       "      <td>0</td>\n",
       "      <td>0</td>\n",
       "      <td>0</td>\n",
       "      <td>0</td>\n",
       "    </tr>\n",
       "    <tr>\n",
       "      <th>2</th>\n",
       "      <td>68.0</td>\n",
       "      <td>11250</td>\n",
       "      <td>162.0</td>\n",
       "      <td>486.0</td>\n",
       "      <td>0.0</td>\n",
       "      <td>434.0</td>\n",
       "      <td>920.0</td>\n",
       "      <td>920</td>\n",
       "      <td>866</td>\n",
       "      <td>0</td>\n",
       "      <td>...</td>\n",
       "      <td>0</td>\n",
       "      <td>0</td>\n",
       "      <td>0</td>\n",
       "      <td>0</td>\n",
       "      <td>0</td>\n",
       "      <td>0</td>\n",
       "      <td>0</td>\n",
       "      <td>0</td>\n",
       "      <td>0</td>\n",
       "      <td>0</td>\n",
       "    </tr>\n",
       "    <tr>\n",
       "      <th>3</th>\n",
       "      <td>60.0</td>\n",
       "      <td>9550</td>\n",
       "      <td>0.0</td>\n",
       "      <td>216.0</td>\n",
       "      <td>0.0</td>\n",
       "      <td>540.0</td>\n",
       "      <td>756.0</td>\n",
       "      <td>961</td>\n",
       "      <td>756</td>\n",
       "      <td>0</td>\n",
       "      <td>...</td>\n",
       "      <td>0</td>\n",
       "      <td>0</td>\n",
       "      <td>0</td>\n",
       "      <td>0</td>\n",
       "      <td>0</td>\n",
       "      <td>0</td>\n",
       "      <td>0</td>\n",
       "      <td>0</td>\n",
       "      <td>0</td>\n",
       "      <td>0</td>\n",
       "    </tr>\n",
       "    <tr>\n",
       "      <th>4</th>\n",
       "      <td>84.0</td>\n",
       "      <td>14260</td>\n",
       "      <td>350.0</td>\n",
       "      <td>655.0</td>\n",
       "      <td>0.0</td>\n",
       "      <td>490.0</td>\n",
       "      <td>1145.0</td>\n",
       "      <td>1145</td>\n",
       "      <td>1053</td>\n",
       "      <td>0</td>\n",
       "      <td>...</td>\n",
       "      <td>0</td>\n",
       "      <td>0</td>\n",
       "      <td>0</td>\n",
       "      <td>0</td>\n",
       "      <td>0</td>\n",
       "      <td>0</td>\n",
       "      <td>0</td>\n",
       "      <td>0</td>\n",
       "      <td>0</td>\n",
       "      <td>0</td>\n",
       "    </tr>\n",
       "  </tbody>\n",
       "</table>\n",
       "<p>5 rows × 250 columns</p>\n",
       "</div>"
      ],
      "text/plain": [
       "   LotFrontage  LotArea  MasVnrArea  BsmtFinSF1  BsmtFinSF2  BsmtUnfSF  \\\n",
       "0         65.0     8450       196.0       706.0         0.0      150.0   \n",
       "1         80.0     9600         0.0       978.0         0.0      284.0   \n",
       "2         68.0    11250       162.0       486.0         0.0      434.0   \n",
       "3         60.0     9550         0.0       216.0         0.0      540.0   \n",
       "4         84.0    14260       350.0       655.0         0.0      490.0   \n",
       "\n",
       "   TotalBsmtSF  1stFlrSF  2ndFlrSF  LowQualFinSF  ...  YearRemodAdd_1956  \\\n",
       "0        856.0       856       854             0  ...                  0   \n",
       "1       1262.0      1262         0             0  ...                  0   \n",
       "2        920.0       920       866             0  ...                  0   \n",
       "3        756.0       961       756             0  ...                  0   \n",
       "4       1145.0      1145      1053             0  ...                  0   \n",
       "\n",
       "   YearRemodAdd_1957  YearRemodAdd_1958  YearRemodAdd_1959  YearRemodAdd_1960  \\\n",
       "0                  0                  0                  0                  0   \n",
       "1                  0                  0                  0                  0   \n",
       "2                  0                  0                  0                  0   \n",
       "3                  0                  0                  0                  0   \n",
       "4                  0                  0                  0                  0   \n",
       "\n",
       "   YearRemodAdd_1961  YearRemodAdd_1962  YearRemodAdd_1963  YearRemodAdd_1964  \\\n",
       "0                  0                  0                  0                  0   \n",
       "1                  0                  0                  0                  0   \n",
       "2                  0                  0                  0                  0   \n",
       "3                  0                  0                  0                  0   \n",
       "4                  0                  0                  0                  0   \n",
       "\n",
       "   YearRemodAdd_1965  \n",
       "0                  0  \n",
       "1                  0  \n",
       "2                  0  \n",
       "3                  0  \n",
       "4                  0  \n",
       "\n",
       "[5 rows x 250 columns]"
      ]
     },
     "execution_count": 104,
     "metadata": {},
     "output_type": "execute_result"
    }
   ],
   "source": [
    "pca_features = pca_df[\"Features\"].tolist()\n",
    "X_new = data.loc[:, pca_features]\n",
    "X_new.head()"
   ]
  },
  {
   "cell_type": "markdown",
   "metadata": {},
   "source": [
    "We can resplit the data with the proper features that we can now model with."
   ]
  },
  {
   "cell_type": "code",
   "execution_count": 105,
   "metadata": {},
   "outputs": [],
   "source": [
    "# our edited train set\n",
    "X = X_new[:len(train)]\n",
    "\n",
    "# our edited test set\n",
    "test2 = X_new[len(train):]"
   ]
  },
  {
   "cell_type": "markdown",
   "metadata": {},
   "source": [
    "## First ML Model: Ridge Regression"
   ]
  },
  {
   "cell_type": "markdown",
   "metadata": {},
   "source": [
    "The first thing we should do before building our regression model is splitting our `X` dataframe. Notice that `X` is just our training set that has been cleaned and feature engineered. We want to split our training set into a train and validation set so that we are able to test our model on that validation set before submitting to Kaggle."
   ]
  },
  {
   "cell_type": "markdown",
   "metadata": {},
   "source": [
    "### Ridge Regression\n",
    "Let's use Ridge Regression first. The reason we want to do this is because it is better to model data that may suffer from collinearity. We saw that some variables may very well depend on one another (such as \"TotalSF\").    \n",
    "\n",
    "To build a strong Ridge Regression model, we can use `GridSearchCV` to determine what is the best alpha value for ridge."
   ]
  },
  {
   "cell_type": "code",
   "execution_count": 106,
   "metadata": {},
   "outputs": [],
   "source": [
    "def create_model(X, y, test_set, model, model_type, param_grid):\n",
    "    \"\"\"\n",
    "    This creates the best model given a basic model, such as Ridge, Lasso, or ElasticNet. We pass in a param_grid\n",
    "    for GridSearchCV for reproducibility. \n",
    "    \n",
    "    Inputs:\n",
    "        X: our feature matrix\n",
    "        y: our predictor vector, the log of \"SalePrice\"\n",
    "        test_set: our test matrix that we wish to predict on, containing the same features as X\n",
    "        model: an sklearn model, set with random_state=42 for reproducibility\n",
    "        model_type: str, one of [\"ridge\", \"lasso\", \"lasso-unselected-feats\", \"elastic-net\", \"random-forest\"]\n",
    "    \"\"\"\n",
    "    ## SETUP\n",
    "    # Only allowing 30% of the data go into testing\n",
    "    X_train, X_test, y_train, y_test = train_test_split(X, y, test_size=0.3, random_state=42) # for reproducibility\n",
    "\n",
    "    print(\"Train shapes:\")\n",
    "    print(f\"X_train: {X_train.shape}\")\n",
    "    print(f\"y_train: {y_train.shape}\")\n",
    "\n",
    "    print(\"\\nTest shapes:\")\n",
    "    print(f\"X_test: {X_test.shape}\")\n",
    "    print(f\"y_test: {y_test.shape}\")\n",
    "\n",
    "    # Instantiate the GridSearchCV object: model_cv\n",
    "    model_cv = GridSearchCV(model, param_grid=param_grid, cv=5)\n",
    "\n",
    "    # Fit it to the data\n",
    "    model_cv.fit(X_train, y_train)\n",
    "\n",
    "    # Print the tuned parameter and score\n",
    "    print(f\"\\nTuned {model_type} Regression Parameters: {model_cv.best_params_}\")\n",
    "    print(f\"Best score is {model_cv.best_score_}\")\n",
    "    \n",
    "    ## EVALUATION\n",
    "    y_train_pred = model_cv.predict(X_train)\n",
    "    y_test_pred = model_cv.predict(X_test)\n",
    "    \n",
    "    fig, axes = plt.subplots(2, 1, figsize=(15,15))\n",
    "    # visualizing how well we predicted on training\n",
    "    axes[0].scatter(y_train, y_train_pred)\n",
    "    axes[0].set_title(f\"{model_type} Train: True vs. Predicted\")\n",
    "    axes[0].set_xlabel(\"Train Values\")\n",
    "    axes[0].set_ylabel(\"Predicted Train Values\")\n",
    "    \n",
    "    # visualizing how well we predicted on validation\n",
    "    axes[1].scatter(y_test, y_test_pred)\n",
    "    axes[1].set_title(f\"{model_type} Validation: True vs. Predicted\")\n",
    "    axes[1].set_xlabel(\"Test Values\")\n",
    "    axes[1].set_ylabel(\"Predicted Test Values\")\n",
    "    \n",
    "    plt.show();\n",
    "    \n",
    "    # printing metrics information\n",
    "    print(f\"\\n{model_type} Mean Absolute Error: {metrics.mean_absolute_error(y_test, y_test_pred)}\")\n",
    "    print(f\"{model_type} Mean Squared Error: {metrics.mean_squared_error(y_test, y_test_pred)}\")\n",
    "    print(f\"** {model_type} Root Mean Squared Error **: {np.sqrt(metrics.mean_squared_error(y_test, y_test_pred))}\")\n",
    "    print((f\"{model_type} Root Mean Squared Logarithmic \\\n",
    "    Error: {np.sqrt(metrics.mean_squared_log_error(y_test, y_test_pred))}\"))\n",
    "    \n",
    "    ## TEST PREDICTIONS\n",
    "    # creating our test submissions and a csv file to submit to Kaggle\n",
    "    # First, we have to fit to our entire training data, and then predict on our test set\n",
    "    # We also need to change the SalePrice value back to its original, non-logarithmic form\n",
    "    test_submit = 0\n",
    "    if \"ridge\" in model_type:\n",
    "        model_cv.fit(X, y)\n",
    "        test_pred = model_cv.predict(test_set)\n",
    "        test_pred = np.expm1(test_pred)\n",
    "        test_pred2 = []\n",
    "        for i in np.arange(len(test_pred)):\n",
    "            test_pred2.append(test_pred[i][0])\n",
    "\n",
    "        assert len(test_pred2) == len(test_set)\n",
    "        test_submit = pd.DataFrame(data={\"Id\": test_id.tolist(), \"SalePrice\": test_pred2})\n",
    "        print()\n",
    "        print(test_submit.head())\n",
    "    else:\n",
    "        model_cv.fit(X, y)\n",
    "        test_pred = model_cv.predict(test_set)\n",
    "        test_pred = np.expm1(test_pred)\n",
    "\n",
    "        assert len(test_pred) == len(test_set)\n",
    "        test_submit = pd.DataFrame(data={\"Id\": test_id.tolist(), \"SalePrice\": test_pred})\n",
    "        print()\n",
    "        print(test_submit.head())\n",
    "    \n",
    "    test_submit.to_csv(f\"{model_type}-regression.csv\", index=False)"
   ]
  },
  {
   "cell_type": "code",
   "execution_count": 107,
   "metadata": {},
   "outputs": [
    {
     "name": "stdout",
     "output_type": "stream",
     "text": [
      "Train shapes:\n",
      "X_train: (1022, 250)\n",
      "y_train: (1022, 1)\n",
      "\n",
      "Test shapes:\n",
      "X_test: (438, 250)\n",
      "y_test: (438, 1)\n",
      "\n",
      "Tuned ridge Regression Parameters: {'alpha': 0.7000000000000001, 'fit_intercept': True, 'normalize': True}\n",
      "Best score is 0.81633361632467\n"
     ]
    },
    {
     "data": {
      "image/png": "[encoded data removed]",
      "text/plain": [
       "<Figure size 1080x1080 with 2 Axes>"
      ]
     },
     "metadata": {},
     "output_type": "display_data"
    },
    {
     "name": "stdout",
     "output_type": "stream",
     "text": [
      "\n",
      "ridge Mean Absolute Error: 0.09640656047381022\n",
      "ridge Mean Squared Error: 0.020527403085428605\n",
      "** ridge Root Mean Squared Error **: 0.1432738743994473\n",
      "ridge Root Mean Squared Logarithmic     Error: 0.011190715424308419\n",
      "\n",
      "     Id      SalePrice\n",
      "0  1461  113161.597033\n",
      "1  1462  147033.155893\n",
      "2  1463  176073.459462\n",
      "3  1464  195606.784386\n",
      "4  1465  199854.452703\n"
     ]
    }
   ],
   "source": [
    "# Setup the hyperparameter grid\n",
    "alph = np.arange(0, 10.1, 0.1)\n",
    "fit_intercept = np.array([True, False])\n",
    "normalize = np.array([True, False])\n",
    "param_grid = {'alpha': alph, \"fit_intercept\": fit_intercept, \"normalize\": normalize}\n",
    "\n",
    "create_model(X, y, test2, model=Ridge(random_state=42), model_type=\"ridge\", param_grid=param_grid)"
   ]
  },
  {
   "cell_type": "markdown",
   "metadata": {},
   "source": [
    "Notice that Kaggle looks at the Root Mean Squared Logarithmic Error, but I also wanted to print out other metrics.  \n",
    "  \n",
    "We can see that we did pretty well when predicting the training set, except for a few outliers. We still did very well on the test set as well. We see that really low values are not doing the best at predictions.    \n",
    "\n",
    "Seems like we have a very low error! Great, let's use this for predictions and submit to Kaggle. "
   ]
  },
  {
   "cell_type": "markdown",
   "metadata": {},
   "source": [
    "What score does this give us on Kaggle? Remember, the smaller the better!  \n",
    "- **0.14855**"
   ]
  },
  {
   "cell_type": "markdown",
   "metadata": {},
   "source": [
    "## Second ML Model: Lasso Regression"
   ]
  },
  {
   "cell_type": "markdown",
   "metadata": {},
   "source": [
    "Lasso regression makes some coefficients exactly 0. This may or may not be useful for this problem, but I wanted to try it out to see how it compares to Ridge."
   ]
  },
  {
   "cell_type": "code",
   "execution_count": 108,
   "metadata": {},
   "outputs": [
    {
     "name": "stdout",
     "output_type": "stream",
     "text": [
      "Train shapes:\n",
      "X_train: (1022, 250)\n",
      "y_train: (1022, 1)\n",
      "\n",
      "Test shapes:\n",
      "X_test: (438, 250)\n",
      "y_test: (438, 1)\n",
      "\n",
      "Tuned lasso Regression Parameters: {'alpha': 1.5000000000000002, 'fit_intercept': True, 'normalize': False}\n",
      "Best score is 0.6055893302155447\n"
     ]
    },
    {
     "data": {
      "image/png": "[encoded data removed]",
      "text/plain": [
       "<Figure size 1080x1080 with 2 Axes>"
      ]
     },
     "metadata": {},
     "output_type": "display_data"
    },
    {
     "name": "stdout",
     "output_type": "stream",
     "text": [
      "\n",
      "lasso Mean Absolute Error: 0.14840523757181062\n",
      "lasso Mean Squared Error: 0.04347949141702717\n",
      "** lasso Root Mean Squared Error **: 0.20851736478535107\n",
      "lasso Root Mean Squared Logarithmic     Error: 0.016223135267555495\n",
      "\n",
      "     Id      SalePrice\n",
      "0  1461  157135.592134\n",
      "1  1462  163836.549136\n",
      "2  1463  180687.569217\n",
      "3  1464  183982.046740\n",
      "4  1465  163663.957722\n"
     ]
    }
   ],
   "source": [
    "# Setup the hyperparameter grid\n",
    "alph = np.arange(0.1, 10.1, 0.1)\n",
    "fit_intercept = np.array([True, False])\n",
    "normalize = np.array([True, False])\n",
    "param_grid = {'alpha': alph, \"fit_intercept\": fit_intercept, \"normalize\": normalize}\n",
    "\n",
    "# had to increase max_iter from the default 1000 to 25000 because it would not converge\n",
    "create_model(X, y, test2, model=Lasso(random_state=42, max_iter=25000), model_type=\"lasso\", param_grid=param_grid)"
   ]
  },
  {
   "cell_type": "markdown",
   "metadata": {},
   "source": [
    "**Insights:** Clearly, Lasso is not doing very well. The score is much lower than Ridge and the Root Mean Squared Logarithmic Error is also higher than Ridge. It seems like Lasso performed well on the test set, but not very well on the training set. I'll submit this to Kaggle just to compare."
   ]
  },
  {
   "cell_type": "markdown",
   "metadata": {},
   "source": [
    "What score does this give us on Kaggle? Remember, the smaller the better!  \n",
    "- **0.22671**  \n",
    "We clearly did worse! Lasso is not the way to go in this situation."
   ]
  },
  {
   "cell_type": "markdown",
   "metadata": {},
   "source": [
    "## Third ML Model: Elastic Net Regression"
   ]
  },
  {
   "cell_type": "markdown",
   "metadata": {},
   "source": [
    "Elastic Net is a combination of Lasso and Ridge, so maybe this could potentially make our model more accurate. Let's give it a try. First, we will ensure that we are using `X` with selected features from PCA."
   ]
  },
  {
   "cell_type": "code",
   "execution_count": 109,
   "metadata": {},
   "outputs": [
    {
     "name": "stdout",
     "output_type": "stream",
     "text": [
      "Train shapes:\n",
      "X_train: (1022, 250)\n",
      "y_train: (1022, 1)\n",
      "\n",
      "Test shapes:\n",
      "X_test: (438, 250)\n",
      "y_test: (438, 1)\n",
      "\n",
      "Tuned elastic-net Regression Parameters: {'alpha': 3.0000000000000004, 'fit_intercept': True, 'normalize': False}\n",
      "Best score is 0.6055896785398815\n"
     ]
    },
    {
     "data": {
      "image/png": "[encoded data removed]",
      "text/plain": [
       "<Figure size 1080x1080 with 2 Axes>"
      ]
     },
     "metadata": {},
     "output_type": "display_data"
    },
    {
     "name": "stdout",
     "output_type": "stream",
     "text": [
      "\n",
      "elastic-net Mean Absolute Error: 0.14840539374477094\n",
      "elastic-net Mean Squared Error: 0.043479437916934274\n",
      "** elastic-net Root Mean Squared Error **: 0.20851723649841103\n",
      "elastic-net Root Mean Squared Logarithmic     Error: 0.016223128470221268\n",
      "\n",
      "     Id      SalePrice\n",
      "0  1461  157358.570289\n",
      "1  1462  163691.752849\n",
      "2  1463  180758.206656\n",
      "3  1464  184185.042352\n",
      "4  1465  164028.614354\n"
     ]
    }
   ],
   "source": [
    "# had to increase max_iter from the default 1000 to 70000 because it would not converge\n",
    "create_model(X, y, test2, model=ElasticNet(random_state=42, max_iter=70000), model_type=\"elastic-net\", \n",
    "             param_grid=param_grid)"
   ]
  },
  {
   "cell_type": "markdown",
   "metadata": {},
   "source": [
    "What score does this give us on Kaggle? Remember, the smaller the better!  \n",
    "- **0.22668**  \n",
    "ElasticNet did a bit better than Lasso, but still not good compared to Ridge."
   ]
  },
  {
   "cell_type": "markdown",
   "metadata": {},
   "source": [
    "## Fourth ML Model: Random Forest Regression"
   ]
  },
  {
   "cell_type": "markdown",
   "metadata": {},
   "source": [
    "I want to try a random forest regression because it not only predicts future values very well, but it also tends to be extremely accurate. Like the other models we have created, we will find the best parameters through GridSearchCV."
   ]
  },
  {
   "cell_type": "code",
   "execution_count": 110,
   "metadata": {},
   "outputs": [
    {
     "name": "stdout",
     "output_type": "stream",
     "text": [
      "Train shapes:\n",
      "X_train: (1022, 250)\n",
      "y_train: (1022,)\n",
      "\n",
      "Test shapes:\n",
      "X_test: (438, 250)\n",
      "y_test: (438,)\n",
      "\n",
      "Tuned random-forest-250 Regression Parameters: {'n_estimators': 94}\n",
      "Best score is 0.8300680275780419\n"
     ]
    },
    {
     "data": {
      "image/png": "[encoded data removed]",
      "text/plain": [
       "<Figure size 1080x1080 with 2 Axes>"
      ]
     },
     "metadata": {},
     "output_type": "display_data"
    },
    {
     "name": "stdout",
     "output_type": "stream",
     "text": [
      "\n",
      "random-forest-250 Mean Absolute Error: 0.10725358884215226\n",
      "random-forest-250 Mean Squared Error: 0.02410007587942705\n",
      "** random-forest-250 Root Mean Squared Error **: 0.15524199135358657\n",
      "random-forest-250 Root Mean Squared Logarithmic     Error: 0.012172690702655059\n",
      "\n",
      "     Id      SalePrice\n",
      "0  1461  122157.350361\n",
      "1  1462  158530.942468\n",
      "2  1463  181728.943505\n",
      "3  1464  181274.808185\n",
      "4  1465  194815.376270\n"
     ]
    }
   ],
   "source": [
    "# Setup the hyperparameter grid for random forest regression\n",
    "n_est = np.arange(10, 150)\n",
    "#max_dep = np.arange(1, 100)\n",
    "# \"max_depth\": max_dep}\n",
    "param_grid = {'n_estimators': n_est}\n",
    "\n",
    "# create the model\n",
    "create_model(X, np.array(y[\"SalePrice\"].tolist()), test2, model=RandomForestRegressor(random_state=42), \n",
    "             model_type=\"random-forest-250\", param_grid=param_grid)"
   ]
  },
  {
   "cell_type": "markdown",
   "metadata": {},
   "source": [
    "**Insights:** We see that Random Forest is predicting the outliers in a better way based on the scatter plot, but our Root Mean Squared Logarithmic Error is somehow higher. Maybe because it is not predicting low test values well."
   ]
  },
  {
   "cell_type": "markdown",
   "metadata": {},
   "source": [
    "What score does this give us on Kaggle? Remember, the smaller the better!  \n",
    "- **0.16484**  \n",
    "Although this is much better than Lasso and ElasticNet, this is still not better than Ridge regression. Maybe we could select more features, which I will try below."
   ]
  },
  {
   "cell_type": "markdown",
   "metadata": {},
   "source": [
    "### Random Forest Take 2: More Features\n",
    "Previously, I selected 250 features for our feature matrix `X` because these many features explained roughly 85% of the data. Maybe we should instead select 300 or 350 to achieve a higher accuracy. I must caution that this may cause overfitting, but we'll see what happens!"
   ]
  },
  {
   "cell_type": "code",
   "execution_count": 111,
   "metadata": {},
   "outputs": [],
   "source": [
    "def create_feature_matrix(pca_num):\n",
    "    \"\"\"\n",
    "    Creates our feature matrix for our regression models based on how many features we would like to include.\n",
    "    \n",
    "    Inputs:\n",
    "        pca_num: int, how many features we want in our feature matrix\n",
    "        \n",
    "    Outputs:\n",
    "        X: our feature matrix for training our models\n",
    "        test2: a second version of our test set that only contains the same features as X\n",
    "    \"\"\"\n",
    "    # creating a df sorted by variance explained squared to select our top pca_num features\n",
    "    pca_df = pd.concat([pd.DataFrame(data={\"Features\": data.columns.tolist()}), \n",
    "                   pd.DataFrame(data={\"Variance Squared\": explained_variance**2})], \n",
    "                   axis=1).sort_values(by=\"Variance Squared\", ascending=False)[0:pca_num]\n",
    "    \n",
    "    print()\n",
    "    print(pca_df.head())\n",
    "    \n",
    "    # How much of the variance we are explaining with pca_df\n",
    "    var_squared = np.sqrt(pca_df[\"Variance Squared\"]).sum()\n",
    "    print(f\"\\nVariance explained: {var_squared}\")\n",
    "    \n",
    "    # creating the feature matrix based on top pca_num features that explain the most variance\n",
    "    pca_features = pca_df[\"Features\"].tolist()\n",
    "    X_new = data.loc[:, pca_features]\n",
    "    \n",
    "    ## splitting our edited train and test sets\n",
    "    # our edited train set\n",
    "    X = X_new[:len(train)]\n",
    "\n",
    "    # our edited test set\n",
    "    test2 = X_new[len(train):]\n",
    "    \n",
    "    return (X, test2)"
   ]
  },
  {
   "cell_type": "code",
   "execution_count": 112,
   "metadata": {},
   "outputs": [
    {
     "name": "stdout",
     "output_type": "stream",
     "text": [
      "\n",
      "      Features  Variance Squared\n",
      "0  LotFrontage          0.001519\n",
      "1      LotArea          0.000407\n",
      "2   MasVnrArea          0.000269\n",
      "3   BsmtFinSF1          0.000231\n",
      "4   BsmtFinSF2          0.000193\n",
      "\n",
      "Variance explained: 0.9540097429413645\n"
     ]
    }
   ],
   "source": [
    "X, test2 = create_feature_matrix(300)"
   ]
  },
  {
   "cell_type": "code",
   "execution_count": 114,
   "metadata": {},
   "outputs": [
    {
     "name": "stdout",
     "output_type": "stream",
     "text": [
      "Train shapes:\n",
      "X_train: (1022, 300)\n",
      "y_train: (1022,)\n",
      "\n",
      "Test shapes:\n",
      "X_test: (438, 300)\n",
      "y_test: (438,)\n",
      "\n",
      "Tuned random-forest-300 Regression Parameters: {'n_estimators': 95}\n",
      "Best score is 0.8293615413863165\n"
     ]
    },
    {
     "data": {
      "image/png": "[encoded data removed]",
      "text/plain": [
       "<Figure size 1080x1080 with 2 Axes>"
      ]
     },
     "metadata": {},
     "output_type": "display_data"
    },
    {
     "name": "stdout",
     "output_type": "stream",
     "text": [
      "\n",
      "random-forest-300 Mean Absolute Error: 0.10641451924309726\n",
      "random-forest-300 Mean Squared Error: 0.024212373776787616\n",
      "** random-forest-300 Root Mean Squared Error **: 0.15560325760339214\n",
      "random-forest-300 Root Mean Squared Logarithmic     Error: 0.012196329598854961\n",
      "\n",
      "     Id      SalePrice\n",
      "0  1461  121453.498876\n",
      "1  1462  155597.287651\n",
      "2  1463  186753.110448\n",
      "3  1464  181311.912686\n",
      "4  1465  194134.222254\n"
     ]
    }
   ],
   "source": [
    "# create the model with same param_grid from the last random forest regressor\n",
    "create_model(X, np.array(y[\"SalePrice\"].tolist()), test2, model=RandomForestRegressor(random_state=42), \n",
    "             model_type=\"random-forest-300\", param_grid=param_grid)"
   ]
  },
  {
   "cell_type": "markdown",
   "metadata": {},
   "source": [
    "**Insights:** The Root Mean Squared Error increased. The training data looks great in terms of prediction but the test is not doing so well. "
   ]
  },
  {
   "cell_type": "markdown",
   "metadata": {},
   "source": [
    "What score does this give us on Kaggle? Remember, the smaller the better!  \n",
    "- **0.16663**  \n",
    "This has gotten worse, meaning that Random Forest is not doing well as we increase the number of features in our training set. Let's try Ridge regression again with the increased number of features."
   ]
  },
  {
   "cell_type": "markdown",
   "metadata": {},
   "source": [
    "## Second to Last Model: Back to Ridge Regression\n",
    "Random forests seem to not be doing too well, even as we added features. Our best model was Ridge Regression, so we should try to create a new model with the same 300 features we just created for our previous random forest model."
   ]
  },
  {
   "cell_type": "code",
   "execution_count": 115,
   "metadata": {},
   "outputs": [
    {
     "name": "stdout",
     "output_type": "stream",
     "text": [
      "Train shapes:\n",
      "X_train: (1022, 300)\n",
      "y_train: (1022, 1)\n",
      "\n",
      "Test shapes:\n",
      "X_test: (438, 300)\n",
      "y_test: (438, 1)\n",
      "\n",
      "Tuned ridge-300 Regression Parameters: {'alpha': 1.0, 'fit_intercept': True, 'normalize': True}\n",
      "Best score is 0.8153557715945456\n"
     ]
    },
    {
     "data": {
      "image/png": "[encoded data removed]",
      "text/plain": [
       "<Figure size 1080x1080 with 2 Axes>"
      ]
     },
     "metadata": {},
     "output_type": "display_data"
    },
    {
     "name": "stdout",
     "output_type": "stream",
     "text": [
      "\n",
      "ridge-300 Mean Absolute Error: 0.09934051459966006\n",
      "ridge-300 Mean Squared Error: 0.02201795495837536\n",
      "** ridge-300 Root Mean Squared Error **: 0.14838448354991624\n",
      "ridge-300 Root Mean Squared Logarithmic     Error: 0.011571522823220076\n",
      "\n",
      "     Id      SalePrice\n",
      "0  1461  111567.992294\n",
      "1  1462  145972.954893\n",
      "2  1463  174039.823996\n",
      "3  1464  194240.965163\n",
      "4  1465  194744.210429\n"
     ]
    }
   ],
   "source": [
    "# Setup the hyperparameter grid\n",
    "alph = np.arange(0, 10.5, 0.5)\n",
    "fit_intercept = np.array([True, False])\n",
    "normalize = np.array([True, False])\n",
    "param_grid = {'alpha': alph, \"fit_intercept\": fit_intercept, \"normalize\": normalize}\n",
    "\n",
    "create_model(X, y, test2, model=Ridge(random_state=42), model_type=\"ridge-300\", param_grid=param_grid)"
   ]
  },
  {
   "cell_type": "markdown",
   "metadata": {},
   "source": [
    "What score does this give us on Kaggle? Remember, the smaller the better!  \n",
    "- **0.14894**  \n",
    "Wow! Ridge regression is definitely doing better than Random Forests, even though the scatterplot doesn't look very well fit. Maybe we are overfitting with random forests. Let's try Ridge again with 350 features now."
   ]
  },
  {
   "cell_type": "code",
   "execution_count": 116,
   "metadata": {},
   "outputs": [
    {
     "name": "stdout",
     "output_type": "stream",
     "text": [
      "\n",
      "      Features  Variance Squared\n",
      "0  LotFrontage          0.001519\n",
      "1      LotArea          0.000407\n",
      "2   MasVnrArea          0.000269\n",
      "3   BsmtFinSF1          0.000231\n",
      "4   BsmtFinSF2          0.000193\n",
      "\n",
      "Variance explained: 0.979337862186067\n"
     ]
    }
   ],
   "source": [
    "X, test2 = create_feature_matrix(350)"
   ]
  },
  {
   "cell_type": "code",
   "execution_count": 117,
   "metadata": {},
   "outputs": [
    {
     "name": "stdout",
     "output_type": "stream",
     "text": [
      "Train shapes:\n",
      "X_train: (1022, 350)\n",
      "y_train: (1022, 1)\n",
      "\n",
      "Test shapes:\n",
      "X_test: (438, 350)\n",
      "y_test: (438, 1)\n",
      "\n",
      "Tuned ridge-350 Regression Parameters: {'alpha': 1.0, 'fit_intercept': True, 'normalize': True}\n",
      "Best score is 0.8277546828438809\n"
     ]
    },
    {
     "data": {
      "image/png": "[encoded data removed]",
      "text/plain": [
       "<Figure size 1080x1080 with 2 Axes>"
      ]
     },
     "metadata": {},
     "output_type": "display_data"
    },
    {
     "name": "stdout",
     "output_type": "stream",
     "text": [
      "\n",
      "ridge-350 Mean Absolute Error: 0.0965699212571273\n",
      "ridge-350 Mean Squared Error: 0.02065726984931882\n",
      "** ridge-350 Root Mean Squared Error **: 0.14372637144699235\n",
      "ridge-350 Root Mean Squared Logarithmic     Error: 0.011210189101947729\n",
      "\n",
      "     Id      SalePrice\n",
      "0  1461  114091.188003\n",
      "1  1462  140321.886426\n",
      "2  1463  176302.843210\n",
      "3  1464  197407.831271\n",
      "4  1465  193715.566830\n"
     ]
    }
   ],
   "source": [
    "# # create the model with same param_grid from the last ridge regression\n",
    "create_model(X, y, test2, model=Ridge(random_state=42), model_type=\"ridge-350\", param_grid=param_grid)"
   ]
  },
  {
   "cell_type": "markdown",
   "metadata": {},
   "source": [
    "**Insights:** The scores are slowly improving because I see them decreasing as we add more features."
   ]
  },
  {
   "cell_type": "markdown",
   "metadata": {},
   "source": [
    "What score does this give us on Kaggle? Remember, the smaller the better!  \n",
    "- **0.14399**  \n",
    "This is a much better improvement from the Ridge regression model with 300 features!"
   ]
  },
  {
   "cell_type": "markdown",
   "metadata": {},
   "source": [
    "## Last Model: Trying Out XGBoost (for next time; I am running into errors)\n",
    "I want to try this model because I am seeing this as a common regressor for this Kaggle dataset when looking over the `Discussions` tab. Although we haven't learned it, I'd be curious to see how it acts on this model.    \n",
    "\n",
    "Reasons why we may want to use XGBoost (based on my Google searches):  \n",
    "- It is an ensemble learning model, meaning it combines base learners to create highly accurate models.  \n",
    "- An efficient implementation of gradient boosting.  \n",
    "- Constructed from decision tree models, making it highly accurate.\n",
    "\n",
    "First, I'll recreate my `create_model()` function because XGBoost requires us to transform the data into a DMatrix."
   ]
  },
  {
   "cell_type": "code",
   "execution_count": 118,
   "metadata": {},
   "outputs": [],
   "source": [
    "def create_model_xgboost(X, y, test_set, model, param_grid, model_type):\n",
    "    \"\"\"\n",
    "    This creates the best model given a basic XGBoost model. We pass in a param_grid\n",
    "    for GridSearchCV for reproducibility. \n",
    "    \n",
    "    Inputs:\n",
    "        X: our feature matrix\n",
    "        y: our predictor vector, the log of \"SalePrice\"\n",
    "        test_set: our test matrix that we wish to predict on, containing the same features as X\n",
    "        model: an sklearn model, set with random_state=42 for reproducibility\n",
    "        model_type: str, which should be \"xgboost\"\n",
    "    \"\"\"\n",
    "    ## SETUP\n",
    "    # Only allowing 30% of the data go into testing\n",
    "    X_train, X_test, y_train, y_test = train_test_split(X, y, test_size=0.3, random_state=42) # for reproducibility\n",
    "\n",
    "    print(\"Train shapes:\")\n",
    "    print(f\"X_train: {X_train.shape}\")\n",
    "    print(f\"y_train: {y_train.shape}\")\n",
    "\n",
    "    print(\"\\nTest shapes:\")\n",
    "    print(f\"X_test: {X_test.shape}\")\n",
    "    print(f\"y_test: {y_test.shape}\")\n",
    "    \n",
    "    # train and test set are converted to DMatrix objects, as it is required by learning API\n",
    "    # results in better accuracy\n",
    "    train_dmatrix = xg.DMatrix(data=X_train, label=y_train)\n",
    "    test_dmatrix = xg.DMatrix(data=X_test, label=y_test)\n",
    "\n",
    "    # Instantiate the GridSearchCV object: model_cv\n",
    "    model_cv = GridSearchCV(model, param_grid=param_grid, cv=5)\n",
    "\n",
    "    # Fit it to the data\n",
    "    model_cv.train(dtrain=train_dmatrix)\n",
    "\n",
    "    # Print the tuned parameter and score\n",
    "    print(f\"\\nTuned {model_type} Regression Parameters: {model_cv.best_params_}\")\n",
    "    print(f\"Best score is {model_cv.best_score_}\")\n",
    "    \n",
    "    ## EVALUATION\n",
    "    y_train_pred = model_cv.predict(train_dmatrix)\n",
    "    y_test_pred = model_cv.predict(test_dmatrix)\n",
    "    \n",
    "    fig, axes = plt.subplots(2, 1, figsize=(15,15))\n",
    "    # visualizing how well we predicted on training\n",
    "    axes[0].scatter(y_train, y_train_pred)\n",
    "    axes[0].set_title(f\"{model_type} Train: True vs. Predicted\")\n",
    "    axes[0].set_xlabel(\"Train Values\")\n",
    "    axes[0].set_ylabel(\"Predicted Train Values\")\n",
    "    \n",
    "    # visualizing how well we predicted on validation\n",
    "    axes[1].scatter(y_test, y_test_pred)\n",
    "    axes[1].set_title(f\"{model_type} Validation: True vs. Predicted\")\n",
    "    axes[1].set_xlabel(\"Test Values\")\n",
    "    axes[1].set_ylabel(\"Predicted Test Values\")\n",
    "    \n",
    "    plt.show();\n",
    "    \n",
    "    # printing metrics information\n",
    "    print(f\"\\n{model_type} Mean Absolute Error: {metrics.mean_absolute_error(y_test, y_test_pred)}\")\n",
    "    print(f\"{model_type} Mean Squared Error: {metrics.mean_squared_error(y_test, y_test_pred)}\")\n",
    "    print(f\"** {model_type} Root Mean Squared Error **: {np.sqrt(metrics.mean_squared_error(y_test, y_test_pred))}\")\n",
    "    print((f\"{model_type} Root Mean Squared Logarithmic \\\n",
    "    Error: {np.sqrt(metrics.mean_squared_log_error(y_test, y_test_pred))}\"))\n",
    "    \n",
    "    ## TEST PREDICTIONS\n",
    "    # first, transform our entire train (X) set into DMatrix\n",
    "    # then, also transform our test_set into DMatrix\n",
    "    # creating our test submissions and a csv file to submit to Kaggle\n",
    "    # First, we have to fit to our entire training data, and then predict on our test set\n",
    "    # We also need to change the SalePrice value back to its original, non-logarithmic form\n",
    "    train = xg.DMatrix(data=X, label=y)\n",
    "    test = xg.DMatrix(data=test_set)\n",
    "    \n",
    "    model_cv.train(dtrain=train)\n",
    "    test_pred = model_cv.predict(test_set)\n",
    "    test_pred = np.expm1(test_pred)\n",
    "\n",
    "    assert len(test_pred) == len(test_set)\n",
    "    test_submit = pd.DataFrame(data={\"Id\": test_id.tolist(), \"SalePrice\": test_pred})\n",
    "    print()\n",
    "    print(test_submit.head())\n",
    "    \n",
    "    test_submit.to_csv(f\"{model_type}-regression.csv\", index=False)"
   ]
  },
  {
   "cell_type": "markdown",
   "metadata": {},
   "source": [
    "### XGBoost with 250 Features"
   ]
  },
  {
   "cell_type": "code",
   "execution_count": 119,
   "metadata": {},
   "outputs": [
    {
     "name": "stdout",
     "output_type": "stream",
     "text": [
      "\n",
      "      Features  Variance Squared\n",
      "0  LotFrontage          0.001519\n",
      "1      LotArea          0.000407\n",
      "2   MasVnrArea          0.000269\n",
      "3   BsmtFinSF1          0.000231\n",
      "4   BsmtFinSF2          0.000193\n",
      "\n",
      "Variance explained: 0.9122797609932585\n"
     ]
    }
   ],
   "source": [
    "X, test2 = create_feature_matrix(250)"
   ]
  },
  {
   "cell_type": "code",
   "execution_count": 120,
   "metadata": {},
   "outputs": [],
   "source": [
    "# # Setup the hyperparameter grid\n",
    "# gamma = np.arange(0, 10.5, 0.5)\n",
    "# max_depth = np.arange(0, 11, 0.5)\n",
    "# min_child_weight = np.arange(0, 10.5, 0.5)\n",
    "# sub_sample = np.arange(0.1, 1.1, 0.1)\n",
    "# sampling_method = np.array([\"uniform\", \"gradient_based\"])\n",
    "# alpha = np.arange(0, 10.5, 0.5)\n",
    "# lambd = np.arange(0, 10.5, 0.5)\n",
    "\n",
    "# param_grid = {\"gamma\": gamma, \"max_depth\": max_depth, \"min_child_weight\": min_child_weight, \n",
    "#               \"subsample\": sub_sample, \"sampling_method\": sampling_method, \n",
    "#               \"alpha\": alpha, \"lambda\": lambd}\n",
    "\n",
    "# create_model(X, y, test2, model=xgb.XGBRegressor(seed=42), param_grid=param_grid, model_type=\"xgboost-250\")"
   ]
  },
  {
   "cell_type": "code",
   "execution_count": null,
   "metadata": {},
   "outputs": [],
   "source": []
  },
  {
   "cell_type": "markdown",
   "metadata": {},
   "source": [
    "### XGBoost with 300 Features"
   ]
  },
  {
   "cell_type": "code",
   "execution_count": 121,
   "metadata": {},
   "outputs": [],
   "source": [
    "# X, test2 = create_feature_matrix(300)"
   ]
  },
  {
   "cell_type": "code",
   "execution_count": 122,
   "metadata": {},
   "outputs": [],
   "source": [
    "# create_model(X, y, test2, model=xgb.XGBRegressor(seed=42), param_grid=param_grid, model_type=\"xgboost-300\")"
   ]
  },
  {
   "cell_type": "code",
   "execution_count": null,
   "metadata": {},
   "outputs": [],
   "source": []
  },
  {
   "cell_type": "markdown",
   "metadata": {},
   "source": [
    "### XGBoost with 350 Features"
   ]
  },
  {
   "cell_type": "code",
   "execution_count": 123,
   "metadata": {},
   "outputs": [],
   "source": [
    "# X, test2 = create_feature_matrix(350)"
   ]
  },
  {
   "cell_type": "code",
   "execution_count": 124,
   "metadata": {},
   "outputs": [],
   "source": [
    "# create_model(X, y, test2, model=xgb.XGBRegressor(seed=42), param_grid=param_grid, model_type=\"xgboost-350\")"
   ]
  },
  {
   "cell_type": "code",
   "execution_count": null,
   "metadata": {},
   "outputs": [],
   "source": []
  },
  {
   "cell_type": "markdown",
   "metadata": {},
   "source": [
    "# Conclusion"
   ]
  },
  {
   "cell_type": "markdown",
   "metadata": {},
   "source": [
    "Our best model so far is Ridge regression trained on the top 350 features that explain the most variance in the data. This resulted in our best score of 0.14399. In the future, I would like to improve my score by trying out different models, like XGBoost. I spent some time trying to get this to work with GridSearchCV, but have run into errors. For now, I am happy with my score!"
   ]
  },
  {
   "cell_type": "code",
   "execution_count": null,
   "metadata": {},
   "outputs": [],
   "source": []
  }
 ],
 "metadata": {
  "kernelspec": {
   "display_name": "Python 3",
   "language": "python",
   "name": "python3"
  }
 },
 "nbformat": 4,
 "nbformat_minor": 4
}
